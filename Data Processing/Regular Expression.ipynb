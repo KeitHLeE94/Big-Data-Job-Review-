{
 "cells": [
  {
   "cell_type": "markdown",
   "metadata": {},
   "source": [
    "# 정규 표현식"
   ]
  },
  {
   "cell_type": "markdown",
   "metadata": {},
   "source": [
    "데이터를 원하는 패턴에 맞게 검색, 수정하기 위해 사용."
   ]
  },
  {
   "cell_type": "markdown",
   "metadata": {},
   "source": [
    "___"
   ]
  },
  {
   "cell_type": "markdown",
   "metadata": {},
   "source": [
    "## Meta Characters"
   ]
  },
  {
   "cell_type": "markdown",
   "metadata": {},
   "source": [
    "### .\n",
    "- 어떤 문자나 상관없이 해당.\n",
    "- a.b: a와 b 사이에 어떤 문자라도 오는 패턴.\n",
    "- .x: x로 끝나는 패턴.\n",
    "\n",
    "### *\n",
    "- 최소 0번 이상 나오는 것.\n",
    "- a*b: ab, aab, aaab, aaaab, aaaaab, ...\n",
    "- .*: 모든 문자열.\n",
    "\n",
    "### +\n",
    "- 최소 1번 이상 나오는 것.\n",
    "- a+b: aab, aaab, aaaab, aaaaab, ...\n",
    "\n",
    "### {n, m}\n",
    "- 최소 n번, 최대 m번 나오는 것.\n",
    "- ab{1}c: abc\n",
    "- ab{2, 6}c: abbc, abbbc, abbbbc, abbbbbc, abbbbbbc\n",
    "\n",
    "### ?\n",
    "- 한번 나오거나 아예 나오지 않는 것.\n",
    "- ab?c, b{0, 1}: ac, abc\n",
    "\n",
    "### \\b(.*)\\b\n",
    "- 시작과 끝이 모두 문자(한글 제외)인 모든 표현.\n",
    "- 하나의 어절 단위로 찾는다.\n",
    "\n",
    "### \\B(.*)\\B\n",
    "- 시작과 끝을 제외한 모두가 문자인 모든 표현."
   ]
  },
  {
   "cell_type": "markdown",
   "metadata": {},
   "source": [
    "___"
   ]
  },
  {
   "cell_type": "markdown",
   "metadata": {},
   "source": [
    "## Character Classes"
   ]
  },
  {
   "cell_type": "markdown",
   "metadata": {},
   "source": [
    "### []\n",
    "- 대괄호 안의 문자들은 전부 or로 묶여있다.\n",
    "- [abc]: a나 b나 c가 들어간 모든 표현\n",
    "- [a-z]: 영문 소문자가 들어간 모든 표현\n",
    "- [^a-z]: 영문 소문자가 들어가지 않은 모든 표현\n",
    "- [a-zA-Z0-9]: 영문 소문자가 들어갔거나 영문 대문자가 들어갔거나 숫자가 들어간 모든 표현\n",
    "- [가-힣]: 한글 글자가 들어간 모든 표현\n",
    "- [\\d]: 숫자가 들어간 모든 표현\n",
    "- [\\D]: 문자가 들어간 모든 표현\n",
    "- [\\s]: white space(공백)가 들어간 모든 표현"
   ]
  },
  {
   "cell_type": "markdown",
   "metadata": {},
   "source": [
    "___"
   ]
  },
  {
   "cell_type": "markdown",
   "metadata": {},
   "source": [
    "## Anchors"
   ]
  },
  {
   "cell_type": "markdown",
   "metadata": {},
   "source": [
    "### ^\n",
    "- starting position(특정 문자로 시작)\n",
    "\n",
    "### $\n",
    "- ending position(특정 문자로 끝)"
   ]
  },
  {
   "cell_type": "markdown",
   "metadata": {},
   "source": [
    "___"
   ]
  },
  {
   "cell_type": "markdown",
   "metadata": {},
   "source": [
    "## Match Method"
   ]
  },
  {
   "cell_type": "markdown",
   "metadata": {},
   "source": [
    "예: stackoverflow라는 문자열이 주어졌을 때\n",
    "- s.*o 결과: stackoverflo(greedy reg expression: 조건을 만족하는 가장 큰 덩어리를 찾음)\n",
    "- s.*?o 결과: stacko(lazy reg expression: 조건을 만족하는 경우 바로 검색 종료)"
   ]
  },
  {
   "cell_type": "markdown",
   "metadata": {},
   "source": [
    "<([a-zA-Z][a-zA-Z0-9]*)>(.*?)<\\/\\1>\n",
    "\n",
    "= <(첫글자 영문자)(영어 or 숫자 0회 이상)>모든 문자 0회 이상</(첫글자 영문자)(영어 or 숫자 0회 이상)>\n",
    "\n",
    "= html 태그 찾는 expression.\n",
    "    * 예: <h1>Heading</h1>\n",
    "- \\/: /를 바로 사용할 수 없기에 \\ 뒤에 /을 붙여 사용.\n",
    "- \\1: 앞에서 정의한 조건을 뒤에서 그대로 사용."
   ]
  },
  {
   "cell_type": "markdown",
   "metadata": {},
   "source": [
    "## <([a-zA-Z][a-zA-Z0-9]*)[^>]'*'>(.*?)<\\/\\1>\n",
    "\n",
    "= <(첫글자 영문자)(영어 or 숫자 0회 이상)(>가 아닌 모든 문자 0회 이상)>모든 문자 0회 이상</(앞조건 반복)>\n",
    "\n",
    "= html 태그 + 속성값이 들어간 html 태그 검색 가능.\n",
    "    * 예: <h1 style=\"color:red\">Heading</h1>\n",
    "- [^>]*을 사용하여 태그가 닫히기 전 다른 문자가 존재하는 표현도 찾을 수 있다."
   ]
  },
  {
   "cell_type": "markdown",
   "metadata": {},
   "source": [
    "## (\\+?[0-9]{2}[\\s\\-]?)?0?1[0-9][\\s\\-]?[\\d]{4}[\\s\\-][\\d]{4}\n",
    "- +82-010-1234-5678\n",
    "- +82 010-1234-5678\n",
    "- +8210-1234-5678\n",
    "- 82-010-1234-5678\n",
    "- 82 010 1234 5678\n",
    "- 010-1234-5678\n",
    "- 전화번호(국가코드 포함+미포함) 검색 가능."
   ]
  },
  {
   "cell_type": "markdown",
   "metadata": {},
   "source": [
    "___"
   ]
  },
  {
   "cell_type": "markdown",
   "metadata": {},
   "source": [
    "## Regular Experssion In Python"
   ]
  },
  {
   "cell_type": "code",
   "execution_count": 1,
   "metadata": {},
   "outputs": [],
   "source": [
    "import re"
   ]
  },
  {
   "cell_type": "code",
   "execution_count": 10,
   "metadata": {},
   "outputs": [
    {
     "name": "stdout",
     "output_type": "stream",
     "text": [
      "<class '_sre.SRE_Pattern'>\n"
     ]
    }
   ],
   "source": [
    "content = \"Hello World\"\n",
    "\n",
    "dot = re.compile(\"(H..).(o..)\")\n",
    "print(type(dot))\n",
    "plus = re.compile(\"l+\")"
   ]
  },
  {
   "cell_type": "markdown",
   "metadata": {},
   "source": [
    "re.compile: regular expression pattern을 regular expression object로 저장."
   ]
  },
  {
   "cell_type": "code",
   "execution_count": 5,
   "metadata": {},
   "outputs": [
    {
     "data": {
      "text/plain": [
       "<_sre.SRE_Match object; span=(0, 7), match='Hello W'>"
      ]
     },
     "execution_count": 5,
     "metadata": {},
     "output_type": "execute_result"
    }
   ],
   "source": [
    "re.search(dot, content)"
   ]
  },
  {
   "cell_type": "code",
   "execution_count": 11,
   "metadata": {
    "scrolled": true
   },
   "outputs": [
    {
     "data": {
      "text/plain": [
       "<_sre.SRE_Match object; span=(2, 4), match='ll'>"
      ]
     },
     "execution_count": 11,
     "metadata": {},
     "output_type": "execute_result"
    }
   ],
   "source": [
    "re.search(plus, content)"
   ]
  },
  {
   "cell_type": "code",
   "execution_count": 14,
   "metadata": {},
   "outputs": [
    {
     "data": {
      "text/plain": [
       "<_sre.SRE_Match object; span=(6, 7), match='W'>"
      ]
     },
     "execution_count": 14,
     "metadata": {},
     "output_type": "execute_result"
    }
   ],
   "source": [
    "re.search('W', content)"
   ]
  },
  {
   "cell_type": "markdown",
   "metadata": {},
   "source": [
    "re.search: 패턴이 처음 일치하는 위치 반환."
   ]
  },
  {
   "cell_type": "code",
   "execution_count": 6,
   "metadata": {},
   "outputs": [
    {
     "data": {
      "text/plain": [
       "<_sre.SRE_Match object; span=(0, 7), match='Hello W'>"
      ]
     },
     "execution_count": 6,
     "metadata": {},
     "output_type": "execute_result"
    }
   ],
   "source": [
    "re.match(dot, content)"
   ]
  },
  {
   "cell_type": "code",
   "execution_count": 12,
   "metadata": {},
   "outputs": [],
   "source": [
    "re.match(plus, content)"
   ]
  },
  {
   "cell_type": "code",
   "execution_count": 13,
   "metadata": {},
   "outputs": [],
   "source": [
    "re.match('W', content)"
   ]
  },
  {
   "cell_type": "markdown",
   "metadata": {},
   "source": [
    "re.match: 문자열이 시작부터 패턴과 일치하는지 조사."
   ]
  },
  {
   "cell_type": "code",
   "execution_count": 15,
   "metadata": {},
   "outputs": [
    {
     "data": {
      "text/plain": [
       "['ll', 'l']"
      ]
     },
     "execution_count": 15,
     "metadata": {},
     "output_type": "execute_result"
    }
   ],
   "source": [
    "result = re.findall(plus, content)\n",
    "result"
   ]
  },
  {
   "cell_type": "markdown",
   "metadata": {},
   "source": [
    "re.findall: 문자열 내에서 패턴과 일치하는 모든 결과를 리스트로 저장."
   ]
  },
  {
   "cell_type": "code",
   "execution_count": 16,
   "metadata": {},
   "outputs": [],
   "source": [
    "data = \"\"\"\n",
    "park 800905-1111111\n",
    "kim 900719-2111111\n",
    "\"\"\""
   ]
  },
  {
   "cell_type": "code",
   "execution_count": 17,
   "metadata": {},
   "outputs": [
    {
     "data": {
      "text/plain": [
       "['800905-1111111', '900719-2111111']"
      ]
     },
     "execution_count": 17,
     "metadata": {},
     "output_type": "execute_result"
    }
   ],
   "source": [
    "pattern = re.compile(\"\\d{6}-\\d{7}\")\n",
    "\n",
    "re.findall(pattern, data)"
   ]
  },
  {
   "cell_type": "markdown",
   "metadata": {},
   "source": [
    "주민번호 검색"
   ]
  },
  {
   "cell_type": "code",
   "execution_count": 18,
   "metadata": {},
   "outputs": [
    {
     "data": {
      "text/plain": [
       "[('800905', '1111111'), ('900719', '2111111')]"
      ]
     },
     "execution_count": 18,
     "metadata": {},
     "output_type": "execute_result"
    }
   ],
   "source": [
    "pattern = re.compile(\"(\\d{6})-(\\d{7})\")\n",
    "\n",
    "re.findall(pattern, data)"
   ]
  },
  {
   "cell_type": "markdown",
   "metadata": {},
   "source": [
    "grouping: ()를 사용하여 주민번호 앞자리, 뒷자리 분리."
   ]
  },
  {
   "cell_type": "code",
   "execution_count": 19,
   "metadata": {},
   "outputs": [
    {
     "data": {
      "text/plain": [
       "[('800905', '1111111'), ('900719', '2111111')]"
      ]
     },
     "execution_count": 19,
     "metadata": {},
     "output_type": "execute_result"
    }
   ],
   "source": [
    "pattern.findall(data)"
   ]
  },
  {
   "cell_type": "markdown",
   "metadata": {},
   "source": [
    "같은 결과."
   ]
  },
  {
   "cell_type": "code",
   "execution_count": 20,
   "metadata": {},
   "outputs": [
    {
     "data": {
      "text/plain": [
       "'\\npark 800905-*******\\nkim 900719-*******\\n'"
      ]
     },
     "execution_count": 20,
     "metadata": {},
     "output_type": "execute_result"
    }
   ],
   "source": [
    "pattern.sub(\"\\g<1>-*******\", data)"
   ]
  },
  {
   "cell_type": "markdown",
   "metadata": {},
   "source": [
    "g<1>: 1번 group(주민번호 앞자리 검색) 활용\n",
    "\n",
    "-*******: 2번 group(주민번호 뒷자리 검색)은 검색 결과를 *******로 대체."
   ]
  },
  {
   "cell_type": "code",
   "execution_count": 21,
   "metadata": {},
   "outputs": [
    {
     "name": "stdout",
     "output_type": "stream",
     "text": [
      "<_sre.SRE_Match object; span=(0, 4), match='Crow'>\n"
     ]
    }
   ],
   "source": [
    "p = re.compile(\"Crow|Servo\")\n",
    "m = p.match('CrowHello')\n",
    "print(m)"
   ]
  },
  {
   "cell_type": "code",
   "execution_count": 22,
   "metadata": {},
   "outputs": [
    {
     "name": "stdout",
     "output_type": "stream",
     "text": [
      "<_sre.SRE_Match object; span=(0, 4), match='Life'>\n",
      "None\n",
      "<_sre.SRE_Match object; span=(3, 7), match='Life'>\n"
     ]
    }
   ],
   "source": [
    "print(re.search('^Life', 'Life is too short'))\n",
    "print(re.search('^Life', 'My Life'))\n",
    "print(re.search('Life', 'My Life'))"
   ]
  },
  {
   "cell_type": "markdown",
   "metadata": {},
   "source": [
    "^...: ...으로 시작하는 문자열 검색."
   ]
  },
  {
   "cell_type": "code",
   "execution_count": 23,
   "metadata": {},
   "outputs": [
    {
     "name": "stdout",
     "output_type": "stream",
     "text": [
      "<_sre.SRE_Match object; span=(12, 17), match='short'>\n",
      "None\n"
     ]
    }
   ],
   "source": [
    "print(re.search('short$', 'Life is too short'))\n",
    "print(re.search('My$', 'My Life'))"
   ]
  },
  {
   "cell_type": "markdown",
   "metadata": {},
   "source": [
    "$...: ...으로 끝나는 문자열 검색."
   ]
  },
  {
   "cell_type": "code",
   "execution_count": 24,
   "metadata": {},
   "outputs": [
    {
     "name": "stdout",
     "output_type": "stream",
     "text": [
      "<_sre.SRE_Match object; span=(0, 9), match='ABCABCABC'>\n",
      "ABCABCABC\n"
     ]
    }
   ],
   "source": [
    "p = re.compile(\"(ABC)+\")\n",
    "print(re.search(p, \"ABCABCABCA\"))\n",
    "print(re.search(p, \"ABCABCABCA\").group())"
   ]
  },
  {
   "cell_type": "code",
   "execution_count": 25,
   "metadata": {},
   "outputs": [
    {
     "name": "stdout",
     "output_type": "stream",
     "text": [
      "<_sre.SRE_Match object; span=(3, 8), match='class'>\n",
      "None\n",
      "None\n"
     ]
    }
   ],
   "source": [
    "p = re.compile(r'\\bclass\\b')\n",
    "print(re.search(p, \"no class at all\"))\n",
    "print(re.search(p, \"one subclass is\"))\n",
    "print(re.search(p, \"the declassified algorithm\"))"
   ]
  },
  {
   "cell_type": "markdown",
   "metadata": {},
   "source": [
    "\\bclass\\b: ' class '이 포함된 문자열 검색.(어절 단위로 잘라 단어 검색)\n",
    "\n",
    "r'\\b: 이스케이프 문자 사용시 r을 꼭 붙여줘야한다."
   ]
  },
  {
   "cell_type": "code",
   "execution_count": 26,
   "metadata": {},
   "outputs": [
    {
     "name": "stdout",
     "output_type": "stream",
     "text": [
      "None\n",
      "None\n",
      "<_sre.SRE_Match object; span=(6, 11), match='class'>\n"
     ]
    }
   ],
   "source": [
    "p = re.compile(r'\\Bclass\\B')\n",
    "print(re.search(p, \"no class at all\"))\n",
    "print(re.search(p, \"one subclass is\"))\n",
    "print(re.search(p, \"the declassified algorithm\"))"
   ]
  },
  {
   "cell_type": "markdown",
   "metadata": {},
   "source": [
    "\\Bclass\\B: '.+class.+' 패턴 검색(class 앞, 뒤에 문자가 존재하는 문자열 검색)"
   ]
  },
  {
   "cell_type": "code",
   "execution_count": 28,
   "metadata": {},
   "outputs": [
    {
     "name": "stdout",
     "output_type": "stream",
     "text": [
      "<_sre.SRE_Match object; span=(6, 20), match='800905-1111111'>\n",
      "800905-1111111\n",
      "800905\n",
      "1111111\n"
     ]
    }
   ],
   "source": [
    "pattern = re.compile(\"(\\d{6})-(\\d{7})\")\n",
    "data = \"\"\"\n",
    "park 800905-1111111\n",
    "kim 900719-2111111\n",
    "\"\"\"\n",
    "\n",
    "result = re.search(pattern, data)\n",
    "print(result)\n",
    "print(result.group())\n",
    "print(result.group(1))\n",
    "print(result.group(2))"
   ]
  },
  {
   "cell_type": "markdown",
   "metadata": {},
   "source": [
    "패턴 검색 결과를 grouping하여 indexing."
   ]
  },
  {
   "cell_type": "code",
   "execution_count": 29,
   "metadata": {},
   "outputs": [
    {
     "data": {
      "text/plain": [
       "<_sre.SRE_Match object; span=(0, 18), match='park 010-1234-1234'>"
      ]
     },
     "execution_count": 29,
     "metadata": {},
     "output_type": "execute_result"
    }
   ],
   "source": [
    "p = re.compile(r\"\\w+\\s+\\d+[-]\\d+[-]\\d+\")\n",
    "result = p.search(\"park 010-1234-1234\")\n",
    "result"
   ]
  },
  {
   "cell_type": "code",
   "execution_count": 30,
   "metadata": {},
   "outputs": [
    {
     "name": "stdout",
     "output_type": "stream",
     "text": [
      "park\n",
      "010\n",
      "1234\n",
      "1234\n"
     ]
    }
   ],
   "source": [
    "p = re.compile(r\"(\\w+)\\s+(\\d+)[-](\\d+)[-](\\d+)\")\n",
    "result = p.search(\"park 010-1234-1234\")\n",
    "print(result.group(1))\n",
    "print(result.group(2))\n",
    "print(result.group(3))\n",
    "print(result.group(4))"
   ]
  },
  {
   "cell_type": "code",
   "execution_count": 32,
   "metadata": {},
   "outputs": [
    {
     "data": {
      "text/plain": [
       "'Issac Newton'"
      ]
     },
     "execution_count": 32,
     "metadata": {},
     "output_type": "execute_result"
    }
   ],
   "source": [
    "p = re.compile(r\"(\\w+) (\\w+)\")\n",
    "\n",
    "result = re.search(p, \"Issac Newton, physicist\")\n",
    "result.group()"
   ]
  },
  {
   "cell_type": "code",
   "execution_count": 33,
   "metadata": {},
   "outputs": [
    {
     "data": {
      "text/plain": [
       "('Issac', 'Newton', ('Issac', 'Newton'))"
      ]
     },
     "execution_count": 33,
     "metadata": {},
     "output_type": "execute_result"
    }
   ],
   "source": [
    "result.group(1), result.group(2), result.group(1,2)"
   ]
  },
  {
   "cell_type": "code",
   "execution_count": 34,
   "metadata": {},
   "outputs": [
    {
     "data": {
      "text/plain": [
       "'Newton Issac, physicist'"
      ]
     },
     "execution_count": 34,
     "metadata": {},
     "output_type": "execute_result"
    }
   ],
   "source": [
    "p.sub(\"\\g<2> \\g<1>\", \"Issac Newton, physicist\")"
   ]
  },
  {
   "cell_type": "markdown",
   "metadata": {},
   "source": [
    "패턴의 순서를 바꿔 패턴과 일치하는 문자열의 순서를 바꿨다."
   ]
  },
  {
   "cell_type": "code",
   "execution_count": 35,
   "metadata": {},
   "outputs": [
    {
     "name": "stdout",
     "output_type": "stream",
     "text": [
      "None\n",
      "<_sre.SRE_Match object; span=(0, 5), match='a...b'>\n",
      "None\n",
      "None\n"
     ]
    }
   ],
   "source": [
    "p = re.compile(\"a[.]{3,}b\")\n",
    "\n",
    "result1 = re.search(p, \"acccb\")\n",
    "result2 = re.search(p, \"a...b\")\n",
    "result3 = re.search(p, \"aaab\")\n",
    "result4 = re.search(p, \"a.cccb\")\n",
    "\n",
    "print(result1)\n",
    "print(result2)\n",
    "print(result3)\n",
    "print(result4)"
   ]
  },
  {
   "cell_type": "markdown",
   "metadata": {},
   "source": [
    "a와 b 사이에 .이 3번 이상 등장하는 문자열 검색."
   ]
  },
  {
   "cell_type": "code",
   "execution_count": 39,
   "metadata": {},
   "outputs": [
    {
     "data": {
      "text/plain": [
       "[('010', '9999', '9988'), ('010', '9909', '7789'), ('010', '8789', '7768')]"
      ]
     },
     "execution_count": 39,
     "metadata": {},
     "output_type": "execute_result"
    }
   ],
   "source": [
    "text = \"\"\"\n",
    "park 010-9999-9988\n",
    "kim 010-9909-7789\n",
    "lee 010-8789-7768\n",
    "\"\"\"\n",
    "\n",
    "p = re.compile(r'(\\d{3})[-](\\d{4})[-](\\d{4})')\n",
    "\n",
    "result = re.findall(p, text)\n",
    "result"
   ]
  },
  {
   "cell_type": "code",
   "execution_count": 40,
   "metadata": {},
   "outputs": [
    {
     "name": "stdout",
     "output_type": "stream",
     "text": [
      "\n",
      "park 010-9999-####\n",
      "kim 010-9909-####\n",
      "lee 010-8789-####\n",
      "\n"
     ]
    }
   ],
   "source": [
    "print(p.sub(\"\\g<1>-\\g<2>-####\", text))"
   ]
  },
  {
   "cell_type": "markdown",
   "metadata": {},
   "source": [
    "전화번호를 검색하는 패턴을 사용하여 문자열에서 검색한 후 마지막 4자리는 ####으로 대체하였다."
   ]
  },
  {
   "cell_type": "code",
   "execution_count": 41,
   "metadata": {},
   "outputs": [
    {
     "name": "stdout",
     "output_type": "stream",
     "text": [
      "['park@naver.com', 'kim@daum.net']\n"
     ]
    }
   ],
   "source": [
    "email = \"\"\"\n",
    "park@naver.com\n",
    "kim@daum.net\n",
    "lee@myhome.co.kr\n",
    "\"\"\"\n",
    "\n",
    "p = re.compile(r'.*[@].*[.]\\w{3}')\n",
    "\n",
    "result = re.findall(p, email)\n",
    "print(result)"
   ]
  },
  {
   "cell_type": "markdown",
   "metadata": {},
   "source": [
    ".com이나 .net으로 끝나는 이메일 주소만 검색"
   ]
  },
  {
   "cell_type": "code",
   "execution_count": 42,
   "metadata": {},
   "outputs": [
    {
     "data": {
      "text/plain": [
       "['정규식', '너무', '싫다']"
      ]
     },
     "execution_count": 42,
     "metadata": {},
     "output_type": "execute_result"
    }
   ],
   "source": [
    "data = \"정규식 너무 싫다\"\n",
    "\n",
    "p = re.compile(r'\\W')\n",
    "re.split(p, data)"
   ]
  },
  {
   "cell_type": "markdown",
   "metadata": {},
   "source": [
    "문자열을 어절 단위로 잘랐음."
   ]
  }
 ],
 "metadata": {
  "kernelspec": {
   "display_name": "Python 3",
   "language": "python",
   "name": "python3"
  },
  "language_info": {
   "codemirror_mode": {
    "name": "ipython",
    "version": 3
   },
   "file_extension": ".py",
   "mimetype": "text/x-python",
   "name": "python",
   "nbconvert_exporter": "python",
   "pygments_lexer": "ipython3",
   "version": "3.6.5"
  }
 },
 "nbformat": 4,
 "nbformat_minor": 2
}
