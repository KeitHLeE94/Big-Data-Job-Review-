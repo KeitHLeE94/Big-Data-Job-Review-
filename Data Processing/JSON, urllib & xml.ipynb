{
 "cells": [
  {
   "cell_type": "markdown",
   "metadata": {},
   "source": [
    "# JSON"
   ]
  },
  {
   "cell_type": "markdown",
   "metadata": {},
   "source": [
    "XML: http 외의 데이터를 주고받기 위해 만들어졌다.\n",
    "\n",
    "JSON: Java Script Object Notation. xml을 경량화하여 자바스크립트 오브젝트를 주고받기 위해 만들어졌다.\n",
    "- key, value 쌍으로 데이터 구성.\n",
    "- 장점: 사람, 컴퓨터 모두에게 이해하기 쉬운 언어 -> 구조화된 데이터를 전송할 때 해석하기 쉽다.\n",
    "- JSON object: {로 시작해서 }로 끝난다.(dict와 유사)\n",
    "- JSON type 내에 JSON type이 올 수 있다.\n",
    "- JSON array: [로 시작해서 ]로 끝난다."
   ]
  },
  {
   "cell_type": "code",
   "execution_count": 1,
   "metadata": {},
   "outputs": [
    {
     "name": "stdout",
     "output_type": "stream",
     "text": [
      "Overwriting jsonexample.html\n"
     ]
    }
   ],
   "source": [
    "%%writefile jsonexample.html\n",
    "<!DOCTYPE html>\n",
    "<html lang=\"ko\">\n",
    "    <head>\n",
    "        <!--<meta charset=\"utf-8\"/>-->\n",
    "        <title>Simple HTML Document</title>\n",
    "        <meta name=\"viewport\" content=\"width=device-width, initial-scale=1.0\">\n",
    "        <meta name=\"keywords\" content=\"실습, 데이터진흥원, 노잼\">\n",
    "        <script>\n",
    "            var car = {\"make\":\"volkswagen\"}\n",
    "            \n",
    "            console.log(car)\n",
    "        </script>\n",
    "    </head>\n",
    "</html>"
   ]
  },
  {
   "cell_type": "markdown",
   "metadata": {},
   "source": [
    "<script>\n",
    "    var car = {\"make\":\"volkswagen\"}\n",
    "    \n",
    "    console.log(car)\n",
    "</script>\n",
    "이런 형태로 간단히 JSON object를 만들 수 있다."
   ]
  },
  {
   "cell_type": "code",
   "execution_count": 2,
   "metadata": {},
   "outputs": [
    {
     "name": "stdout",
     "output_type": "stream",
     "text": [
      "Overwriting jsonexample.html\n"
     ]
    }
   ],
   "source": [
    "%%writefile jsonexample.html\n",
    "<!DOCTYPE html>\n",
    "<html lang=\"ko\">\n",
    "    <head>\n",
    "        <!--<meta charset=\"utf-8\"/>-->\n",
    "        <title>Simple HTML Document</title>\n",
    "        <meta name=\"viewport\" content=\"width=device-width, initial-scale=1.0\">\n",
    "        <meta name=\"keywords\" content=\"실습, 데이터진흥원, 노잼\">\n",
    "        <script>\n",
    "            var personObj = {\"name\":\"kim\", \"age\":30, \"car\":true, \"middle name\":null};\n",
    "            \n",
    "            for (x in personObj){\n",
    "                console.log(x, personObj[x]);\n",
    "            }\n",
    "        </script>\n",
    "    </head>\n",
    "</html>"
   ]
  },
  {
   "cell_type": "markdown",
   "metadata": {},
   "source": [
    "<script>\n",
    "    var personObj = {\"name\":\"kim\", \"age\":30, \"car\":true, \"middle name\":null};\n",
    "    for (x in personObj){\n",
    "        console.log(x, personObj[x]);\n",
    "    }\n",
    "</script>\n",
    "만들어진 JSON object를 불러오는 과정."
   ]
  },
  {
   "cell_type": "code",
   "execution_count": 3,
   "metadata": {},
   "outputs": [
    {
     "name": "stdout",
     "output_type": "stream",
     "text": [
      "Overwriting jsonexample.html\n"
     ]
    }
   ],
   "source": [
    "%%writefile jsonexample.html\n",
    "<!DOCTYPE html>\n",
    "<html lang=\"ko\">\n",
    "    <head>\n",
    "        <!--<meta charset=\"utf-8\"/>-->\n",
    "        <title>Simple HTML Document</title>\n",
    "        <meta name=\"viewport\" content=\"width=device-width, initial-scale=1.0\">\n",
    "        <meta name=\"keywords\" content=\"실습, 데이터진흥원, 노잼\">\n",
    "        <script>\n",
    "            var car = {\n",
    "                \"make\":\"volkswagen\",\n",
    "                \"year\":2013,\n",
    "                \"car\":{\n",
    "                    \"name\":\"abc\",\n",
    "                    \"aaaa\":\"bddr\"\n",
    "                }\n",
    "            }\n",
    "            car.list = [\"a\", \"b\"];\n",
    "            console.log(car)\n",
    "        </script>\n",
    "    </head>\n",
    "</html>"
   ]
  },
  {
   "cell_type": "code",
   "execution_count": 4,
   "metadata": {},
   "outputs": [],
   "source": [
    "import json"
   ]
  },
  {
   "cell_type": "markdown",
   "metadata": {},
   "source": [
    "___"
   ]
  },
  {
   "cell_type": "markdown",
   "metadata": {},
   "source": [
    "#### json.dumps"
   ]
  },
  {
   "cell_type": "code",
   "execution_count": 10,
   "metadata": {},
   "outputs": [],
   "source": [
    "name = ('kim', 'lee', 'park')\n",
    "age = [28, 32, 25]\n",
    "person = {\"name\":\"kim\", \"age\":28, \"car\":False}"
   ]
  },
  {
   "cell_type": "code",
   "execution_count": 15,
   "metadata": {},
   "outputs": [
    {
     "name": "stdout",
     "output_type": "stream",
     "text": [
      "<class 'str'>\n",
      "[\"kim\", \"lee\", \"park\"]\n"
     ]
    }
   ],
   "source": [
    "nameStr = json.dumps(name)\n",
    "print(type(nameStr))\n",
    "print(nameStr)"
   ]
  },
  {
   "cell_type": "code",
   "execution_count": 18,
   "metadata": {},
   "outputs": [
    {
     "name": "stdout",
     "output_type": "stream",
     "text": [
      "<class 'str'>\n",
      "{\n",
      "     \"name\": \"kim\",\n",
      "     \"age\": 28,\n",
      "     \"car\": false\n",
      "}\n"
     ]
    }
   ],
   "source": [
    "personStr = json.dumps(person, indent='     ')\n",
    "print(type(personStr))\n",
    "print(personStr)"
   ]
  },
  {
   "cell_type": "markdown",
   "metadata": {},
   "source": [
    "json.dumps\n",
    "- 파이썬 객체를 json 객체로 변환.\n",
    "- str type으로 변환한다."
   ]
  },
  {
   "cell_type": "code",
   "execution_count": 20,
   "metadata": {},
   "outputs": [
    {
     "name": "stdout",
     "output_type": "stream",
     "text": [
      "[\"\\uae40\", \"\\uc774\", \"\\ubc15\"]\n"
     ]
    }
   ],
   "source": [
    "korean = ('김', '이', '박')\n",
    "koreanStr = json.dumps(korean)\n",
    "print(koreanStr)"
   ]
  },
  {
   "cell_type": "code",
   "execution_count": 21,
   "metadata": {},
   "outputs": [
    {
     "name": "stdout",
     "output_type": "stream",
     "text": [
      "[\"김\", \"이\", \"박\"]\n"
     ]
    }
   ],
   "source": [
    "koreanStr = json.dumps(korean, ensure_ascii=False)\n",
    "print(koreanStr)"
   ]
  },
  {
   "cell_type": "markdown",
   "metadata": {},
   "source": [
    "한글은 ensure_ascii 옵션을 False로 바꿔줘야 제대로 변환된다."
   ]
  },
  {
   "cell_type": "markdown",
   "metadata": {},
   "source": [
    "___"
   ]
  },
  {
   "cell_type": "markdown",
   "metadata": {},
   "source": [
    "#### json.loads"
   ]
  },
  {
   "cell_type": "code",
   "execution_count": 24,
   "metadata": {
    "scrolled": true
   },
   "outputs": [
    {
     "name": "stdout",
     "output_type": "stream",
     "text": [
      "<class 'dict'>\n",
      "{'name': 'kim', 'age': 28, 'car': False}\n"
     ]
    }
   ],
   "source": [
    "personObj = json.loads(personStr)\n",
    "print(type(personObj))\n",
    "print(personObj)"
   ]
  },
  {
   "cell_type": "code",
   "execution_count": 26,
   "metadata": {},
   "outputs": [
    {
     "name": "stdout",
     "output_type": "stream",
     "text": [
      "{'name': 'kim', 'age': 28, 'car': ['레이', '모닝']}\n"
     ]
    }
   ],
   "source": [
    "personObj[\"car\"] = [\"레이\", \"모닝\"]\n",
    "print(personObj)"
   ]
  },
  {
   "cell_type": "markdown",
   "metadata": {},
   "source": [
    "json.loads\n",
    "- json object를 파이썬 객체로 변환.\n",
    "- dict type으로 변환한다."
   ]
  },
  {
   "cell_type": "markdown",
   "metadata": {},
   "source": [
    "___"
   ]
  },
  {
   "cell_type": "markdown",
   "metadata": {},
   "source": [
    "#### json.dump"
   ]
  },
  {
   "cell_type": "code",
   "execution_count": 27,
   "metadata": {},
   "outputs": [],
   "source": [
    "with open(\"test.json\", \"w\") as fp:\n",
    "    json.dump(personObj, fp)"
   ]
  },
  {
   "cell_type": "markdown",
   "metadata": {},
   "source": [
    "json.dump\n",
    "- json 파일을 만든다.\n",
    "- file pointer로 json 파일을 open한 다음 file pointer가 가리키는 파일에 파이썬 객체를 입력한다.\n",
    "- 유니코드로 저장."
   ]
  },
  {
   "cell_type": "code",
   "execution_count": 29,
   "metadata": {},
   "outputs": [],
   "source": [
    "with open(\"test.json\", \"r\") as fp:\n",
    "    loadObj = json.load(fp)"
   ]
  },
  {
   "cell_type": "code",
   "execution_count": 30,
   "metadata": {},
   "outputs": [
    {
     "data": {
      "text/plain": [
       "{'name': 'kim', 'age': 28, 'car': ['레이', '모닝']}"
      ]
     },
     "execution_count": 30,
     "metadata": {},
     "output_type": "execute_result"
    }
   ],
   "source": [
    "loadObj"
   ]
  },
  {
   "cell_type": "markdown",
   "metadata": {},
   "source": [
    "json.load\n",
    "- file pointer로 json 파일을 open한 다음 file pointer가 가리키는 파일을 읽어온다.\n",
    "- 읽어온 내용을 파이썬 객체로 저장한다."
   ]
  },
  {
   "cell_type": "markdown",
   "metadata": {},
   "source": [
    "___"
   ]
  },
  {
   "cell_type": "markdown",
   "metadata": {},
   "source": [
    "# urllib"
   ]
  },
  {
   "cell_type": "code",
   "execution_count": 31,
   "metadata": {},
   "outputs": [],
   "source": [
    "import urllib.request"
   ]
  },
  {
   "cell_type": "code",
   "execution_count": 35,
   "metadata": {},
   "outputs": [
    {
     "name": "stdout",
     "output_type": "stream",
     "text": [
      "<class 'bytes'>\n",
      "b'{\\n  \"userId\": 1,\\n  \"id\": 1,\\n  \"title\": \"sunt aut facere repellat provident occaecati excepturi optio reprehenderit\",\\n  \"body\": \"quia et suscipit\\\\nsuscipit recusandae consequuntur expedita et cum\\\\nreprehenderit molestiae ut ut quas totam\\\\nnostrum rerum est autem sunt rem eveniet architecto\"\\n}'\n"
     ]
    }
   ],
   "source": [
    "resp = urllib.request.urlopen(\"https://jsonplaceholder.typicode.com/posts/1\")\n",
    "text = resp.read()\n",
    "\n",
    "print(type(text))\n",
    "print(text)"
   ]
  },
  {
   "cell_type": "markdown",
   "metadata": {},
   "source": [
    "url에 존재하는 json object를 byte단위로 받아와 bytes 형태로 저장했다."
   ]
  },
  {
   "cell_type": "code",
   "execution_count": 36,
   "metadata": {},
   "outputs": [
    {
     "name": "stdout",
     "output_type": "stream",
     "text": [
      "<class 'str'>\n",
      "{\n",
      "  \"userId\": 1,\n",
      "  \"id\": 1,\n",
      "  \"title\": \"sunt aut facere repellat provident occaecati excepturi optio reprehenderit\",\n",
      "  \"body\": \"quia et suscipit\\nsuscipit recusandae consequuntur expedita et cum\\nreprehenderit molestiae ut ut quas totam\\nnostrum rerum est autem sunt rem eveniet architecto\"\n",
      "}\n"
     ]
    }
   ],
   "source": [
    "textStr = text.decode(\"utf-8\")\n",
    "\n",
    "print(type(textStr))\n",
    "print(textStr)"
   ]
  },
  {
   "cell_type": "markdown",
   "metadata": {},
   "source": [
    "byte 형태의 text를 utf-8로 decoding하여 str형태로 저장했다."
   ]
  },
  {
   "cell_type": "code",
   "execution_count": 40,
   "metadata": {
    "scrolled": true
   },
   "outputs": [
    {
     "name": "stdout",
     "output_type": "stream",
     "text": [
      "<class 'dict'>\n"
     ]
    },
    {
     "data": {
      "text/plain": [
       "'sunt aut facere repellat provident occaecati excepturi optio reprehenderit'"
      ]
     },
     "execution_count": 40,
     "metadata": {},
     "output_type": "execute_result"
    }
   ],
   "source": [
    "respObj = json.loads(textStr)\n",
    "print(type(respObj))\n",
    "\n",
    "respObj[\"title\"]"
   ]
  },
  {
   "cell_type": "code",
   "execution_count": 39,
   "metadata": {
    "scrolled": true
   },
   "outputs": [
    {
     "name": "stdout",
     "output_type": "stream",
     "text": [
      "userId , 1 <class 'int'>\n",
      "id , 1 <class 'int'>\n",
      "title , sunt aut facere repellat provident occaecati excepturi optio reprehenderit <class 'str'>\n",
      "body , quia et suscipit\n",
      "suscipit recusandae consequuntur expedita et cum\n",
      "reprehenderit molestiae ut ut quas totam\n",
      "nostrum rerum est autem sunt rem eveniet architecto <class 'str'>\n"
     ]
    }
   ],
   "source": [
    "for (k, v) in respObj.items():\n",
    "    print(k, ',', v, type(v))"
   ]
  },
  {
   "cell_type": "markdown",
   "metadata": {},
   "source": [
    "loads로 json object를 받아왔으므로 dict type.\n",
    "\n",
    "dict type이므로 key값을 통해 value에 대한 개별 접근 가능."
   ]
  },
  {
   "cell_type": "markdown",
   "metadata": {},
   "source": [
    "## 예제 - urllib을 활용하여 API 접근"
   ]
  },
  {
   "cell_type": "code",
   "execution_count": 71,
   "metadata": {},
   "outputs": [],
   "source": [
    "url = \"http://openapi.airkorea.or.kr/openapi/services/rest/ArpltnInforInqireSvc/getCtprvnRltmMesureDnsty\""
   ]
  },
  {
   "cell_type": "code",
   "execution_count": 53,
   "metadata": {},
   "outputs": [],
   "source": [
    "with open(\"servicekey_weather.json\", \"r\") as f:\n",
    "    servicekey = json.load(f)[\"key\"]"
   ]
  },
  {
   "cell_type": "code",
   "execution_count": 67,
   "metadata": {},
   "outputs": [
    {
     "data": {
      "text/plain": [
       "dict"
      ]
     },
     "execution_count": 67,
     "metadata": {},
     "output_type": "execute_result"
    }
   ],
   "source": [
    "params = {\n",
    "    \"serviceKey\":servicekey,\n",
    "    \"numOfRows\":10,\n",
    "    \"pageNo\":1,\n",
    "    \"sidoName\":None,\n",
    "    \"ver\":\"1.3\",\n",
    "    \"_returnType\":\"json\"\n",
    "}\n",
    "\n",
    "params[\"sidoName\"] = \"경기\"\n",
    "\n",
    "type(params)"
   ]
  },
  {
   "cell_type": "code",
   "execution_count": 69,
   "metadata": {},
   "outputs": [],
   "source": [
    "from urllib import parse\n",
    "\n",
    "paramUrl = parse.urlencode(params)"
   ]
  },
  {
   "cell_type": "code",
   "execution_count": 65,
   "metadata": {
    "scrolled": true
   },
   "outputs": [
    {
     "data": {
      "text/plain": [
       "bytes"
      ]
     },
     "execution_count": 65,
     "metadata": {},
     "output_type": "execute_result"
    }
   ],
   "source": [
    "paramBytes = paramUrl.encode(\"utf-8\")\n",
    "type(paramBytes)"
   ]
  },
  {
   "cell_type": "markdown",
   "metadata": {},
   "source": [
    "json은 byte형태로 데이터를 주고받으므로 params를 byte형태로 변환하였다."
   ]
  },
  {
   "cell_type": "code",
   "execution_count": 72,
   "metadata": {},
   "outputs": [
    {
     "name": "stdout",
     "output_type": "stream",
     "text": [
      "b'<?xml version=\"1.0\" encoding=\"UTF-8\"?>\\r\\n\\r\\n\\r\\n\\r\\n\\r\\n<response>\\r\\n\\t<header>\\r\\n\\t\\t<resultCode>30</resultCode>\\r\\n\\t\\t<resultMsg>SERVICE KEY IS NOT REGISTERED ERROR.</resultMsg>\\r\\n\\t</header>\\r\\n</response>\\r\\n'\n"
     ]
    }
   ],
   "source": [
    "req = urllib.request.Request(url, data=paramBytes)\n",
    "res = urllib.request.urlopen(req)\n",
    "result = res.read()\n",
    "print(result)"
   ]
  },
  {
   "cell_type": "markdown",
   "metadata": {},
   "source": [
    "에러 원인: serviceKey값은 이미 byte 형태이나 params를 전체적으로 byte로 변환하는 과정을 거쳤기에 변환 전의 serviceKey값과 달라지게 되어 발생."
   ]
  },
  {
   "cell_type": "code",
   "execution_count": 75,
   "metadata": {
    "scrolled": true
   },
   "outputs": [
    {
     "name": "stdout",
     "output_type": "stream",
     "text": [
      "b'{\"list\":[{\"_returnType\":\"json\",\"coGrade\":\"1\",\"coValue\":\"0.6\",\"dataTerm\":\"\",\"dataTime\":\"2018-07-21 03:00\",\"khaiGrade\":\"2\",\"khaiValue\":\"59\",\"mangName\":\"\\xeb\\x8f\\x84\\xec\\x8b\\x9c\\xeb\\x8c\\x80\\xea\\xb8\\xb0\",\"no2Grade\":\"2\",\"no2Value\":\"0.033\",\"numOfRows\":\"10\",\"o3Grade\":\"1\",\"o3Value\":\"0.004\",\"pageNo\":\"1\",\"pm10Grade\":\"2\",\"pm10Grade1h\":\"2\",\"pm10Value\":\"35\",\"pm10Value24\":\"31\",\"pm25Grade\":\"2\",\"pm25Grade1h\":\"2\",\"pm25Value\":\"21\",\"pm25Value24\":\"19\",\"resultCode\":\"\",\"resultMsg\":\"\",\"rnum\":0,\"serviceKey\":\"\",\"sidoName\":\"\",\"so2Grade\":\"1\",\"so2Value\":\"0.005\",\"stationCode\":\"\",\"stationName\":\"\\xec\\x8b\\xa0\\xed\\x92\\x8d\\xeb\\x8f\\x99\",\"totalCount\":\"\",\"ver\":\"\"},{\"_returnType\":\"json\",\"coGrade\":\"1\",\"coValue\":\"0.5\",\"dataTerm\":\"\",\"dataTime\":\"2018-07-21 03:00\",\"khaiGrade\":\"2\",\"khaiValue\":\"54\",\"mangName\":\"\\xeb\\x8f\\x84\\xec\\x8b\\x9c\\xeb\\x8c\\x80\\xea\\xb8\\xb0\",\"no2Grade\":\"1\",\"no2Value\":\"0.017\",\"numOfRows\":\"10\",\"o3Grade\":\"1\",\"o3Value\":\"0.001\",\"pageNo\":\"1\",\"pm10Grade\":\"2\",\"pm10Grade1h\":\"2\",\"pm10Value\":\"31\",\"pm10Value24\":\"34\",\"pm25Grade\":\"2\",\"pm25Grade1h\":\"1\",\"pm25Value\":\"14\",\"pm25Value24\":\"16\",\"resultCode\":\"\",\"resultMsg\":\"\",\"rnum\":0,\"serviceKey\":\"\",\"sidoName\":\"\",\"so2Grade\":\"1\",\"so2Value\":\"0.006\",\"stationCode\":\"\",\"stationName\":\"\\xec\\x9d\\xb8\\xea\\xb3\\x84\\xeb\\x8f\\x99\",\"totalCount\":\"\",\"ver\":\"\"},{\"_returnType\":\"json\",\"coGrade\":\"1\",\"coValue\":\"0.9\",\"dataTerm\":\"\",\"dataTime\":\"2018-07-21 03:00\",\"khaiGrade\":\"2\",\"khaiValue\":\"93\",\"mangName\":\"\\xeb\\x8f\\x84\\xec\\x8b\\x9c\\xeb\\x8c\\x80\\xea\\xb8\\xb0\",\"no2Grade\":\"2\",\"no2Value\":\"0.056\",\"numOfRows\":\"10\",\"o3Grade\":\"1\",\"o3Value\":\"0.004\",\"pageNo\":\"1\",\"pm10Grade\":\"2\",\"pm10Grade1h\":\"2\",\"pm10Value\":\"42\",\"pm10Value24\":\"41\",\"pm25Grade\":\"2\",\"pm25Grade1h\":\"2\",\"pm25Value\":\"32\",\"pm25Value24\":\"29\",\"resultCode\":\"\",\"resultMsg\":\"\",\"rnum\":0,\"serviceKey\":\"\",\"sidoName\":\"\",\"so2Grade\":\"1\",\"so2Value\":\"0.004\",\"stationCode\":\"\",\"stationName\":\"\\xea\\xb4\\x91\\xea\\xb5\\x90\\xeb\\x8f\\x99\",\"totalCount\":\"\",\"ver\":\"\"},{\"_returnType\":\"json\",\"coGrade\":\"1\",\"coValue\":\"0.6\",\"dataTerm\":\"\",\"dataTime\":\"2018-07-21 03:00\",\"khaiGrade\":\"2\",\"khaiValue\":\"74\",\"mangName\":\"\\xeb\\x8f\\x84\\xec\\x8b\\x9c\\xeb\\x8c\\x80\\xea\\xb8\\xb0\",\"no2Grade\":\"1\",\"no2Value\":\"0.023\",\"numOfRows\":\"10\",\"o3Grade\":\"1\",\"o3Value\":\"0.001\",\"pageNo\":\"1\",\"pm10Grade\":\"2\",\"pm10Grade1h\":\"1\",\"pm10Value\":\"24\",\"pm10Value24\":\"32\",\"pm25Grade\":\"2\",\"pm25Grade1h\":\"2\",\"pm25Value\":\"18\",\"pm25Value24\":\"25\",\"resultCode\":\"\",\"resultMsg\":\"\",\"rnum\":0,\"serviceKey\":\"\",\"sidoName\":\"\",\"so2Grade\":\"1\",\"so2Value\":\"0.007\",\"stationCode\":\"\",\"stationName\":\"\\xec\\x98\\x81\\xed\\x86\\xb5\\xeb\\x8f\\x99\",\"totalCount\":\"\",\"ver\":\"\"},{\"_returnType\":\"json\",\"coGrade\":\"1\",\"coValue\":\"0.5\",\"dataTerm\":\"\",\"dataTime\":\"2018-07-21 03:00\",\"khaiGrade\":\"2\",\"khaiValue\":\"59\",\"mangName\":\"\\xeb\\x8f\\x84\\xec\\x8b\\x9c\\xeb\\x8c\\x80\\xea\\xb8\\xb0\",\"no2Grade\":\"1\",\"no2Value\":\"0.023\",\"numOfRows\":\"10\",\"o3Grade\":\"1\",\"o3Value\":\"0.001\",\"pageNo\":\"1\",\"pm10Grade\":\"2\",\"pm10Grade1h\":\"2\",\"pm10Value\":\"42\",\"pm10Value24\":\"35\",\"pm25Grade\":\"2\",\"pm25Grade1h\":\"2\",\"pm25Value\":\"19\",\"pm25Value24\":\"19\",\"resultCode\":\"\",\"resultMsg\":\"\",\"rnum\":0,\"serviceKey\":\"\",\"sidoName\":\"\",\"so2Grade\":\"1\",\"so2Value\":\"0.004\",\"stationCode\":\"\",\"stationName\":\"\\xec\\xb2\\x9c\\xec\\xb2\\x9c\\xeb\\x8f\\x99\",\"totalCount\":\"\",\"ver\":\"\"},{\"_returnType\":\"json\",\"coGrade\":\"1\",\"coValue\":\"0.8\",\"dataTerm\":\"\",\"dataTime\":\"2018-07-21 03:00\",\"khaiGrade\":\"2\",\"khaiValue\":\"66\",\"mangName\":\"\\xeb\\x8f\\x84\\xeb\\xa1\\x9c\\xeb\\xb3\\x80\\xeb\\x8c\\x80\\xea\\xb8\\xb0\",\"no2Grade\":\"2\",\"no2Value\":\"0.032\",\"numOfRows\":\"10\",\"o3Grade\":\"1\",\"o3Value\":\"0.001\",\"pageNo\":\"1\",\"pm10Grade\":\"2\",\"pm10Grade1h\":\"2\",\"pm10Value\":\"42\",\"pm10Value24\":\"36\",\"pm25Grade\":\"2\",\"pm25Grade1h\":\"2\",\"pm25Value\":\"19\",\"pm25Value24\":\"22\",\"resultCode\":\"\",\"resultMsg\":\"\",\"rnum\":0,\"serviceKey\":\"\",\"sidoName\":\"\",\"so2Grade\":\"1\",\"so2Value\":\"0.004\",\"stationCode\":\"\",\"stationName\":\"\\xea\\xb2\\xbd\\xec\\x88\\x98\\xeb\\x8c\\x80\\xeb\\xa1\\x9c(\\xeb\\x8f\\x99\\xec\\x88\\x98\\xec\\x9b\\x90)\",\"totalCount\":\"\",\"ver\":\"\"},{\"_returnType\":\"json\",\"coGrade\":\"1\",\"coValue\":\"0.4\",\"dataTerm\":\"\",\"dataTime\":\"2018-07-21 03:00\",\"khaiGrade\":\"2\",\"khaiValue\":\"54\",\"mangName\":\"\\xeb\\x8f\\x84\\xec\\x8b\\x9c\\xeb\\x8c\\x80\\xea\\xb8\\xb0\",\"no2Grade\":\"1\",\"no2Value\":\"0.016\",\"numOfRows\":\"10\",\"o3Grade\":\"1\",\"o3Value\":\"0.002\",\"pageNo\":\"1\",\"pm10Grade\":\"1\",\"pm10Grade1h\":\"1\",\"pm10Value\":\"21\",\"pm10Value24\":\"22\",\"pm25Grade\":\"2\",\"pm25Grade1h\":\"1\",\"pm25Value\":\"15\",\"pm25Value24\":\"17\",\"resultCode\":\"\",\"resultMsg\":\"\",\"rnum\":0,\"serviceKey\":\"\",\"sidoName\":\"\",\"so2Grade\":\"1\",\"so2Value\":\"0.006\",\"stationCode\":\"\",\"stationName\":\"\\xea\\xb3\\xa0\\xec\\x83\\x89\\xeb\\x8f\\x99\",\"totalCount\":\"\",\"ver\":\"\"},{\"_returnType\":\"json\",\"coGrade\":\"1\",\"coValue\":\"0.8\",\"dataTerm\":\"\",\"dataTime\":\"2018-07-21 03:00\",\"khaiGrade\":\"2\",\"khaiValue\":\"60\",\"mangName\":\"\\xeb\\x8f\\x84\\xeb\\xa1\\x9c\\xeb\\xb3\\x80\\xeb\\x8c\\x80\\xea\\xb8\\xb0\",\"no2Grade\":\"1\",\"no2Value\":\"0.013\",\"numOfRows\":\"10\",\"o3Grade\":\"\",\"o3Value\":\"-\",\"pageNo\":\"1\",\"pm10Grade\":\"2\",\"pm10Grade1h\":\"1\",\"pm10Value\":\"30\",\"pm10Value24\":\"40\",\"pm25Grade\":\"2\",\"pm25Grade1h\":\"1\",\"pm25Value\":\"11\",\"pm25Value24\":\"18\",\"resultCode\":\"\",\"resultMsg\":\"\",\"rnum\":0,\"serviceKey\":\"\",\"sidoName\":\"\",\"so2Grade\":\"1\",\"so2Value\":\"0.005\",\"stationCode\":\"\",\"stationName\":\"\\xeb\\x8c\\x80\\xec\\x99\\x95\\xed\\x8c\\x90\\xea\\xb5\\x90\\xeb\\xa1\\x9c(\\xeb\\xb0\\xb1\\xed\\x98\\x84\\xeb\\x8f\\x99)\",\"totalCount\":\"\",\"ver\":\"\"},{\"_returnType\":\"json\",\"coGrade\":\"1\",\"coValue\":\"0.5\",\"dataTerm\":\"\",\"dataTime\":\"2018-07-21 03:00\",\"khaiGrade\":\"2\",\"khaiValue\":\"79\",\"mangName\":\"\\xeb\\x8f\\x84\\xec\\x8b\\x9c\\xeb\\x8c\\x80\\xea\\xb8\\xb0\",\"no2Grade\":\"2\",\"no2Value\":\"0.046\",\"numOfRows\":\"10\",\"o3Grade\":\"1\",\"o3Value\":\"0.004\",\"pageNo\":\"1\",\"pm10Grade\":\"2\",\"pm10Grade1h\":\"2\",\"pm10Value\":\"31\",\"pm10Value24\":\"43\",\"pm25Grade\":\"2\",\"pm25Grade1h\":\"2\",\"pm25Value\":\"26\",\"pm25Value24\":\"27\",\"resultCode\":\"\",\"resultMsg\":\"\",\"rnum\":0,\"serviceKey\":\"\",\"sidoName\":\"\",\"so2Grade\":\"1\",\"so2Value\":\"0.004\",\"stationCode\":\"\",\"stationName\":\"\\xeb\\x8b\\xa8\\xeb\\x8c\\x80\\xeb\\x8f\\x99\",\"totalCount\":\"\",\"ver\":\"\"},{\"_returnType\":\"json\",\"coGrade\":\"1\",\"coValue\":\"0.7\",\"dataTerm\":\"\",\"dataTime\":\"2018-07-21 03:00\",\"khaiGrade\":\"2\",\"khaiValue\":\"90\",\"mangName\":\"\\xeb\\x8f\\x84\\xec\\x8b\\x9c\\xeb\\x8c\\x80\\xea\\xb8\\xb0\",\"no2Grade\":\"2\",\"no2Value\":\"0.051\",\"numOfRows\":\"10\",\"o3Grade\":\"1\",\"o3Value\":\"0.002\",\"pageNo\":\"1\",\"pm10Grade\":\"2\",\"pm10Grade1h\":\"2\",\"pm10Value\":\"34\",\"pm10Value24\":\"43\",\"pm25Grade\":\"2\",\"pm25Grade1h\":\"2\",\"pm25Value\":\"28\",\"pm25Value24\":\"31\",\"resultCode\":\"\",\"resultMsg\":\"\",\"rnum\":0,\"serviceKey\":\"\",\"sidoName\":\"\",\"so2Grade\":\"1\",\"so2Value\":\"0.003\",\"stationCode\":\"\",\"stationName\":\"\\xec\\x88\\x98\\xeb\\x82\\xb4\\xeb\\x8f\\x99\",\"totalCount\":\"\",\"ver\":\"\"}],\"parm\":{\"_returnType\":\"json\",\"coGrade\":\"\",\"coValue\":\"\",\"dataTerm\":\"\",\"dataTime\":\"\",\"khaiGrade\":\"\",\"khaiValue\":\"\",\"mangName\":\"\",\"no2Grade\":\"\",\"no2Value\":\"\",\"numOfRows\":\"10\",\"o3Grade\":\"\",\"o3Value\":\"\",\"pageNo\":\"1\",\"pm10Grade\":\"\",\"pm10Grade1h\":\"\",\"pm10Value\":\"\",\"pm10Value24\":\"\",\"pm25Grade\":\"\",\"pm25Grade1h\":\"\",\"pm25Value\":\"\",\"pm25Value24\":\"\",\"resultCode\":\"\",\"resultMsg\":\"\",\"rnum\":0,\"serviceKey\":\"ouDgEfEfPcpHk5tXojTqW+KYN7bR2ffQlXMFhMfuw80XGPGxtXP0Qf9JlaNayOtUWSuw9Gs8N0ARbBOeJSZQmw==\",\"sidoName\":\"\\xea\\xb2\\xbd\\xea\\xb8\\xb0\",\"so2Grade\":\"\",\"so2Value\":\"\",\"stationCode\":\"\",\"stationName\":\"\",\"totalCount\":\"\",\"ver\":\"1.3\"},\"ArpltnInforInqireSvcVo\":{\"_returnType\":\"json\",\"coGrade\":\"\",\"coValue\":\"\",\"dataTerm\":\"\",\"dataTime\":\"\",\"khaiGrade\":\"\",\"khaiValue\":\"\",\"mangName\":\"\",\"no2Grade\":\"\",\"no2Value\":\"\",\"numOfRows\":\"10\",\"o3Grade\":\"\",\"o3Value\":\"\",\"pageNo\":\"1\",\"pm10Grade\":\"\",\"pm10Grade1h\":\"\",\"pm10Value\":\"\",\"pm10Value24\":\"\",\"pm25Grade\":\"\",\"pm25Grade1h\":\"\",\"pm25Value\":\"\",\"pm25Value24\":\"\",\"resultCode\":\"\",\"resultMsg\":\"\",\"rnum\":0,\"serviceKey\":\"ouDgEfEfPcpHk5tXojTqW+KYN7bR2ffQlXMFhMfuw80XGPGxtXP0Qf9JlaNayOtUWSuw9Gs8N0ARbBOeJSZQmw==\",\"sidoName\":\"\\xea\\xb2\\xbd\\xea\\xb8\\xb0\",\"so2Grade\":\"\",\"so2Value\":\"\",\"stationCode\":\"\",\"stationName\":\"\",\"totalCount\":\"\",\"ver\":\"1.3\"},\"totalCount\":86}'\n"
     ]
    }
   ],
   "source": [
    "params[\"serviceKey\"] = urllib.parse.unquote(params[\"serviceKey\"])\n",
    "\n",
    "paramUrl = parse.urlencode(params)\n",
    "paramBytes = paramUrl.encode(\"utf-8\")\n",
    "\n",
    "req = urllib.request.Request(url, data=paramBytes)\n",
    "res = urllib.request.urlopen(req)\n",
    "result = res.read()\n",
    "print(result)"
   ]
  },
  {
   "cell_type": "markdown",
   "metadata": {},
   "source": [
    "해결: byte형태의 serviceKey를 unquote를 통해 str형태로 변환하여 params의 모든 value값을 str형태로 만들어준 후 전체 params를 byte형태로 변환하여 해결하였다.\n",
    "\n",
    "결과값: byte형태이므로 변환과정 필요."
   ]
  },
  {
   "cell_type": "code",
   "execution_count": 81,
   "metadata": {
    "scrolled": true
   },
   "outputs": [
    {
     "name": "stdout",
     "output_type": "stream",
     "text": [
      "<class 'str'>\n",
      "{\"list\":[{\"_returnType\":\"json\",\"coGrade\":\"1\",\"coValue\":\"0.6\",\"dataTerm\":\"\",\"dataTime\":\"2018-07-21 03:00\",\"khaiGrade\":\"2\",\"khaiValue\":\"59\",\"mangName\":\"도시대기\",\"no2Grade\":\"2\",\"no2Value\":\"0.033\",\"numOfRows\":\"10\",\"o3Grade\":\"1\",\"o3Value\":\"0.004\",\"pageNo\":\"1\",\"pm10Grade\":\"2\",\"pm10Grade1h\":\"2\",\"pm10Value\":\"35\",\"pm10Value24\":\"31\",\"pm25Grade\":\"2\",\"pm25Grade1h\":\"2\",\"pm25Value\":\"21\",\"pm25Value24\":\"19\",\"resultCode\":\"\",\"resultMsg\":\"\",\"rnum\":0,\"serviceKey\":\"\",\"sidoName\":\"\",\"so2Grade\":\"1\",\"so2Value\":\"0.005\",\"stationCode\":\"\",\"stationName\":\"신풍동\",\"totalCount\":\"\",\"ver\":\"\"},{\"_returnType\":\"json\",\"coGrade\":\"1\",\"coValue\":\"0.5\",\"dataTerm\":\"\",\"dataTime\":\"2018-07-21 03:00\",\"khaiGrade\":\"2\",\"khaiValue\":\"54\",\"mangName\":\"도시대기\",\"no2Grade\":\"1\",\"no2Value\":\"0.017\",\"numOfRows\":\"10\",\"o3Grade\":\"1\",\"o3Value\":\"0.001\",\"pageNo\":\"1\",\"pm10Grade\":\"2\",\"pm10Grade1h\":\"2\",\"pm10Value\":\"31\",\"pm10Value24\":\"34\",\"pm25Grade\":\"2\",\"pm25Grade1h\":\"1\",\"pm25Value\":\"14\",\"pm25Value24\":\"16\",\"resultCode\":\"\",\"resultMsg\":\"\",\"rnum\":0,\"serviceKey\":\"\",\"sidoName\":\"\",\"so2Grade\":\"1\",\"so2Value\":\"0.006\",\"stationCode\":\"\",\"stationName\":\"인계동\",\"totalCount\":\"\",\"ver\":\"\"},{\"_returnType\":\"json\",\"coGrade\":\"1\",\"coValue\":\"0.9\",\"dataTerm\":\"\",\"dataTime\":\"2018-07-21 03:00\",\"khaiGrade\":\"2\",\"khaiValue\":\"93\",\"mangName\":\"도시대기\",\"no2Grade\":\"2\",\"no2Value\":\"0.056\",\"numOfRows\":\"10\",\"o3Grade\":\"1\",\"o3Value\":\"0.004\",\"pageNo\":\"1\",\"pm10Grade\":\"2\",\"pm10Grade1h\":\"2\",\"pm10Value\":\"42\",\"pm10Value24\":\"41\",\"pm25Grade\":\"2\",\"pm25Grade1h\":\"2\",\"pm25Value\":\"32\",\"pm25Value24\":\"29\",\"resultCode\":\"\",\"resultMsg\":\"\",\"rnum\":0,\"serviceKey\":\"\",\"sidoName\":\"\",\"so2Grade\":\"1\",\"so2Value\":\"0.004\",\"stationCode\":\"\",\"stationName\":\"광교동\",\"totalCount\":\"\",\"ver\":\"\"},{\"_returnType\":\"json\",\"coGrade\":\"1\",\"coValue\":\"0.6\",\"dataTerm\":\"\",\"dataTime\":\"2018-07-21 03:00\",\"khaiGrade\":\"2\",\"khaiValue\":\"74\",\"mangName\":\"도시대기\",\"no2Grade\":\"1\",\"no2Value\":\"0.023\",\"numOfRows\":\"10\",\"o3Grade\":\"1\",\"o3Value\":\"0.001\",\"pageNo\":\"1\",\"pm10Grade\":\"2\",\"pm10Grade1h\":\"1\",\"pm10Value\":\"24\",\"pm10Value24\":\"32\",\"pm25Grade\":\"2\",\"pm25Grade1h\":\"2\",\"pm25Value\":\"18\",\"pm25Value24\":\"25\",\"resultCode\":\"\",\"resultMsg\":\"\",\"rnum\":0,\"serviceKey\":\"\",\"sidoName\":\"\",\"so2Grade\":\"1\",\"so2Value\":\"0.007\",\"stationCode\":\"\",\"stationName\":\"영통동\",\"totalCount\":\"\",\"ver\":\"\"},{\"_returnType\":\"json\",\"coGrade\":\"1\",\"coValue\":\"0.5\",\"dataTerm\":\"\",\"dataTime\":\"2018-07-21 03:00\",\"khaiGrade\":\"2\",\"khaiValue\":\"59\",\"mangName\":\"도시대기\",\"no2Grade\":\"1\",\"no2Value\":\"0.023\",\"numOfRows\":\"10\",\"o3Grade\":\"1\",\"o3Value\":\"0.001\",\"pageNo\":\"1\",\"pm10Grade\":\"2\",\"pm10Grade1h\":\"2\",\"pm10Value\":\"42\",\"pm10Value24\":\"35\",\"pm25Grade\":\"2\",\"pm25Grade1h\":\"2\",\"pm25Value\":\"19\",\"pm25Value24\":\"19\",\"resultCode\":\"\",\"resultMsg\":\"\",\"rnum\":0,\"serviceKey\":\"\",\"sidoName\":\"\",\"so2Grade\":\"1\",\"so2Value\":\"0.004\",\"stationCode\":\"\",\"stationName\":\"천천동\",\"totalCount\":\"\",\"ver\":\"\"},{\"_returnType\":\"json\",\"coGrade\":\"1\",\"coValue\":\"0.8\",\"dataTerm\":\"\",\"dataTime\":\"2018-07-21 03:00\",\"khaiGrade\":\"2\",\"khaiValue\":\"66\",\"mangName\":\"도로변대기\",\"no2Grade\":\"2\",\"no2Value\":\"0.032\",\"numOfRows\":\"10\",\"o3Grade\":\"1\",\"o3Value\":\"0.001\",\"pageNo\":\"1\",\"pm10Grade\":\"2\",\"pm10Grade1h\":\"2\",\"pm10Value\":\"42\",\"pm10Value24\":\"36\",\"pm25Grade\":\"2\",\"pm25Grade1h\":\"2\",\"pm25Value\":\"19\",\"pm25Value24\":\"22\",\"resultCode\":\"\",\"resultMsg\":\"\",\"rnum\":0,\"serviceKey\":\"\",\"sidoName\":\"\",\"so2Grade\":\"1\",\"so2Value\":\"0.004\",\"stationCode\":\"\",\"stationName\":\"경수대로(동수원)\",\"totalCount\":\"\",\"ver\":\"\"},{\"_returnType\":\"json\",\"coGrade\":\"1\",\"coValue\":\"0.4\",\"dataTerm\":\"\",\"dataTime\":\"2018-07-21 03:00\",\"khaiGrade\":\"2\",\"khaiValue\":\"54\",\"mangName\":\"도시대기\",\"no2Grade\":\"1\",\"no2Value\":\"0.016\",\"numOfRows\":\"10\",\"o3Grade\":\"1\",\"o3Value\":\"0.002\",\"pageNo\":\"1\",\"pm10Grade\":\"1\",\"pm10Grade1h\":\"1\",\"pm10Value\":\"21\",\"pm10Value24\":\"22\",\"pm25Grade\":\"2\",\"pm25Grade1h\":\"1\",\"pm25Value\":\"15\",\"pm25Value24\":\"17\",\"resultCode\":\"\",\"resultMsg\":\"\",\"rnum\":0,\"serviceKey\":\"\",\"sidoName\":\"\",\"so2Grade\":\"1\",\"so2Value\":\"0.006\",\"stationCode\":\"\",\"stationName\":\"고색동\",\"totalCount\":\"\",\"ver\":\"\"},{\"_returnType\":\"json\",\"coGrade\":\"1\",\"coValue\":\"0.8\",\"dataTerm\":\"\",\"dataTime\":\"2018-07-21 03:00\",\"khaiGrade\":\"2\",\"khaiValue\":\"60\",\"mangName\":\"도로변대기\",\"no2Grade\":\"1\",\"no2Value\":\"0.013\",\"numOfRows\":\"10\",\"o3Grade\":\"\",\"o3Value\":\"-\",\"pageNo\":\"1\",\"pm10Grade\":\"2\",\"pm10Grade1h\":\"1\",\"pm10Value\":\"30\",\"pm10Value24\":\"40\",\"pm25Grade\":\"2\",\"pm25Grade1h\":\"1\",\"pm25Value\":\"11\",\"pm25Value24\":\"18\",\"resultCode\":\"\",\"resultMsg\":\"\",\"rnum\":0,\"serviceKey\":\"\",\"sidoName\":\"\",\"so2Grade\":\"1\",\"so2Value\":\"0.005\",\"stationCode\":\"\",\"stationName\":\"대왕판교로(백현동)\",\"totalCount\":\"\",\"ver\":\"\"},{\"_returnType\":\"json\",\"coGrade\":\"1\",\"coValue\":\"0.5\",\"dataTerm\":\"\",\"dataTime\":\"2018-07-21 03:00\",\"khaiGrade\":\"2\",\"khaiValue\":\"79\",\"mangName\":\"도시대기\",\"no2Grade\":\"2\",\"no2Value\":\"0.046\",\"numOfRows\":\"10\",\"o3Grade\":\"1\",\"o3Value\":\"0.004\",\"pageNo\":\"1\",\"pm10Grade\":\"2\",\"pm10Grade1h\":\"2\",\"pm10Value\":\"31\",\"pm10Value24\":\"43\",\"pm25Grade\":\"2\",\"pm25Grade1h\":\"2\",\"pm25Value\":\"26\",\"pm25Value24\":\"27\",\"resultCode\":\"\",\"resultMsg\":\"\",\"rnum\":0,\"serviceKey\":\"\",\"sidoName\":\"\",\"so2Grade\":\"1\",\"so2Value\":\"0.004\",\"stationCode\":\"\",\"stationName\":\"단대동\",\"totalCount\":\"\",\"ver\":\"\"},{\"_returnType\":\"json\",\"coGrade\":\"1\",\"coValue\":\"0.7\",\"dataTerm\":\"\",\"dataTime\":\"2018-07-21 03:00\",\"khaiGrade\":\"2\",\"khaiValue\":\"90\",\"mangName\":\"도시대기\",\"no2Grade\":\"2\",\"no2Value\":\"0.051\",\"numOfRows\":\"10\",\"o3Grade\":\"1\",\"o3Value\":\"0.002\",\"pageNo\":\"1\",\"pm10Grade\":\"2\",\"pm10Grade1h\":\"2\",\"pm10Value\":\"34\",\"pm10Value24\":\"43\",\"pm25Grade\":\"2\",\"pm25Grade1h\":\"2\",\"pm25Value\":\"28\",\"pm25Value24\":\"31\",\"resultCode\":\"\",\"resultMsg\":\"\",\"rnum\":0,\"serviceKey\":\"\",\"sidoName\":\"\",\"so2Grade\":\"1\",\"so2Value\":\"0.003\",\"stationCode\":\"\",\"stationName\":\"수내동\",\"totalCount\":\"\",\"ver\":\"\"}],\"parm\":{\"_returnType\":\"json\",\"coGrade\":\"\",\"coValue\":\"\",\"dataTerm\":\"\",\"dataTime\":\"\",\"khaiGrade\":\"\",\"khaiValue\":\"\",\"mangName\":\"\",\"no2Grade\":\"\",\"no2Value\":\"\",\"numOfRows\":\"10\",\"o3Grade\":\"\",\"o3Value\":\"\",\"pageNo\":\"1\",\"pm10Grade\":\"\",\"pm10Grade1h\":\"\",\"pm10Value\":\"\",\"pm10Value24\":\"\",\"pm25Grade\":\"\",\"pm25Grade1h\":\"\",\"pm25Value\":\"\",\"pm25Value24\":\"\",\"resultCode\":\"\",\"resultMsg\":\"\",\"rnum\":0,\"serviceKey\":\"ouDgEfEfPcpHk5tXojTqW+KYN7bR2ffQlXMFhMfuw80XGPGxtXP0Qf9JlaNayOtUWSuw9Gs8N0ARbBOeJSZQmw==\",\"sidoName\":\"경기\",\"so2Grade\":\"\",\"so2Value\":\"\",\"stationCode\":\"\",\"stationName\":\"\",\"totalCount\":\"\",\"ver\":\"1.3\"},\"ArpltnInforInqireSvcVo\":{\"_returnType\":\"json\",\"coGrade\":\"\",\"coValue\":\"\",\"dataTerm\":\"\",\"dataTime\":\"\",\"khaiGrade\":\"\",\"khaiValue\":\"\",\"mangName\":\"\",\"no2Grade\":\"\",\"no2Value\":\"\",\"numOfRows\":\"10\",\"o3Grade\":\"\",\"o3Value\":\"\",\"pageNo\":\"1\",\"pm10Grade\":\"\",\"pm10Grade1h\":\"\",\"pm10Value\":\"\",\"pm10Value24\":\"\",\"pm25Grade\":\"\",\"pm25Grade1h\":\"\",\"pm25Value\":\"\",\"pm25Value24\":\"\",\"resultCode\":\"\",\"resultMsg\":\"\",\"rnum\":0,\"serviceKey\":\"ouDgEfEfPcpHk5tXojTqW+KYN7bR2ffQlXMFhMfuw80XGPGxtXP0Qf9JlaNayOtUWSuw9Gs8N0ARbBOeJSZQmw==\",\"sidoName\":\"경기\",\"so2Grade\":\"\",\"so2Value\":\"\",\"stationCode\":\"\",\"stationName\":\"\",\"totalCount\":\"\",\"ver\":\"1.3\"},\"totalCount\":86}\n"
     ]
    }
   ],
   "source": [
    "resultStr = result.decode('utf-8')\n",
    "print(type(resultStr))\n",
    "resultObj = json.loads(resultStr)\n",
    "print(resultStr)"
   ]
  },
  {
   "cell_type": "markdown",
   "metadata": {},
   "source": [
    "result를 utf-8로 decode하여 str형태로 변환한 후 json.loads함수를 통해 변환된 결과값을 읽어온다."
   ]
  },
  {
   "cell_type": "code",
   "execution_count": 82,
   "metadata": {
    "scrolled": true
   },
   "outputs": [
    {
     "name": "stdout",
     "output_type": "stream",
     "text": [
      "list [{'_returnType': 'json', 'coGrade': '1', 'coValue': '0.6', 'dataTerm': '', 'dataTime': '2018-07-21 03:00', 'khaiGrade': '2', 'khaiValue': '59', 'mangName': '도시대기', 'no2Grade': '2', 'no2Value': '0.033', 'numOfRows': '10', 'o3Grade': '1', 'o3Value': '0.004', 'pageNo': '1', 'pm10Grade': '2', 'pm10Grade1h': '2', 'pm10Value': '35', 'pm10Value24': '31', 'pm25Grade': '2', 'pm25Grade1h': '2', 'pm25Value': '21', 'pm25Value24': '19', 'resultCode': '', 'resultMsg': '', 'rnum': 0, 'serviceKey': '', 'sidoName': '', 'so2Grade': '1', 'so2Value': '0.005', 'stationCode': '', 'stationName': '신풍동', 'totalCount': '', 'ver': ''}, {'_returnType': 'json', 'coGrade': '1', 'coValue': '0.5', 'dataTerm': '', 'dataTime': '2018-07-21 03:00', 'khaiGrade': '2', 'khaiValue': '54', 'mangName': '도시대기', 'no2Grade': '1', 'no2Value': '0.017', 'numOfRows': '10', 'o3Grade': '1', 'o3Value': '0.001', 'pageNo': '1', 'pm10Grade': '2', 'pm10Grade1h': '2', 'pm10Value': '31', 'pm10Value24': '34', 'pm25Grade': '2', 'pm25Grade1h': '1', 'pm25Value': '14', 'pm25Value24': '16', 'resultCode': '', 'resultMsg': '', 'rnum': 0, 'serviceKey': '', 'sidoName': '', 'so2Grade': '1', 'so2Value': '0.006', 'stationCode': '', 'stationName': '인계동', 'totalCount': '', 'ver': ''}, {'_returnType': 'json', 'coGrade': '1', 'coValue': '0.9', 'dataTerm': '', 'dataTime': '2018-07-21 03:00', 'khaiGrade': '2', 'khaiValue': '93', 'mangName': '도시대기', 'no2Grade': '2', 'no2Value': '0.056', 'numOfRows': '10', 'o3Grade': '1', 'o3Value': '0.004', 'pageNo': '1', 'pm10Grade': '2', 'pm10Grade1h': '2', 'pm10Value': '42', 'pm10Value24': '41', 'pm25Grade': '2', 'pm25Grade1h': '2', 'pm25Value': '32', 'pm25Value24': '29', 'resultCode': '', 'resultMsg': '', 'rnum': 0, 'serviceKey': '', 'sidoName': '', 'so2Grade': '1', 'so2Value': '0.004', 'stationCode': '', 'stationName': '광교동', 'totalCount': '', 'ver': ''}, {'_returnType': 'json', 'coGrade': '1', 'coValue': '0.6', 'dataTerm': '', 'dataTime': '2018-07-21 03:00', 'khaiGrade': '2', 'khaiValue': '74', 'mangName': '도시대기', 'no2Grade': '1', 'no2Value': '0.023', 'numOfRows': '10', 'o3Grade': '1', 'o3Value': '0.001', 'pageNo': '1', 'pm10Grade': '2', 'pm10Grade1h': '1', 'pm10Value': '24', 'pm10Value24': '32', 'pm25Grade': '2', 'pm25Grade1h': '2', 'pm25Value': '18', 'pm25Value24': '25', 'resultCode': '', 'resultMsg': '', 'rnum': 0, 'serviceKey': '', 'sidoName': '', 'so2Grade': '1', 'so2Value': '0.007', 'stationCode': '', 'stationName': '영통동', 'totalCount': '', 'ver': ''}, {'_returnType': 'json', 'coGrade': '1', 'coValue': '0.5', 'dataTerm': '', 'dataTime': '2018-07-21 03:00', 'khaiGrade': '2', 'khaiValue': '59', 'mangName': '도시대기', 'no2Grade': '1', 'no2Value': '0.023', 'numOfRows': '10', 'o3Grade': '1', 'o3Value': '0.001', 'pageNo': '1', 'pm10Grade': '2', 'pm10Grade1h': '2', 'pm10Value': '42', 'pm10Value24': '35', 'pm25Grade': '2', 'pm25Grade1h': '2', 'pm25Value': '19', 'pm25Value24': '19', 'resultCode': '', 'resultMsg': '', 'rnum': 0, 'serviceKey': '', 'sidoName': '', 'so2Grade': '1', 'so2Value': '0.004', 'stationCode': '', 'stationName': '천천동', 'totalCount': '', 'ver': ''}, {'_returnType': 'json', 'coGrade': '1', 'coValue': '0.8', 'dataTerm': '', 'dataTime': '2018-07-21 03:00', 'khaiGrade': '2', 'khaiValue': '66', 'mangName': '도로변대기', 'no2Grade': '2', 'no2Value': '0.032', 'numOfRows': '10', 'o3Grade': '1', 'o3Value': '0.001', 'pageNo': '1', 'pm10Grade': '2', 'pm10Grade1h': '2', 'pm10Value': '42', 'pm10Value24': '36', 'pm25Grade': '2', 'pm25Grade1h': '2', 'pm25Value': '19', 'pm25Value24': '22', 'resultCode': '', 'resultMsg': '', 'rnum': 0, 'serviceKey': '', 'sidoName': '', 'so2Grade': '1', 'so2Value': '0.004', 'stationCode': '', 'stationName': '경수대로(동수원)', 'totalCount': '', 'ver': ''}, {'_returnType': 'json', 'coGrade': '1', 'coValue': '0.4', 'dataTerm': '', 'dataTime': '2018-07-21 03:00', 'khaiGrade': '2', 'khaiValue': '54', 'mangName': '도시대기', 'no2Grade': '1', 'no2Value': '0.016', 'numOfRows': '10', 'o3Grade': '1', 'o3Value': '0.002', 'pageNo': '1', 'pm10Grade': '1', 'pm10Grade1h': '1', 'pm10Value': '21', 'pm10Value24': '22', 'pm25Grade': '2', 'pm25Grade1h': '1', 'pm25Value': '15', 'pm25Value24': '17', 'resultCode': '', 'resultMsg': '', 'rnum': 0, 'serviceKey': '', 'sidoName': '', 'so2Grade': '1', 'so2Value': '0.006', 'stationCode': '', 'stationName': '고색동', 'totalCount': '', 'ver': ''}, {'_returnType': 'json', 'coGrade': '1', 'coValue': '0.8', 'dataTerm': '', 'dataTime': '2018-07-21 03:00', 'khaiGrade': '2', 'khaiValue': '60', 'mangName': '도로변대기', 'no2Grade': '1', 'no2Value': '0.013', 'numOfRows': '10', 'o3Grade': '', 'o3Value': '-', 'pageNo': '1', 'pm10Grade': '2', 'pm10Grade1h': '1', 'pm10Value': '30', 'pm10Value24': '40', 'pm25Grade': '2', 'pm25Grade1h': '1', 'pm25Value': '11', 'pm25Value24': '18', 'resultCode': '', 'resultMsg': '', 'rnum': 0, 'serviceKey': '', 'sidoName': '', 'so2Grade': '1', 'so2Value': '0.005', 'stationCode': '', 'stationName': '대왕판교로(백현동)', 'totalCount': '', 'ver': ''}, {'_returnType': 'json', 'coGrade': '1', 'coValue': '0.5', 'dataTerm': '', 'dataTime': '2018-07-21 03:00', 'khaiGrade': '2', 'khaiValue': '79', 'mangName': '도시대기', 'no2Grade': '2', 'no2Value': '0.046', 'numOfRows': '10', 'o3Grade': '1', 'o3Value': '0.004', 'pageNo': '1', 'pm10Grade': '2', 'pm10Grade1h': '2', 'pm10Value': '31', 'pm10Value24': '43', 'pm25Grade': '2', 'pm25Grade1h': '2', 'pm25Value': '26', 'pm25Value24': '27', 'resultCode': '', 'resultMsg': '', 'rnum': 0, 'serviceKey': '', 'sidoName': '', 'so2Grade': '1', 'so2Value': '0.004', 'stationCode': '', 'stationName': '단대동', 'totalCount': '', 'ver': ''}, {'_returnType': 'json', 'coGrade': '1', 'coValue': '0.7', 'dataTerm': '', 'dataTime': '2018-07-21 03:00', 'khaiGrade': '2', 'khaiValue': '90', 'mangName': '도시대기', 'no2Grade': '2', 'no2Value': '0.051', 'numOfRows': '10', 'o3Grade': '1', 'o3Value': '0.002', 'pageNo': '1', 'pm10Grade': '2', 'pm10Grade1h': '2', 'pm10Value': '34', 'pm10Value24': '43', 'pm25Grade': '2', 'pm25Grade1h': '2', 'pm25Value': '28', 'pm25Value24': '31', 'resultCode': '', 'resultMsg': '', 'rnum': 0, 'serviceKey': '', 'sidoName': '', 'so2Grade': '1', 'so2Value': '0.003', 'stationCode': '', 'stationName': '수내동', 'totalCount': '', 'ver': ''}]\n",
      "parm {'_returnType': 'json', 'coGrade': '', 'coValue': '', 'dataTerm': '', 'dataTime': '', 'khaiGrade': '', 'khaiValue': '', 'mangName': '', 'no2Grade': '', 'no2Value': '', 'numOfRows': '10', 'o3Grade': '', 'o3Value': '', 'pageNo': '1', 'pm10Grade': '', 'pm10Grade1h': '', 'pm10Value': '', 'pm10Value24': '', 'pm25Grade': '', 'pm25Grade1h': '', 'pm25Value': '', 'pm25Value24': '', 'resultCode': '', 'resultMsg': '', 'rnum': 0, 'serviceKey': 'ouDgEfEfPcpHk5tXojTqW+KYN7bR2ffQlXMFhMfuw80XGPGxtXP0Qf9JlaNayOtUWSuw9Gs8N0ARbBOeJSZQmw==', 'sidoName': '경기', 'so2Grade': '', 'so2Value': '', 'stationCode': '', 'stationName': '', 'totalCount': '', 'ver': '1.3'}\n",
      "ArpltnInforInqireSvcVo {'_returnType': 'json', 'coGrade': '', 'coValue': '', 'dataTerm': '', 'dataTime': '', 'khaiGrade': '', 'khaiValue': '', 'mangName': '', 'no2Grade': '', 'no2Value': '', 'numOfRows': '10', 'o3Grade': '', 'o3Value': '', 'pageNo': '1', 'pm10Grade': '', 'pm10Grade1h': '', 'pm10Value': '', 'pm10Value24': '', 'pm25Grade': '', 'pm25Grade1h': '', 'pm25Value': '', 'pm25Value24': '', 'resultCode': '', 'resultMsg': '', 'rnum': 0, 'serviceKey': 'ouDgEfEfPcpHk5tXojTqW+KYN7bR2ffQlXMFhMfuw80XGPGxtXP0Qf9JlaNayOtUWSuw9Gs8N0ARbBOeJSZQmw==', 'sidoName': '경기', 'so2Grade': '', 'so2Value': '', 'stationCode': '', 'stationName': '', 'totalCount': '', 'ver': '1.3'}\n",
      "totalCount 86\n"
     ]
    }
   ],
   "source": [
    "for (k, v) in resultObj.items():\n",
    "    print(k, v)"
   ]
  },
  {
   "cell_type": "markdown",
   "metadata": {},
   "source": [
    "결과값을 key, value 쌍으로만 출력."
   ]
  },
  {
   "cell_type": "markdown",
   "metadata": {},
   "source": [
    "___"
   ]
  },
  {
   "cell_type": "markdown",
   "metadata": {},
   "source": [
    "# xml"
   ]
  },
  {
   "cell_type": "markdown",
   "metadata": {},
   "source": [
    "xml\n",
    "- 태그가 제한되어있는 html의 단점을 극복하기 위해 만들어진 사람, 기계에게 모두 편리한 markup language.\n",
    "- 구조화된 데이터를 만들때 주로 사용.\n",
    "- 태그에 제한이 없다 - 의미를 갖게끔 마음대로 정의하면 됨.\n",
    "- 장점\n",
    "    * string type이다: byte로 변환하여 주고받기 편리하다.(주로 전송 목적 - html=주로 보여주기 목적)\n",
    "    * json에 비해 찾으려는 데이터를 찾기 쉽다.\n",
    "    * validation을 제공한다: 중간에서 에러 발생시 실행이 안된다.(디버깅이 편리)\n",
    "- 단점\n",
    "    * 코드가 길어진다.\n",
    "    * 문서 type, schema를 반드시 명시해줘야 한다.\n",
    "- DTD: xml의 구조를 정의해 놓은 것(DB의 스키마와 비슷한 기능)"
   ]
  },
  {
   "cell_type": "markdown",
   "metadata": {},
   "source": [
    "json과의 차이\n",
    "- json보다 복잡하다.\n",
    "- 설명을 달아놓기 편리하다.\n",
    "- 전송시 사전작업 필요 - 통신상태 확인 필요: 데이터 용량이 크다."
   ]
  },
  {
   "cell_type": "markdown",
   "metadata": {},
   "source": [
    "유의사항\n",
    "- xml prolog가 반드시 필요하다.\n",
    "- 대문자, 소문자를 섞어 쓸 수 없다(소문자만 쓰는 방법 추천)\n",
    "- 태그를 닫는 순서를 제대로 맞추지 않으면 에러 발생.\n",
    "- attribute는 따옴표로 감싸줘야 한다."
   ]
  },
  {
   "cell_type": "markdown",
   "metadata": {},
   "source": [
    "Xpath\n",
    "- css를 통해 특정 노드 한곳에만 접근 가능하게 해 준다.\n",
    "- 임의 검색 가능(순차적으로 검색할 필요 없음).\n",
    "- /: root node 선택.\n",
    "- //: 절대 경로.\n",
    "- .: current node 선택.\n",
    "- ..: current node의 부모 node 선택.\n",
    "- @: attribute 선택."
   ]
  },
  {
   "cell_type": "markdown",
   "metadata": {},
   "source": [
    "lxml\n",
    "- C를 기반으로 만들어졌다(퍼포먼스 높음)\n",
    "- 파이썬에서 xml을 파싱하거나 생성할 수 있게 해주는 모듈."
   ]
  },
  {
   "cell_type": "code",
   "execution_count": 83,
   "metadata": {},
   "outputs": [],
   "source": [
    "from lxml import etree"
   ]
  },
  {
   "cell_type": "code",
   "execution_count": 84,
   "metadata": {},
   "outputs": [],
   "source": [
    "bookstore = etree.Element(\"bookstore\")\n",
    "book1 = etree.SubElement(bookstore, \"book\")\n",
    "book2 = etree.SubElement(bookstore, \"book\", attrib={\"category\":\"children\"})"
   ]
  },
  {
   "cell_type": "markdown",
   "metadata": {},
   "source": [
    "Element: xml node 생성.\n",
    "\n",
    "SubElement: 특정 xml node의 자식 node 생성."
   ]
  },
  {
   "cell_type": "code",
   "execution_count": 86,
   "metadata": {},
   "outputs": [
    {
     "name": "stdout",
     "output_type": "stream",
     "text": [
      "<Element book at 0x1095a7548>\n"
     ]
    }
   ],
   "source": [
    "book1.attrib[\"category\"] = \"cooking\"\n",
    "print(book1)"
   ]
  },
  {
   "cell_type": "markdown",
   "metadata": {},
   "source": [
    "바로 프린트 안됨: Element 객체이기 때문에 문자열로 읽어와야 함."
   ]
  },
  {
   "cell_type": "code",
   "execution_count": 87,
   "metadata": {},
   "outputs": [
    {
     "data": {
      "text/plain": [
       "b'<bookstore>\\n  <book category=\"cooking\"/>\\n  <book category=\"children\"/>\\n</bookstore>\\n'"
      ]
     },
     "execution_count": 87,
     "metadata": {},
     "output_type": "execute_result"
    }
   ],
   "source": [
    "etree.tostring(bookstore, pretty_print=True)"
   ]
  },
  {
   "cell_type": "markdown",
   "metadata": {},
   "source": [
    "tostring: str을 byte형태로 변환."
   ]
  },
  {
   "cell_type": "code",
   "execution_count": 88,
   "metadata": {},
   "outputs": [
    {
     "name": "stdout",
     "output_type": "stream",
     "text": [
      "<bookstore>\n",
      "  <book category=\"cooking\"/>\n",
      "  <book category=\"children\"/>\n",
      "</bookstore>\n"
     ]
    }
   ],
   "source": [
    "etree.dump(bookstore)"
   ]
  },
  {
   "cell_type": "markdown",
   "metadata": {},
   "source": [
    "dump: 표준 출력으로 etree 출력."
   ]
  },
  {
   "cell_type": "code",
   "execution_count": 91,
   "metadata": {},
   "outputs": [
    {
     "name": "stdout",
     "output_type": "stream",
     "text": [
      "<title>Harry Potter</title>\n"
     ]
    }
   ],
   "source": [
    "title1 = etree.Element(\"title\")\n",
    "title1.text = \"Harry Potter\"\n",
    "\n",
    "etree.dump(title1)"
   ]
  },
  {
   "cell_type": "markdown",
   "metadata": {},
   "source": [
    "title이라는 tag를 만들고 그 값을 Harry Potter로 설정."
   ]
  },
  {
   "cell_type": "code",
   "execution_count": 92,
   "metadata": {},
   "outputs": [],
   "source": [
    "title1.attrib[\"lang\"] = \"en\""
   ]
  },
  {
   "cell_type": "code",
   "execution_count": 93,
   "metadata": {},
   "outputs": [
    {
     "name": "stdout",
     "output_type": "stream",
     "text": [
      "<title lang=\"en\">Harry Potter</title>\n"
     ]
    }
   ],
   "source": [
    "etree.dump(title1)"
   ]
  },
  {
   "cell_type": "markdown",
   "metadata": {},
   "source": [
    "title tag에 attribute 추가."
   ]
  },
  {
   "cell_type": "code",
   "execution_count": 94,
   "metadata": {},
   "outputs": [
    {
     "name": "stdout",
     "output_type": "stream",
     "text": [
      "<bookstore>\n",
      "  <book category=\"cooking\"/>\n",
      "  <book category=\"children\">\n",
      "    <title lang=\"en\">Harry Potter</title>\n",
      "  </book>\n",
      "</bookstore>\n"
     ]
    }
   ],
   "source": [
    "book2.append(title1)\n",
    "etree.dump(bookstore)"
   ]
  },
  {
   "cell_type": "markdown",
   "metadata": {},
   "source": [
    "title1을 book2의 자식으로 설정."
   ]
  },
  {
   "cell_type": "code",
   "execution_count": 95,
   "metadata": {},
   "outputs": [
    {
     "name": "stdout",
     "output_type": "stream",
     "text": [
      "<bookstore>\n",
      "  <book category=\"cooking\">\n",
      "    <title lang=\"en\"/>\n",
      "  </book>\n",
      "  <book category=\"children\">\n",
      "    <title lang=\"en\">Harry Potter</title>\n",
      "  </book>\n",
      "</bookstore>\n"
     ]
    }
   ],
   "source": [
    "etree.SubElement(book1, \"title\", attrib={\"lang\":title1.get(\"lang\")})\n",
    "etree.dump(bookstore)"
   ]
  },
  {
   "cell_type": "markdown",
   "metadata": {},
   "source": [
    "title1의 attribute인 lang=\"en\"을 가져와 book1의 attrib에 추가."
   ]
  },
  {
   "cell_type": "code",
   "execution_count": 96,
   "metadata": {},
   "outputs": [
    {
     "name": "stdout",
     "output_type": "stream",
     "text": [
      "<class 'bytes'>\n",
      "b'<bookstore><book category=\"cooking\"><title lang=\"en\"/></book><book category=\"children\"><title lang=\"en\">Harry Potter</title></book></bookstore>'\n"
     ]
    }
   ],
   "source": [
    "xmlByte = etree.tostring(bookstore)\n",
    "print(type(xmlByte))\n",
    "print(xmlByte)"
   ]
  },
  {
   "cell_type": "markdown",
   "metadata": {},
   "source": [
    "xml 객체를 byte형태로 변환하였다.\n",
    "\n",
    "문제점: xml type이라는 명시가 없다."
   ]
  },
  {
   "cell_type": "code",
   "execution_count": 97,
   "metadata": {},
   "outputs": [
    {
     "name": "stdout",
     "output_type": "stream",
     "text": [
      "b'<?xml version=\\'1.0\\' encoding=\\'ASCII\\'?>\\n<bookstore><book category=\"cooking\"><title lang=\"en\"/></book><book category=\"children\"><title lang=\"en\">Harry Potter</title></book></bookstore>'\n"
     ]
    }
   ],
   "source": [
    "xmlByte = etree.tostring(bookstore, xml_declaration=True)\n",
    "print(xmlByte)"
   ]
  },
  {
   "cell_type": "markdown",
   "metadata": {},
   "source": [
    "해결: xml_declaration 옵션을 True로 설정."
   ]
  },
  {
   "cell_type": "code",
   "execution_count": 98,
   "metadata": {},
   "outputs": [],
   "source": [
    "xmlByte = etree.tostring(bookstore, encoding=\"utf-8\", xml_declaration=True)"
   ]
  },
  {
   "cell_type": "markdown",
   "metadata": {},
   "source": [
    "받는 사람이 받은 xml파일을 읽을 방법에 대해서도 명시 가능."
   ]
  },
  {
   "cell_type": "code",
   "execution_count": 99,
   "metadata": {},
   "outputs": [
    {
     "name": "stdout",
     "output_type": "stream",
     "text": [
      "<bookstore>\n",
      "  <book category=\"cooking\">\n",
      "    <title lang=\"en\"/>\n",
      "  </book>\n",
      "  <book category=\"children\">\n",
      "    <title lang=\"en\">Harry Potter</title>\n",
      "  </book>\n",
      "</bookstore>\n"
     ]
    }
   ],
   "source": [
    "temp = etree.fromstring(xmlByte)\n",
    "etree.dump(temp)"
   ]
  },
  {
   "cell_type": "markdown",
   "metadata": {},
   "source": [
    "byte형태로 받은 xml 객체를 lxml 객체로 받아 출력."
   ]
  },
  {
   "cell_type": "code",
   "execution_count": 100,
   "metadata": {},
   "outputs": [],
   "source": [
    "tree = etree.ElementTree(temp)"
   ]
  },
  {
   "cell_type": "code",
   "execution_count": 102,
   "metadata": {},
   "outputs": [
    {
     "data": {
      "text/plain": [
       "'bookstore'"
      ]
     },
     "execution_count": 102,
     "metadata": {},
     "output_type": "execute_result"
    }
   ],
   "source": [
    "root = tree.getroot()\n",
    "root.tag"
   ]
  },
  {
   "cell_type": "markdown",
   "metadata": {},
   "source": [
    "root node 이름을 가져옴."
   ]
  },
  {
   "cell_type": "code",
   "execution_count": 103,
   "metadata": {},
   "outputs": [
    {
     "name": "stdout",
     "output_type": "stream",
     "text": [
      "1.0\n",
      "utf-8\n"
     ]
    }
   ],
   "source": [
    "print(tree.docinfo.xml_version)\n",
    "print(tree.docinfo.encoding)"
   ]
  },
  {
   "cell_type": "markdown",
   "metadata": {},
   "source": [
    "tree의 정보를 가져올 수 있다."
   ]
  },
  {
   "cell_type": "code",
   "execution_count": 104,
   "metadata": {},
   "outputs": [
    {
     "name": "stdout",
     "output_type": "stream",
     "text": [
      "None\n"
     ]
    },
    {
     "data": {
      "text/plain": [
       "2"
      ]
     },
     "execution_count": 104,
     "metadata": {},
     "output_type": "execute_result"
    }
   ],
   "source": [
    "print(root.getparent())\n",
    "\n",
    "children = root.getchildren()\n",
    "len(children)"
   ]
  },
  {
   "cell_type": "code",
   "execution_count": 105,
   "metadata": {},
   "outputs": [
    {
     "name": "stdout",
     "output_type": "stream",
     "text": [
      "book cooking\n",
      "book children\n"
     ]
    }
   ],
   "source": [
    "for child in children:\n",
    "    print(child.tag, child.get(\"category\"))"
   ]
  },
  {
   "cell_type": "markdown",
   "metadata": {},
   "source": [
    "root부터 아래로 내려오며 child의 정보 출력."
   ]
  },
  {
   "cell_type": "markdown",
   "metadata": {},
   "source": [
    "## 예제 - urllib과 xml을 활용하여 API 접근"
   ]
  },
  {
   "cell_type": "code",
   "execution_count": 106,
   "metadata": {},
   "outputs": [],
   "source": [
    "url = \"http://openapi.airkorea.or.kr/openapi/services/rest/ArpltnInforInqireSvc/getMsrstnAcctoRltmMesureDnsty\"\n",
    "\n",
    "params = {\n",
    "    \"serviceKey\": servicekey,\n",
    "    \"numOfRows\": 10,\n",
    "    \"pageNo\": 1,\n",
    "    \"dataTerm\": \"DAILY\",\n",
    "    \"stationName\": None,\n",
    "    \"ver\": \"1.3\"\n",
    "}\n",
    "\n",
    "params[\"stationName\"] = \"성북구\""
   ]
  },
  {
   "cell_type": "code",
   "execution_count": 107,
   "metadata": {},
   "outputs": [],
   "source": [
    "params[\"serviceKey\"] = urllib.parse.unquote(params[\"serviceKey\"])\n",
    "params = urllib.parse.urlencode(params)\n",
    "params = params.encode('utf-8')"
   ]
  },
  {
   "cell_type": "code",
   "execution_count": 108,
   "metadata": {},
   "outputs": [],
   "source": [
    "req = urllib.request.Request(url, data=params)\n",
    "res = urllib.request.urlopen(req)\n",
    "resResult = res.read()"
   ]
  },
  {
   "cell_type": "code",
   "execution_count": 110,
   "metadata": {},
   "outputs": [
    {
     "name": "stdout",
     "output_type": "stream",
     "text": [
      "<response>\n",
      "\t<header>\n",
      "\t\t<resultCode>00</resultCode>\n",
      "\t\t<resultMsg>NORMAL SERVICE.</resultMsg>\n",
      "\t</header>\n",
      "\t<body>\n",
      "\t\t<items>\n",
      "\t\t\t\n",
      "\t\t\t\t<item>\n",
      "\t\t\t\t\t<dataTime>2018-07-21 04:00</dataTime>\n",
      "\t\t\t\t\t\n",
      "                        <mangName>도시대기</mangName>\n",
      "                    \n",
      "\t\t\t\t\t<so2Value>0.002</so2Value>\n",
      "\t\t\t\t\t<coValue>0.5</coValue>\n",
      "\t\t\t\t\t<o3Value>0.007</o3Value>\n",
      "\t\t\t\t\t<no2Value>0.019</no2Value>\n",
      "\t\t\t\t\t<pm10Value>35</pm10Value>\n",
      "\t\t\t\t\t\n",
      "                        <pm10Value24>34</pm10Value24>\n",
      "                    \n",
      "\t\t\t\t\t\n",
      "                        <pm25Value>22</pm25Value>\n",
      "                    \n",
      "                    \n",
      "                        <pm25Value24>22</pm25Value24>\n",
      "                    \n",
      "\t\t\t\t\t<khaiValue>66</khaiValue>\n",
      "\t\t\t\t\t<khaiGrade>2</khaiGrade>\n",
      "\t\t\t\t\t<so2Grade>1</so2Grade>\n",
      "\t\t\t\t\t<coGrade>1</coGrade>\n",
      "\t\t\t\t\t<o3Grade>1</o3Grade>\n",
      "\t\t\t\t\t<no2Grade>1</no2Grade>\n",
      "\t\t\t\t\t<pm10Grade>2</pm10Grade>\n",
      "\t\t\t\t\t\n",
      "                        <pm25Grade>2</pm25Grade>\n",
      "                    \n",
      "                    \n",
      "                        <pm10Grade1h>2</pm10Grade1h>\n",
      "                        <pm25Grade1h>2</pm25Grade1h>\n",
      "                    \n",
      "\t\t\t\t</item>\n",
      "\t\t\t\n",
      "\t\t\t\t<item>\n",
      "\t\t\t\t\t<dataTime>2018-07-21 03:00</dataTime>\n",
      "\t\t\t\t\t\n",
      "                        <mangName>도시대기</mangName>\n",
      "                    \n",
      "\t\t\t\t\t<so2Value>0.002</so2Value>\n",
      "\t\t\t\t\t<coValue>0.5</coValue>\n",
      "\t\t\t\t\t<o3Value>0.006</o3Value>\n",
      "\t\t\t\t\t<no2Value>0.024</no2Value>\n",
      "\t\t\t\t\t<pm10Value>27</pm10Value>\n",
      "\t\t\t\t\t\n",
      "                        <pm10Value24>35</pm10Value24>\n",
      "                    \n",
      "\t\t\t\t\t\n",
      "                        <pm25Value>18</pm25Value>\n",
      "                    \n",
      "                    \n",
      "                        <pm25Value24>22</pm25Value24>\n",
      "                    \n",
      "\t\t\t\t\t<khaiValue>66</khaiValue>\n",
      "\t\t\t\t\t<khaiGrade>2</khaiGrade>\n",
      "\t\t\t\t\t<so2Grade>1</so2Grade>\n",
      "\t\t\t\t\t<coGrade>1</coGrade>\n",
      "\t\t\t\t\t<o3Grade>1</o3Grade>\n",
      "\t\t\t\t\t<no2Grade>1</no2Grade>\n",
      "\t\t\t\t\t<pm10Grade>2</pm10Grade>\n",
      "\t\t\t\t\t\n",
      "                        <pm25Grade>2</pm25Grade>\n",
      "                    \n",
      "                    \n",
      "                        <pm10Grade1h>1</pm10Grade1h>\n",
      "                        <pm25Grade1h>2</pm25Grade1h>\n",
      "                    \n",
      "\t\t\t\t</item>\n",
      "\t\t\t\n",
      "\t\t\t\t<item>\n",
      "\t\t\t\t\t<dataTime>2018-07-21 02:00</dataTime>\n",
      "\t\t\t\t\t\n",
      "                        <mangName>도시대기</mangName>\n",
      "                    \n",
      "\t\t\t\t\t<so2Value>0.002</so2Value>\n",
      "\t\t\t\t\t<coValue>0.5</coValue>\n",
      "\t\t\t\t\t<o3Value>0.009</o3Value>\n",
      "\t\t\t\t\t<no2Value>0.023</no2Value>\n",
      "\t\t\t\t\t<pm10Value>26</pm10Value>\n",
      "\t\t\t\t\t\n",
      "                        <pm10Value24>38</pm10Value24>\n",
      "                    \n",
      "\t\t\t\t\t\n",
      "                        <pm25Value>19</pm25Value>\n",
      "                    \n",
      "                    \n",
      "                        <pm25Value24>24</pm25Value24>\n",
      "                    \n",
      "\t\t\t\t\t<khaiValue>72</khaiValue>\n",
      "\t\t\t\t\t<khaiGrade>2</khaiGrade>\n",
      "\t\t\t\t\t<so2Grade>1</so2Grade>\n",
      "\t\t\t\t\t<coGrade>1</coGrade>\n",
      "\t\t\t\t\t<o3Grade>1</o3Grade>\n",
      "\t\t\t\t\t<no2Grade>1</no2Grade>\n",
      "\t\t\t\t\t<pm10Grade>2</pm10Grade>\n",
      "\t\t\t\t\t\n",
      "                        <pm25Grade>2</pm25Grade>\n",
      "                    \n",
      "                    \n",
      "                        <pm10Grade1h>1</pm10Grade1h>\n",
      "                        <pm25Grade1h>2</pm25Grade1h>\n",
      "                    \n",
      "\t\t\t\t</item>\n",
      "\t\t\t\n",
      "\t\t\t\t<item>\n",
      "\t\t\t\t\t<dataTime>2018-07-21 01:00</dataTime>\n",
      "\t\t\t\t\t\n",
      "                        <mangName>도시대기</mangName>\n",
      "                    \n",
      "\t\t\t\t\t<so2Value>0.002</so2Value>\n",
      "\t\t\t\t\t<coValue>0.5</coValue>\n",
      "\t\t\t\t\t<o3Value>0.004</o3Value>\n",
      "\t\t\t\t\t<no2Value>0.031</no2Value>\n",
      "\t\t\t\t\t<pm10Value>28</pm10Value>\n",
      "\t\t\t\t\t\n",
      "                        <pm10Value24>41</pm10Value24>\n",
      "                    \n",
      "\t\t\t\t\t\n",
      "                        <pm25Value>20</pm25Value>\n",
      "                    \n",
      "                    \n",
      "                        <pm25Value24>25</pm25Value24>\n",
      "                    \n",
      "\t\t\t\t\t<khaiValue>74</khaiValue>\n",
      "\t\t\t\t\t<khaiGrade>2</khaiGrade>\n",
      "\t\t\t\t\t<so2Grade>1</so2Grade>\n",
      "\t\t\t\t\t<coGrade>1</coGrade>\n",
      "\t\t\t\t\t<o3Grade>1</o3Grade>\n",
      "\t\t\t\t\t<no2Grade>2</no2Grade>\n",
      "\t\t\t\t\t<pm10Grade>2</pm10Grade>\n",
      "\t\t\t\t\t\n",
      "                        <pm25Grade>2</pm25Grade>\n",
      "                    \n",
      "                    \n",
      "                        <pm10Grade1h>1</pm10Grade1h>\n",
      "                        <pm25Grade1h>2</pm25Grade1h>\n",
      "                    \n",
      "\t\t\t\t</item>\n",
      "\t\t\t\n",
      "\t\t\t\t<item>\n",
      "\t\t\t\t\t<dataTime>2018-07-20 24:00</dataTime>\n",
      "\t\t\t\t\t\n",
      "                        <mangName>도시대기</mangName>\n",
      "                    \n",
      "\t\t\t\t\t<so2Value>0.003</so2Value>\n",
      "\t\t\t\t\t<coValue>0.5</coValue>\n",
      "\t\t\t\t\t<o3Value>0.007</o3Value>\n",
      "\t\t\t\t\t<no2Value>0.033</no2Value>\n",
      "\t\t\t\t\t<pm10Value>32</pm10Value>\n",
      "\t\t\t\t\t\n",
      "                        <pm10Value24>44</pm10Value24>\n",
      "                    \n",
      "\t\t\t\t\t\n",
      "                        <pm25Value>17</pm25Value>\n",
      "                    \n",
      "                    \n",
      "                        <pm25Value24>27</pm25Value24>\n",
      "                    \n",
      "\t\t\t\t\t<khaiValue>79</khaiValue>\n",
      "\t\t\t\t\t<khaiGrade>2</khaiGrade>\n",
      "\t\t\t\t\t<so2Grade>1</so2Grade>\n",
      "\t\t\t\t\t<coGrade>1</coGrade>\n",
      "\t\t\t\t\t<o3Grade>1</o3Grade>\n",
      "\t\t\t\t\t<no2Grade>2</no2Grade>\n",
      "\t\t\t\t\t<pm10Grade>2</pm10Grade>\n",
      "\t\t\t\t\t\n",
      "                        <pm25Grade>2</pm25Grade>\n",
      "                    \n",
      "                    \n",
      "                        <pm10Grade1h>2</pm10Grade1h>\n",
      "                        <pm25Grade1h>2</pm25Grade1h>\n",
      "                    \n",
      "\t\t\t\t</item>\n",
      "\t\t\t\n",
      "\t\t\t\t<item>\n",
      "\t\t\t\t\t<dataTime>2018-07-20 23:00</dataTime>\n",
      "\t\t\t\t\t\n",
      "                        <mangName>도시대기</mangName>\n",
      "                    \n",
      "\t\t\t\t\t<so2Value>0.003</so2Value>\n",
      "\t\t\t\t\t<coValue>0.5</coValue>\n",
      "\t\t\t\t\t<o3Value>0.009</o3Value>\n",
      "\t\t\t\t\t<no2Value>0.034</no2Value>\n",
      "\t\t\t\t\t<pm10Value>29</pm10Value>\n",
      "\t\t\t\t\t\n",
      "                        <pm10Value24>46</pm10Value24>\n",
      "                    \n",
      "\t\t\t\t\t\n",
      "                        <pm25Value>22</pm25Value>\n",
      "                    \n",
      "                    \n",
      "                        <pm25Value24>28</pm25Value24>\n",
      "                    \n",
      "\t\t\t\t\t<khaiValue>82</khaiValue>\n",
      "\t\t\t\t\t<khaiGrade>2</khaiGrade>\n",
      "\t\t\t\t\t<so2Grade>1</so2Grade>\n",
      "\t\t\t\t\t<coGrade>1</coGrade>\n",
      "\t\t\t\t\t<o3Grade>1</o3Grade>\n",
      "\t\t\t\t\t<no2Grade>2</no2Grade>\n",
      "\t\t\t\t\t<pm10Grade>2</pm10Grade>\n",
      "\t\t\t\t\t\n",
      "                        <pm25Grade>2</pm25Grade>\n",
      "                    \n",
      "                    \n",
      "                        <pm10Grade1h>1</pm10Grade1h>\n",
      "                        <pm25Grade1h>2</pm25Grade1h>\n",
      "                    \n",
      "\t\t\t\t</item>\n",
      "\t\t\t\n",
      "\t\t\t\t<item>\n",
      "\t\t\t\t\t<dataTime>2018-07-20 22:00</dataTime>\n",
      "\t\t\t\t\t\n",
      "                        <mangName>도시대기</mangName>\n",
      "                    \n",
      "\t\t\t\t\t<so2Value>0.003</so2Value>\n",
      "\t\t\t\t\t<coValue>0.4</coValue>\n",
      "\t\t\t\t\t<o3Value>0.019</o3Value>\n",
      "\t\t\t\t\t<no2Value>0.028</no2Value>\n",
      "\t\t\t\t\t<pm10Value>37</pm10Value>\n",
      "\t\t\t\t\t\n",
      "                        <pm10Value24>48</pm10Value24>\n",
      "                    \n",
      "\t\t\t\t\t\n",
      "                        <pm25Value>20</pm25Value>\n",
      "                    \n",
      "                    \n",
      "                        <pm25Value24>28</pm25Value24>\n",
      "                    \n",
      "\t\t\t\t\t<khaiValue>82</khaiValue>\n",
      "\t\t\t\t\t<khaiGrade>2</khaiGrade>\n",
      "\t\t\t\t\t<so2Grade>1</so2Grade>\n",
      "\t\t\t\t\t<coGrade>1</coGrade>\n",
      "\t\t\t\t\t<o3Grade>1</o3Grade>\n",
      "\t\t\t\t\t<no2Grade>1</no2Grade>\n",
      "\t\t\t\t\t<pm10Grade>2</pm10Grade>\n",
      "\t\t\t\t\t\n",
      "                        <pm25Grade>2</pm25Grade>\n",
      "                    \n",
      "                    \n",
      "                        <pm10Grade1h>2</pm10Grade1h>\n",
      "                        <pm25Grade1h>2</pm25Grade1h>\n",
      "                    \n",
      "\t\t\t\t</item>\n",
      "\t\t\t\n",
      "\t\t\t\t<item>\n",
      "\t\t\t\t\t<dataTime>2018-07-20 21:00</dataTime>\n",
      "\t\t\t\t\t\n",
      "                        <mangName>도시대기</mangName>\n",
      "                    \n",
      "\t\t\t\t\t<so2Value>0.003</so2Value>\n",
      "\t\t\t\t\t<coValue>0.4</coValue>\n",
      "\t\t\t\t\t<o3Value>0.033</o3Value>\n",
      "\t\t\t\t\t<no2Value>0.025</no2Value>\n",
      "\t\t\t\t\t<pm10Value>42</pm10Value>\n",
      "\t\t\t\t\t\n",
      "                        <pm10Value24>51</pm10Value24>\n",
      "                    \n",
      "\t\t\t\t\t\n",
      "                        <pm25Value>28</pm25Value>\n",
      "                    \n",
      "                    \n",
      "                        <pm25Value24>29</pm25Value24>\n",
      "                    \n",
      "\t\t\t\t\t<khaiValue>85</khaiValue>\n",
      "\t\t\t\t\t<khaiGrade>2</khaiGrade>\n",
      "\t\t\t\t\t<so2Grade>1</so2Grade>\n",
      "\t\t\t\t\t<coGrade>1</coGrade>\n",
      "\t\t\t\t\t<o3Grade>2</o3Grade>\n",
      "\t\t\t\t\t<no2Grade>1</no2Grade>\n",
      "\t\t\t\t\t<pm10Grade>2</pm10Grade>\n",
      "\t\t\t\t\t\n",
      "                        <pm25Grade>2</pm25Grade>\n",
      "                    \n",
      "                    \n",
      "                        <pm10Grade1h>2</pm10Grade1h>\n",
      "                        <pm25Grade1h>2</pm25Grade1h>\n",
      "                    \n",
      "\t\t\t\t</item>\n",
      "\t\t\t\n",
      "\t\t\t\t<item>\n",
      "\t\t\t\t\t<dataTime>2018-07-20 20:00</dataTime>\n",
      "\t\t\t\t\t\n",
      "                        <mangName>도시대기</mangName>\n",
      "                    \n",
      "\t\t\t\t\t<so2Value>0.004</so2Value>\n",
      "\t\t\t\t\t<coValue>0.4</coValue>\n",
      "\t\t\t\t\t<o3Value>0.048</o3Value>\n",
      "\t\t\t\t\t<no2Value>0.023</no2Value>\n",
      "\t\t\t\t\t<pm10Value>44</pm10Value>\n",
      "\t\t\t\t\t\n",
      "                        <pm10Value24>53</pm10Value24>\n",
      "                    \n",
      "\t\t\t\t\t\n",
      "                        <pm25Value>21</pm25Value>\n",
      "                    \n",
      "                    \n",
      "                        <pm25Value24>29</pm25Value24>\n",
      "                    \n",
      "\t\t\t\t\t<khaiValue>85</khaiValue>\n",
      "\t\t\t\t\t<khaiGrade>2</khaiGrade>\n",
      "\t\t\t\t\t<so2Grade>1</so2Grade>\n",
      "\t\t\t\t\t<coGrade>1</coGrade>\n",
      "\t\t\t\t\t<o3Grade>2</o3Grade>\n",
      "\t\t\t\t\t<no2Grade>1</no2Grade>\n",
      "\t\t\t\t\t<pm10Grade>2</pm10Grade>\n",
      "\t\t\t\t\t\n",
      "                        <pm25Grade>2</pm25Grade>\n",
      "                    \n",
      "                    \n",
      "                        <pm10Grade1h>2</pm10Grade1h>\n",
      "                        <pm25Grade1h>2</pm25Grade1h>\n",
      "                    \n",
      "\t\t\t\t</item>\n",
      "\t\t\t\n",
      "\t\t\t\t<item>\n",
      "\t\t\t\t\t<dataTime>2018-07-20 19:00</dataTime>\n",
      "\t\t\t\t\t\n",
      "                        <mangName>도시대기</mangName>\n",
      "                    \n",
      "\t\t\t\t\t<so2Value>0.006</so2Value>\n",
      "\t\t\t\t\t<coValue>0.4</coValue>\n",
      "\t\t\t\t\t<o3Value>0.051</o3Value>\n",
      "\t\t\t\t\t<no2Value>0.029</no2Value>\n",
      "\t\t\t\t\t<pm10Value>38</pm10Value>\n",
      "\t\t\t\t\t\n",
      "                        <pm10Value24>53</pm10Value24>\n",
      "                    \n",
      "\t\t\t\t\t\n",
      "                        <pm25Value>27</pm25Value>\n",
      "                    \n",
      "                    \n",
      "                        <pm25Value24>31</pm25Value24>\n",
      "                    \n",
      "\t\t\t\t\t<khaiValue>90</khaiValue>\n",
      "\t\t\t\t\t<khaiGrade>2</khaiGrade>\n",
      "\t\t\t\t\t<so2Grade>1</so2Grade>\n",
      "\t\t\t\t\t<coGrade>1</coGrade>\n",
      "\t\t\t\t\t<o3Grade>2</o3Grade>\n",
      "\t\t\t\t\t<no2Grade>1</no2Grade>\n",
      "\t\t\t\t\t<pm10Grade>2</pm10Grade>\n",
      "\t\t\t\t\t\n",
      "                        <pm25Grade>2</pm25Grade>\n",
      "                    \n",
      "                    \n",
      "                        <pm10Grade1h>2</pm10Grade1h>\n",
      "                        <pm25Grade1h>2</pm25Grade1h>\n",
      "                    \n",
      "\t\t\t\t</item>\n",
      "\t\t\t\n",
      "\t\t</items>\n",
      "\t\t\t<numOfRows>10</numOfRows>\n",
      "\t\t\t<pageNo>1</pageNo>\n",
      "\t\t\t<totalCount>23</totalCount>\n",
      "\t</body>\n",
      "</response>\n"
     ]
    }
   ],
   "source": [
    "xml = etree.fromstring(resResult)\n",
    "\n",
    "etree.dump(xml)"
   ]
  },
  {
   "cell_type": "markdown",
   "metadata": {},
   "source": [
    "json과 달리 xml은 byte 형태에서 str형태로 바꿔주는 과정을 거치지 않아도 정상적으로 출력됨."
   ]
  },
  {
   "cell_type": "code",
   "execution_count": 116,
   "metadata": {},
   "outputs": [
    {
     "name": "stdout",
     "output_type": "stream",
     "text": [
      "10\n"
     ]
    }
   ],
   "source": [
    "xmlTree = etree.ElementTree(xml)\n",
    "root = xmlTree.getroot()\n",
    "\n",
    "items = root.findall(\".//item\")\n",
    "print(len(items))"
   ]
  },
  {
   "cell_type": "markdown",
   "metadata": {},
   "source": [
    "root 하위의 모든 item tag를 가져온다."
   ]
  },
  {
   "cell_type": "code",
   "execution_count": 117,
   "metadata": {},
   "outputs": [
    {
     "name": "stdout",
     "output_type": "stream",
     "text": [
      "20\n",
      "dataTime 2018-07-21 04:00\n",
      "mangName 도시대기\n",
      "so2Value 0.002\n",
      "coValue 0.5\n",
      "o3Value 0.007\n",
      "no2Value 0.019\n",
      "pm10Value 35\n",
      "pm10Value24 34\n",
      "pm25Value 22\n",
      "pm25Value24 22\n",
      "khaiValue 66\n",
      "khaiGrade 2\n",
      "so2Grade 1\n",
      "coGrade 1\n",
      "o3Grade 1\n",
      "no2Grade 1\n",
      "pm10Grade 2\n",
      "pm25Grade 2\n",
      "pm10Grade1h 2\n",
      "pm25Grade1h 2\n",
      "20\n",
      "dataTime 2018-07-21 03:00\n",
      "mangName 도시대기\n",
      "so2Value 0.002\n",
      "coValue 0.5\n",
      "o3Value 0.006\n",
      "no2Value 0.024\n",
      "pm10Value 27\n",
      "pm10Value24 35\n",
      "pm25Value 18\n",
      "pm25Value24 22\n",
      "khaiValue 66\n",
      "khaiGrade 2\n",
      "so2Grade 1\n",
      "coGrade 1\n",
      "o3Grade 1\n",
      "no2Grade 1\n",
      "pm10Grade 2\n",
      "pm25Grade 2\n",
      "pm10Grade1h 1\n",
      "pm25Grade1h 2\n",
      "20\n",
      "dataTime 2018-07-21 02:00\n",
      "mangName 도시대기\n",
      "so2Value 0.002\n",
      "coValue 0.5\n",
      "o3Value 0.009\n",
      "no2Value 0.023\n",
      "pm10Value 26\n",
      "pm10Value24 38\n",
      "pm25Value 19\n",
      "pm25Value24 24\n",
      "khaiValue 72\n",
      "khaiGrade 2\n",
      "so2Grade 1\n",
      "coGrade 1\n",
      "o3Grade 1\n",
      "no2Grade 1\n",
      "pm10Grade 2\n",
      "pm25Grade 2\n",
      "pm10Grade1h 1\n",
      "pm25Grade1h 2\n",
      "20\n",
      "dataTime 2018-07-21 01:00\n",
      "mangName 도시대기\n",
      "so2Value 0.002\n",
      "coValue 0.5\n",
      "o3Value 0.004\n",
      "no2Value 0.031\n",
      "pm10Value 28\n",
      "pm10Value24 41\n",
      "pm25Value 20\n",
      "pm25Value24 25\n",
      "khaiValue 74\n",
      "khaiGrade 2\n",
      "so2Grade 1\n",
      "coGrade 1\n",
      "o3Grade 1\n",
      "no2Grade 2\n",
      "pm10Grade 2\n",
      "pm25Grade 2\n",
      "pm10Grade1h 1\n",
      "pm25Grade1h 2\n",
      "20\n",
      "dataTime 2018-07-20 24:00\n",
      "mangName 도시대기\n",
      "so2Value 0.003\n",
      "coValue 0.5\n",
      "o3Value 0.007\n",
      "no2Value 0.033\n",
      "pm10Value 32\n",
      "pm10Value24 44\n",
      "pm25Value 17\n",
      "pm25Value24 27\n",
      "khaiValue 79\n",
      "khaiGrade 2\n",
      "so2Grade 1\n",
      "coGrade 1\n",
      "o3Grade 1\n",
      "no2Grade 2\n",
      "pm10Grade 2\n",
      "pm25Grade 2\n",
      "pm10Grade1h 2\n",
      "pm25Grade1h 2\n",
      "20\n",
      "dataTime 2018-07-20 23:00\n",
      "mangName 도시대기\n",
      "so2Value 0.003\n",
      "coValue 0.5\n",
      "o3Value 0.009\n",
      "no2Value 0.034\n",
      "pm10Value 29\n",
      "pm10Value24 46\n",
      "pm25Value 22\n",
      "pm25Value24 28\n",
      "khaiValue 82\n",
      "khaiGrade 2\n",
      "so2Grade 1\n",
      "coGrade 1\n",
      "o3Grade 1\n",
      "no2Grade 2\n",
      "pm10Grade 2\n",
      "pm25Grade 2\n",
      "pm10Grade1h 1\n",
      "pm25Grade1h 2\n",
      "20\n",
      "dataTime 2018-07-20 22:00\n",
      "mangName 도시대기\n",
      "so2Value 0.003\n",
      "coValue 0.4\n",
      "o3Value 0.019\n",
      "no2Value 0.028\n",
      "pm10Value 37\n",
      "pm10Value24 48\n",
      "pm25Value 20\n",
      "pm25Value24 28\n",
      "khaiValue 82\n",
      "khaiGrade 2\n",
      "so2Grade 1\n",
      "coGrade 1\n",
      "o3Grade 1\n",
      "no2Grade 1\n",
      "pm10Grade 2\n",
      "pm25Grade 2\n",
      "pm10Grade1h 2\n",
      "pm25Grade1h 2\n",
      "20\n",
      "dataTime 2018-07-20 21:00\n",
      "mangName 도시대기\n",
      "so2Value 0.003\n",
      "coValue 0.4\n",
      "o3Value 0.033\n",
      "no2Value 0.025\n",
      "pm10Value 42\n",
      "pm10Value24 51\n",
      "pm25Value 28\n",
      "pm25Value24 29\n",
      "khaiValue 85\n",
      "khaiGrade 2\n",
      "so2Grade 1\n",
      "coGrade 1\n",
      "o3Grade 2\n",
      "no2Grade 1\n",
      "pm10Grade 2\n",
      "pm25Grade 2\n",
      "pm10Grade1h 2\n",
      "pm25Grade1h 2\n",
      "20\n",
      "dataTime 2018-07-20 20:00\n",
      "mangName 도시대기\n",
      "so2Value 0.004\n",
      "coValue 0.4\n",
      "o3Value 0.048\n",
      "no2Value 0.023\n",
      "pm10Value 44\n",
      "pm10Value24 53\n",
      "pm25Value 21\n",
      "pm25Value24 29\n",
      "khaiValue 85\n",
      "khaiGrade 2\n",
      "so2Grade 1\n",
      "coGrade 1\n",
      "o3Grade 2\n",
      "no2Grade 1\n",
      "pm10Grade 2\n",
      "pm25Grade 2\n",
      "pm10Grade1h 2\n",
      "pm25Grade1h 2\n",
      "20\n",
      "dataTime 2018-07-20 19:00\n",
      "mangName 도시대기\n",
      "so2Value 0.006\n",
      "coValue 0.4\n",
      "o3Value 0.051\n",
      "no2Value 0.029\n",
      "pm10Value 38\n",
      "pm10Value24 53\n",
      "pm25Value 27\n",
      "pm25Value24 31\n",
      "khaiValue 90\n",
      "khaiGrade 2\n",
      "so2Grade 1\n",
      "coGrade 1\n",
      "o3Grade 2\n",
      "no2Grade 1\n",
      "pm10Grade 2\n",
      "pm25Grade 2\n",
      "pm10Grade1h 2\n",
      "pm25Grade1h 2\n"
     ]
    }
   ],
   "source": [
    "for item in items:\n",
    "    print(len(item))\n",
    "    for i in range(len(item)):\n",
    "        print(item[i].tag, item[i].text)"
   ]
  },
  {
   "cell_type": "markdown",
   "metadata": {},
   "source": [
    "각각의 item tag는 20개의 하위 tag를 가지고 있다.\n",
    "\n",
    ".tag: item의 tag, .text: item의 값."
   ]
  },
  {
   "cell_type": "code",
   "execution_count": 118,
   "metadata": {},
   "outputs": [],
   "source": [
    "pm10List = root.findall(\".//item/pm10Value\")"
   ]
  },
  {
   "cell_type": "markdown",
   "metadata": {},
   "source": [
    "item의 하위 tag인 pm10Value tag만 따로 뽑아냈다."
   ]
  },
  {
   "cell_type": "code",
   "execution_count": 119,
   "metadata": {},
   "outputs": [
    {
     "name": "stdout",
     "output_type": "stream",
     "text": [
      "pm10Value 35\n",
      "pm10Value 27\n",
      "pm10Value 26\n",
      "pm10Value 28\n",
      "pm10Value 32\n",
      "pm10Value 29\n",
      "pm10Value 37\n",
      "pm10Value 42\n",
      "pm10Value 44\n",
      "pm10Value 38\n"
     ]
    }
   ],
   "source": [
    "for row in pm10List:\n",
    "    print(row.tag, row.text)"
   ]
  },
  {
   "cell_type": "code",
   "execution_count": 120,
   "metadata": {},
   "outputs": [],
   "source": [
    "pm10ValueList = xml.cssselect(\"item > pm10Value\")"
   ]
  },
  {
   "cell_type": "markdown",
   "metadata": {},
   "source": [
    "cssselect 사용하면 root부터 일일이 명시할 필요 없어 편리.\n",
    "\n",
    "item 바로 아래의 pm10Value를 가져온다."
   ]
  },
  {
   "cell_type": "code",
   "execution_count": 121,
   "metadata": {},
   "outputs": [
    {
     "name": "stdout",
     "output_type": "stream",
     "text": [
      "pm10Value 35\n",
      "pm10Value 27\n",
      "pm10Value 26\n",
      "pm10Value 28\n",
      "pm10Value 32\n",
      "pm10Value 29\n",
      "pm10Value 37\n",
      "pm10Value 42\n",
      "pm10Value 44\n",
      "pm10Value 38\n"
     ]
    }
   ],
   "source": [
    "for row in pm10ValueList:\n",
    "    print(row.tag, row.text)"
   ]
  }
 ],
 "metadata": {
  "kernelspec": {
   "display_name": "Python 3",
   "language": "python",
   "name": "python3"
  },
  "language_info": {
   "codemirror_mode": {
    "name": "ipython",
    "version": 3
   },
   "file_extension": ".py",
   "mimetype": "text/x-python",
   "name": "python",
   "nbconvert_exporter": "python",
   "pygments_lexer": "ipython3",
   "version": "3.6.5"
  }
 },
 "nbformat": 4,
 "nbformat_minor": 2
}
