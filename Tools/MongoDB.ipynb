{
 "cells": [
  {
   "cell_type": "markdown",
   "metadata": {},
   "source": [
    "# MongoDB"
   ]
  },
  {
   "cell_type": "markdown",
   "metadata": {},
   "source": [
    "## NoSQL"
   ]
  },
  {
   "cell_type": "markdown",
   "metadata": {},
   "source": [
    "등장 배경(RDBMS의 한계)\n",
    "- 기존 RDBMS 문제: 스키마를 미리 정의해야 함, 스키마 수정이 어려움.\n",
    "- 읽기는 빠르나 쓰기에 대해 병목현상 발생."
   ]
  },
  {
   "cell_type": "markdown",
   "metadata": {},
   "source": [
    "RDBMS\n",
    "- 정형 데이터\n",
    "- 랜덤 액세스, 복잡 연산\n",
    "- 정규화 데이터 모델\n",
    "- 일관성 중시, 지속적 업데이트시 적절.\n",
    "\n",
    "NoSQL\n",
    "- 비정형 데이터\n",
    "- 순차 액세스, 단순 연산\n",
    "- 비정규화\n",
    "- 분산처리성 중시\n",
    "- 증가량이 큰 데이터, 비정형 데이터 위주."
   ]
  },
  {
   "cell_type": "markdown",
   "metadata": {},
   "source": [
    "## MongoDB"
   ]
  },
  {
   "cell_type": "markdown",
   "metadata": {},
   "source": [
    "장점\n",
    "- 스키마를 자유롭게 수정할 수 있음: attribute 속성을 정의하지 않기 때문에.\n",
    "- 확장성 높음.\n",
    "- JSON구조 사용.\n",
    "\n",
    "단점\n",
    "- ACID 미지원 - 금융 등 분야에서는 부적절.\n",
    "- 데이터 손실의 위험성을 가지고 있음."
   ]
  },
  {
   "cell_type": "markdown",
   "metadata": {},
   "source": [
    "Collection = DBMS의 테이블\n",
    "\n",
    "Document = DBMS의 Tuple/Row\n",
    "\n",
    "Field = DBMS의 Column\n",
    "\n",
    "Embedded Documents = DBMS의 Table Join"
   ]
  },
  {
   "cell_type": "markdown",
   "metadata": {},
   "source": [
    "특징\n",
    "- Collection 내 document는 서로 다른 스키마를 가질 수 있음.\n",
    "- 데이터 타입에 대해 별도로 명시하지 않음.\n",
    "- 하나의 field값에 대해 리스트 형태로 여러개의 데이터를 관리할 수 있음."
   ]
  },
  {
   "cell_type": "markdown",
   "metadata": {},
   "source": [
    "RDBMS의 문제\n",
    "- 하나의 어플리케이션이 관리하는 데이터를 여러 테이블에서 나눠서 관리.\n",
    "- 필요한 데이터를 완성시키기 위해 여러번 Join을 거쳐야 한다."
   ]
  },
  {
   "cell_type": "markdown",
   "metadata": {},
   "source": [
    "___"
   ]
  },
  {
   "cell_type": "markdown",
   "metadata": {},
   "source": [
    "## 명령어"
   ]
  },
  {
   "cell_type": "markdown",
   "metadata": {},
   "source": [
    "mongod --bind_ip \"IP주소\": 입력한 IP주소로 mongodb 연결 생성(기본값: localhost)\n",
    "\n",
    "mongod --port \"포트번호\": 입력한 포트 번호로 mongodb 연결 생성(기본값: 27017)"
   ]
  },
  {
   "cell_type": "markdown",
   "metadata": {},
   "source": [
    "show databases = show dbs: 현재 존재하는 db 전부 표시\n",
    "\n",
    "use \"db이름\": 입력한 db가 있으면 해당 db 선택, 없으면 새로 만들고 db 선택.\n",
    "\n",
    "db.dropDatabase(): 현재 선택중인 db 제거.\n",
    "\n",
    "show roles: 사용 가능한 권한 출력(db에 따라 설정 가능한 권한 다름)"
   ]
  },
  {
   "cell_type": "markdown",
   "metadata": {},
   "source": [
    "db.createUser({\n",
    "\n",
    "    user: \"사용자 이름\",\n",
    "    pwd: \"비밀번호\",\n",
    "    roles: [{role: \"역할\", db: '관리 db'}, {role: \"역할\", db: '관리 db'}, ...]\n",
    "    \n",
    "})"
   ]
  },
  {
   "cell_type": "markdown",
   "metadata": {},
   "source": [
    "mongo -u '사용자 이름' -p '비밀번호' -authenticationDatabase \"접속 DB명\": db에 생성된 사용자 이름, 비밀번호로 접속."
   ]
  },
  {
   "cell_type": "markdown",
   "metadata": {},
   "source": [
    "db.createCollection('collection명', [인자]): collection 생성.\n",
    "\n",
    "인자\n",
    "- capped: 크기가 고정된 collection으로 생성. 용량 초과시 가장 오래된 데이터를 새로운 데이터로 대치.\n",
    "- size: collection 크기를 바이트 단위로 지정.\n",
    "- max: collection에 저장할 최대 document 갯수."
   ]
  },
  {
   "cell_type": "markdown",
   "metadata": {},
   "source": [
    "db.'collection명'.drop(): collection 제거."
   ]
  },
  {
   "cell_type": "markdown",
   "metadata": {},
   "source": [
    "_____"
   ]
  },
  {
   "cell_type": "markdown",
   "metadata": {},
   "source": [
    "### Create 명령어"
   ]
  },
  {
   "cell_type": "markdown",
   "metadata": {},
   "source": [
    "db.'collection명'.save({dictionary 형태 데이터}); - 값이 이미 존재할 경우 기존의 값을 덮어씀.\n",
    "\n",
    "db.'collection명'.insert({dictionary 형태 데이터}); - 값이 이미 존재할 경우 생성하지 않음.\n",
    "    * 예: db.item.save({name: \"New item 1\", price: 100000, ratio: 4.5});\n",
    "- 해당 collection이 없으면 자동으로 collection 생성.\n",
    "- 리스트 형태로 여러 document를 한번에 생성 가능.\n",
    "    * 예: db.item.save([{name: \"New item 3\", price: 70000, ratio: 3.8}, {name: \"New item 4\", price: 45000, ratio: 3.6}, ...]);\n",
    "    \n",
    "db.'collection명'.insertOne({dictionary 형태 데이터});\n",
    "    * 예: db.item.insertOne({name: \"New item 5\", price: 20000, ratio: 2.2});\n",
    "db.'collection명'.insertMany(리스트);\n",
    "    * 예: db.item.insertMany([{name: \"New item 6\", price: 30000, ratio: 2.8}, {name: \"New item 7\", price: 230000, ratio: 5}]);\n",
    "    \n",
    "Date(): 현재 시간을 string 값으로 반환.\n",
    "\n",
    "ISODate(): 현재 시간을 object 형태로 반환.\n",
    "\n",
    "ObjectId(): Document의 key값으로 사용됨. 12바이트의 hexadecimal로 id값 지정 가능(지정하지 않으면 순차적으로 index값 생성)\n",
    "\n",
    "숫자: 별도의 형태를 지정하지 않으면 기본적으로 double type으로 지정됨.\n",
    "- NumberInt(): 32비트형 정수 type\n",
    "- NumberLong(): 64비트형 정수 type\n",
    "- NumberDecimal(): 128비트형 정수 type"
   ]
  },
  {
   "cell_type": "markdown",
   "metadata": {},
   "source": [
    "___"
   ]
  },
  {
   "cell_type": "markdown",
   "metadata": {},
   "source": [
    "### Read 명령어"
   ]
  },
  {
   "cell_type": "markdown",
   "metadata": {},
   "source": [
    "db.'collection명'.find({query});\n",
    "- find의 argument 비워둘 경우 모든 데이터 출력(= select * from ...)\n",
    "- {query}의 모든 조건을 만족하는 데이터 출력.(AND 연산자와 유사)\n",
    "    * 예: db.item.find({name: \"New item 1\", price: 80000, ratio: 4.6});\n",
    "\n",
    "db.'collection명'.find({query}).pretty(); - 검색 결과를 보기 쉽게 보정.\n",
    "\n",
    "비교 연산\n",
    "- $eq: 주어진 값과 일치하는 값.\n",
    "  \n",
    "- $gt: 주어진 값보다 큰 값.\n",
    "\n",
    "- $gte: 주어진 값보다 크거나 같은 값.\n",
    "   \n",
    "   * 예: db.item.find({price: {$gte: 40000}}).pretty();\n",
    "\n",
    "- $lt: 주어진 값보다 작은 값.\n",
    "\n",
    "- $lte: 주어진 값보다 작거나 같은 값.\n",
    "\n",
    "- $ne: 주어진 값과 일치하지 않는 값.\n",
    "\n",
    "- $in: 주어진 배열 안에 속하는 값.\n",
    "\n",
    "    * 예: db.item.find({name: {$in: [\"New item 1\", \"New item 3\", \"New item 7\"]}}).pretty();\n",
    "\n",
    "- $nin: 주어진 배열 안에 속하지 않는 값.\n",
    "\n",
    "- 정수 형태의 데이터는 type이 달라도 그 값으로 검색 가능 - 다른 type의 같은 값이면 검색시 같이 검색된다.\n",
    "\n",
    "논리 연산\n",
    "- $or: 주어진 조건중 하나라도 true면 true\n",
    "\n",
    "    * 예: db.item.find({$or: [{price: 45000}, {name: \"New item 7\"}]}).pretty();\n",
    "\n",
    "- $and: 모든 조건이 true면 true\n",
    "\n",
    "- $not: 주어진 조건이 false면 true\n",
    "\n",
    "    * 예: db.item.find({price: {$not: {$eq: 230000}}}).pretty();\n",
    "\n",
    "- $nor: 주어진 모든 조건이 false면 true\n",
    "\n",
    "요소 query\n",
    "- $exist: 해당 field의 존재 여부 판단.\n",
    "\n",
    "    * 예: db.item.find({name: {$exists: true}}).pretty();\n",
    "    \n",
    "- $type: 해당 file의 자료형이 일치하는 document만 선택.\n",
    "\n",
    "    * 예: db.item.find({name: {$type: 'bool'}}).pretty();\n",
    "    \n",
    "정규식 query\n",
    "- $regex: 정규식을 이용하여 document 검색 가능.\n",
    "\n",
    "    * 형태\n",
    "   1. {field: {$regex: /pattern/}}\n",
    "   \n",
    "   2. {field: {$regex: 'pattern'}}\n",
    "   \n",
    "   3. {field: /pattern/}\n",
    "\n",
    "    * 예 \n",
    "    \n",
    "        db.item.find({name: {$regex: /New item[1-4]/}}).pretty();\n",
    "        \n",
    "        db.item.find({name: /New item [1, 3, 5, 7/}).pretty();\n",
    "        \n",
    "Projection\n",
    "- 특정 field를 선택하여 출력 가능\n",
    "    * 예: db.item.find({}, {\"_id\": false, \"name\": true, \"price\": true, \"ratio\": true}: _id값을 제외한 모든 field 출력\n",
    "    \n",
    "Cursor Method\n",
    "- sort(): 선택한 field에 대해 정렬하여 출력(1: 오름차순, -1: 내림차순)\n",
    "    * 예\n",
    "    \n",
    "        db.item.find().sort({price: 1});\n",
    "        \n",
    "        db.item.find().sort({price: 1, name: -1}); - price가 같은 document는 name으로 내림차순 정렬\n",
    "- limit(): 선택한 document 출력 갯수를 제한함.\n",
    "    * 예: db.item.find().limit(4);    \n",
    "- skip(): 선택한 document의 head를 건너뛰고 출력.\n",
    "- count(): 선택한 document의 갯수 확인.\n",
    "    * 예: db.item.find().count();"
   ]
  },
  {
   "cell_type": "markdown",
   "metadata": {},
   "source": [
    "___"
   ]
  },
  {
   "cell_type": "markdown",
   "metadata": {},
   "source": [
    "### Update 명령어"
   ]
  },
  {
   "cell_type": "markdown",
   "metadata": {},
   "source": [
    "db.'collection명'.update({query}, {update값}, {인자});\n",
    "- 인자\n",
    "    1. upsert: true이고 query에 해당하는 document가 없으면 새로운 document 생성.\n",
    "        * 예: db.item.update({price: 60000}, {name: \"New item 8\", price: 60000, ratio: 4.1}, {upsert: true});\n",
    "    2. multi: true일 경우 여러개의 document 수정.\n",
    "    \n",
    "- 주의: document의 내용 자체가 update값으로 변한다는 점 주의.\n",
    "\n",
    "Field 수정 연산 query\n",
    "- $set: 특정 field만 수정\n",
    "\n",
    "    * 예: db.item.update({name: \"New item 1\"}, {$set: {price: 85000}});\n",
    "     \n",
    "- $unset: 특정 field 제거\n",
    "\n",
    "    * 예: db.item.update({name: \"New item 1\"}, {$unset: {price: 0}});\n",
    "    \n",
    "- $inc: 특정 field값 증감\n",
    "\n",
    "    * 예: db.item.update({name: \"New item 1\"}, {$inc: {price: 1000}});\n",
    "    \n",
    "- $mul: 특정 field값에 곱\n",
    "\n",
    "    * 예: db.item.update({name: /New item [1-8]/}, {$mul: {ratio: 0.5}});\n",
    "    \n",
    "- $rename: field의 이름 변경\n",
    "\n",
    "    * 예: db.item.update({name: /New item [1-4]/}, {$rename: {name: \"item\", ratio: \"star\"}}, {multi: true});\n",
    "    \n",
    "- $min: field 값이 주어진 값보다 크면 새 값으로 교체\n",
    "\n",
    "    * 예: db.item.update({}, {$min: {price: 65000}, {multi: true});\n",
    "    \n",
    "- $max: field 값이 주어진 값보다 작으면 새 값으로 교체\n",
    "\n",
    "    * 예: db.item.update({}, {$max: {price: 35000}, {multi: true});\n",
    "    \n",
    "document 수정\n",
    "- db.'collection명'.updateOne(): 검색된 항목 중 최상위 항목만 수정.(multi: false로 설정한것과 같음)\n",
    "- db.'collection명'.updateMulti(): 검색된 항목 모두 수정.(multi: true로 설정한것과 같음)\n",
    "- db.'collection명'.replaceOne(): 검색된 항목을 주어진 값으로 수정."
   ]
  },
  {
   "cell_type": "markdown",
   "metadata": {},
   "source": [
    "___"
   ]
  },
  {
   "cell_type": "markdown",
   "metadata": {},
   "source": [
    "### Delete 명령어"
   ]
  },
  {
   "cell_type": "markdown",
   "metadata": {},
   "source": [
    "db.'collection명'.remove({query}, {인자})\n",
    "    * 예: db.item.remove({name: /New item [5-8]/})\n",
    "- 인자: justone: query 조건을 만족하는 document가 여러개일 경우 하나만 제거.\n",
    "\n",
    "db.'collection명'.deleteOne({query})\n",
    "- query를 만족하는 document가 여러개일 경우 하나만 제거.(justone 설정한것과 같음)\n",
    "\n",
    "db.'collection명'.deleteMany({query})\n",
    "- query를 만족하는 document 전부 제거.(justone 설정 안한것과 같음)"
   ]
  },
  {
   "cell_type": "markdown",
   "metadata": {},
   "source": [
    "___"
   ]
  },
  {
   "cell_type": "markdown",
   "metadata": {},
   "source": [
    "### Shell Script"
   ]
  },
  {
   "cell_type": "markdown",
   "metadata": {},
   "source": [
    "Java Script 포맷의 script를 shell 상에서 직접 실행 가능.\n",
    "    * 예\n",
    "    var item_9_name = \"New item 9\"\n",
    "    var item_9_price = NumberInt(55000)\n",
    "    var item_9_ratio = NumberDecimal(3.7)\n",
    "    var col_item = db.item\n",
    "    col_item.insert({name: item_9_name, price: item_9_price, ratio: item_9_ratio});\n",
    "    \n",
    "자주 실행하는 query 기법을 함수로 작성하여 사용.\n",
    "    * 예\n",
    "    searchItemByName = function(item_name){\n",
    "        return db.item.find({name: item_name}, {_id: false, name: true, price: true, ratio: true})\n",
    "    }\n",
    "    searchItemByName(\"New item 5\");\n",
    "    \n",
    "    for(count=0; count<1000; count++){\n",
    "        db.newitem.insertOne({name: \"New item \" + count, price: NumberInt(Math.random() * 100000, ratio: Math.random() * 5});\n",
    "    }\n",
    "        => 입력한 for문 대로 newitem이라는 collection에 추가된다."
   ]
  },
  {
   "cell_type": "markdown",
   "metadata": {},
   "source": [
    "___"
   ]
  },
  {
   "cell_type": "markdown",
   "metadata": {},
   "source": [
    "### Indexing"
   ]
  },
  {
   "cell_type": "markdown",
   "metadata": {},
   "source": [
    "찾고자 하는 document를 빠르게 찾기 위해 사용.\n",
    "- 작업 전: document를 순차적으로만 탐색 가능.\n",
    "- 작업 후: index의 key값을 통해 document 위치 추적 가능.\n",
    "\n",
    "db.'collection명'.getIndexes();\n",
    "- 현재 collection에 생성된 모든 index 출력.\n",
    "- 기본값: _id값을 기준으로 한 index가 생성되어 있음.\n",
    "\n",
    "db.'collection명'.createIndex({key: 1(-1)})\n",
    "- key값 1: 오름차순\n",
    "- key값 -1: 내림차순\n",
    "\n",
    "db.'collection명'.createIndex({key값들})\n",
    "- 다양한 key값들을 기준으로 index 생성.\n",
    "- 자주 사용하는 query의 조합에 맞출 경우 성능 향상.\n",
    "- 복합 index로는 단일 key값을 찾을 수 없음.\n",
    "    * 예: db.newitem.createIndex({price: 1, ratio: -1});\n",
    "    \n",
    "db.'collection명'.totalIndexSize()\n",
    "- 생성된 index 크기(byte단위) 확인 가능.\n",
    "\n",
    "db.'collection명'.dropIndex({key값})\n",
    "- 해당 key값 또는 key값의 조합을 만족하는 index 삭제.\n",
    "    * 예: db.newitem.dropIndex({price: 1});\n",
    "    \n",
    "db.'collection명'.dropIndexes()\n",
    "- 해당 collection의 모든 index 삭제.(기본값인 _id값 기준 index는 삭제 안됨)"
   ]
  }
 ],
 "metadata": {
  "kernelspec": {
   "display_name": "Python 3",
   "language": "python",
   "name": "python3"
  },
  "language_info": {
   "codemirror_mode": {
    "name": "ipython",
    "version": 3
   },
   "file_extension": ".py",
   "mimetype": "text/x-python",
   "name": "python",
   "nbconvert_exporter": "python",
   "pygments_lexer": "ipython3",
   "version": "3.6.5"
  }
 },
 "nbformat": 4,
 "nbformat_minor": 2
}
