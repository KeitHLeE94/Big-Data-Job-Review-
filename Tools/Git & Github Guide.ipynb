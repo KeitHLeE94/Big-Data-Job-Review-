{
 "cells": [
  {
   "cell_type": "markdown",
   "metadata": {},
   "source": [
    "Git = 형상관리도구(버전관리도구)"
   ]
  },
  {
   "cell_type": "markdown",
   "metadata": {},
   "source": [
    "버전관리: 서로 작업하고있는 코드가 매치되는지.\n",
    "\n",
    "협동 작업 가능: 같은 코드를 여러명이 작업했을때 발생하는 문제 해결. 대부분의 프로젝트는 팀단위이기 때문에 전체 팀원이 하나의 소스를 가지고 효율적으로 작업할 수 있는 도구\n",
    "\n",
    "개발하는동안 소스코드의 변경사항 보존: 버그 및 문제점 추적, 과거 특정 시점의 소스로 손쉽게 되돌릴 수 있음."
   ]
  },
  {
   "cell_type": "markdown",
   "metadata": {},
   "source": [
    "로컬 버전관리: 협업이 목적이 아닌 과거의 버전만 관리하고자 할때 사용"
   ]
  },
  {
   "cell_type": "markdown",
   "metadata": {},
   "source": [
    "중앙집중식 버전관리: 협업에 초점을 맞춤. 버전을 관리하는 중앙 서버에서 사용자가 파일을 받아 작업 후 중앙 서버에 돌려주는 방식.(CVS, SubVersion)"
   ]
  },
  {
   "cell_type": "markdown",
   "metadata": {},
   "source": [
    "중앙집중식 버전관리 문제점: 중앙 서버 장애시 여러 문제 발생 -> 분산 버전관리 시스템"
   ]
  },
  {
   "cell_type": "markdown",
   "metadata": {},
   "source": [
    "분산 버전관리: 서버, 사용자 모두가 파일과 변경기록을 가지고 있음.(Git)\n",
    "\n",
    "장점: 중앙서버 장애시 복원 용이, 서버 역할 담당을 바꿀 수 있음."
   ]
  },
  {
   "cell_type": "markdown",
   "metadata": {},
   "source": [
    "SVN 파일관리: 파일 변경 기록을 시간 순서대로 기록. 파일을 가져올때 원본 파일과 변경 내역을 전부 읽어온다.\n",
    "\n",
    "Snapshot: Git의 파일 관리. 파일이 변경되는 순간 파일의 스냅샷을 저장. 변경된 파일은 새로운 파일로 저장하고 변경되지 않은 파일은 이전의 링크 저장."
   ]
  },
  {
   "cell_type": "markdown",
   "metadata": {},
   "source": [
    "git config: git의 원격 작업시 필요.\n",
    "- git config --global user.name \"이름\"\n",
    "- git config --global user.email \"이메일@***.com\"\n",
    "- git config --list: git 설정 사항 확인\n",
    "- 옵션:\n",
    "    1. --global: 현재 계정에 대한 전체적 옵션\n",
    "    2. --system: 시스템 내 다른 계정으로도 사용 가능\n",
    "    3. --local: 현재 디렉토리 내에서만 사용 가능\n",
    "\n",
    "git init: 현재 프로젝트 폴더를 로컬 repository로 생성\n",
    "\n",
    "git status: 현재상태 확인\n",
    "- Modified: 파일 수정되었으나 아직 commit되지 않은 상태\n",
    "- Staged: commit 대기중인 상태\n",
    "- Committed: 로컬 repository에 변경사항 저장됨\n",
    "\n",
    "git add: stage 생성(버전 관리할 파일 추가)\n",
    "\n",
    "git diff: 변경된 파일 내용 비교\n",
    "\n",
    "-: 없어진 부분, +: 추가된 부분\n",
    "- git diff: Unstaged(modified)상태인 파일만 표시\n",
    "- git diff --staged: staged상태인 파일을 비교\n",
    "\n",
    "git reset: HEAD에 저장된 작업 취소(마지막 작업 내용 취소)\n",
    "- git reset --soft: commit 되돌림 - commit message내용 변경.\n",
    "- git reset --mixed: 파일을 untracking 상태로 되돌림.\n",
    "- git reset --hard: 파일 자체를 되돌림. (주의: 로그가 사라지므로 취소한 작업내용 재적용은 불가능)\n",
    "\n",
    "git commit: stage 과정의 파일을 committed 상태로 변경하고 snapshot 생성\n",
    "- git commit -a: stage 과정 생략하고 바로 commit 실행.\n",
    "- git commit --amend: 마지막 commit 수정하고 다시 commit\n",
    "- git commit -m \"...\": ...의 내용 commit message에 추가하고 commit\n",
    "\n",
    ".gitignore: Git에서 관리하지 않아도 되는 파일 지정(원하는 파일만 관리할 수 있다)\n",
    "- *.txt: 확장자가 .txt인 파일 무시\n",
    "- !new_file.txt: .txt파일은 전부 무시하나 new_file.txt 파일은 예외로 tracking 실행\n",
    "- /temp: 하위 디렉토리에 있는 파일 무시하지 않음\n",
    "- build/: build/ 디렉토리에 있는 모든 파일 무시\n",
    "\n",
    "git log\n",
    "- git show \"commitID\": commitID로 log에서 찾아 보여줌.(commitID는 뒷내용 생략 가능 -> 앞내용으로 검색시 겹치는 기록 있으면 최신의 기록만 보여줌)\n",
    "- git tag \"태그명\"\"commitID\": commitID를 태그명으로 호출 가능"
   ]
  },
  {
   "cell_type": "markdown",
   "metadata": {},
   "source": [
    "___"
   ]
  },
  {
   "cell_type": "markdown",
   "metadata": {},
   "source": [
    "Github: Git 서비스를 인터페이스로 제공함\n",
    "\n",
    "사용 이유: 사용자가 많기 때문.(다른 사람이 코드를 보고 수정사항 제안 가능, 개인 역량 판단 가능)"
   ]
  },
  {
   "cell_type": "markdown",
   "metadata": {},
   "source": [
    "git 원격작업\n",
    "\n",
    "\n",
    "git remote: 원격 서버와 연결\n",
    "\n",
    "git clone: 원격 서버에서 복사해옴\n",
    "\n",
    "git push: 원격 서버에 파일 전송\n",
    "- commit 해줘야 원격으로 전송한다.\n",
    "\n",
    "git pull: 온라인 상의 파일(온라인에서 작업하여 오프라인에 없는 파일) 가져옴\n",
    "\n",
    "원격 파일과 로컬 파일의 내용이 달라 충돌 발생: push reject, pull conflict. pull해서 어느 부분에서 충돌했는지 알려주면 파일 수정하여 어느 부분이 맞는지 알려주고 commit한 다음 push 가능."
   ]
  },
  {
   "cell_type": "markdown",
   "metadata": {},
   "source": [
    "Branch: 충돌 문제를 해결하기 위한 도구\n",
    "\n",
    "현재 저장된 내용을 기점으로 분기하여 수정 후 추가함으로써 충돌 최소화.\n",
    "- Master: 전체 흐름 총괄.\n",
    "\n",
    "git branch: 현재 존재하는 branch 표시(highlight된것 = 현재 작업중인 branch)\n",
    "\n",
    "git branch ...: ...이라는 branch 생성\n",
    "\n",
    "git checkout ...: ...이라는 branch로 이동\n",
    "\n",
    "=> 작업환경 분리 가능.\n",
    "\n",
    "git merge ...: ...의 작업내용 반영. Master에서 실행.(commit 명령 자동 실행)\n",
    "\n",
    "master에서 작업후 commit하면: 다른 branch에는 작업내용 반영 안됨.\n",
    "\n",
    "-> 이 상태로 다른 branch에서 작업한 후 merge하면 conflict 발생하여 바뀐 내용 표시.\n",
    "\n",
    "git mergetool: 4가지 창(Master, branch들이 공유하는 부분, 작업하고있는 다른 branch, 충돌 내용) 띄움. 충돌 발생시 쓴다."
   ]
  },
  {
   "cell_type": "markdown",
   "metadata": {},
   "source": [
    "fork: 다른 사람의 repository를 복제하여 새로운 repository 생성\n",
    "\n",
    "=> 개인 소유의 repository 수정한 후 pull request 보내 원본 repository에 반영 가능."
   ]
  },
  {
   "cell_type": "code",
   "execution_count": null,
   "metadata": {},
   "outputs": [],
   "source": []
  }
 ],
 "metadata": {
  "kernelspec": {
   "display_name": "Python 3",
   "language": "python",
   "name": "python3"
  },
  "language_info": {
   "codemirror_mode": {
    "name": "ipython",
    "version": 3
   },
   "file_extension": ".py",
   "mimetype": "text/x-python",
   "name": "python",
   "nbconvert_exporter": "python",
   "pygments_lexer": "ipython3",
   "version": "3.6.5"
  }
 },
 "nbformat": 4,
 "nbformat_minor": 2
}
