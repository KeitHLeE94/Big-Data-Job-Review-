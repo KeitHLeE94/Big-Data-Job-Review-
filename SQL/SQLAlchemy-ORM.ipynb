{
 "cells": [
  {
   "cell_type": "code",
   "execution_count": 150,
   "metadata": {},
   "outputs": [],
   "source": [
    "from sqlalchemy import create_engine\n",
    "\n",
    "engine = create_engine('sqlite:///alchemy_orm.db', echo=True)"
   ]
  },
  {
   "cell_type": "code",
   "execution_count": 151,
   "metadata": {},
   "outputs": [],
   "source": [
    "from sqlalchemy.ext.declarative import declarative_base\n",
    "\n",
    "base = declarative_base()"
   ]
  },
  {
   "cell_type": "markdown",
   "metadata": {},
   "source": [
    "base를 상속받아 class를 만들어야 한다."
   ]
  },
  {
   "cell_type": "code",
   "execution_count": 152,
   "metadata": {},
   "outputs": [],
   "source": [
    "from sqlalchemy import Column, Integer, String, ForeignKey"
   ]
  },
  {
   "cell_type": "code",
   "execution_count": 153,
   "metadata": {},
   "outputs": [],
   "source": [
    "class Artist(base):\n",
    "    __tablename__ = 'artist'\n",
    "    \n",
    "    id = Column(Integer, primary_key=True)\n",
    "    name = Column(String)\n",
    "    \n",
    "    def __repr__(self):\n",
    "        return \"<T'artist(name='%s')>\" % (self.name)"
   ]
  },
  {
   "cell_type": "code",
   "execution_count": 154,
   "metadata": {},
   "outputs": [],
   "source": [
    "class Album(base):\n",
    "    __tablename__ = 'album'\n",
    "    \n",
    "    id = Column(Integer, primary_key=True)\n",
    "    title = Column(String)\n",
    "    artist_id = Column(Integer, ForeignKey('artist.id'))"
   ]
  },
  {
   "cell_type": "code",
   "execution_count": 155,
   "metadata": {},
   "outputs": [],
   "source": [
    "class Genre(base):\n",
    "    __tablename__ = 'genre'\n",
    "    \n",
    "    id = Column(Integer, primary_key=True)\n",
    "    name = Column(String)"
   ]
  },
  {
   "cell_type": "code",
   "execution_count": 156,
   "metadata": {},
   "outputs": [],
   "source": [
    "class Track(base):\n",
    "    __tablename__ = 'track'\n",
    "    \n",
    "    id = Column(Integer, primary_key=True)\n",
    "    title = Column(String)\n",
    "    album_id = Column(Integer, ForeignKey('album.id'))\n",
    "    genre_id = Column(Integer, ForeignKey('genre.id'))"
   ]
  },
  {
   "cell_type": "markdown",
   "metadata": {},
   "source": [
    "일반적인 파이썬 코딩 작업과 매우 흡사하다."
   ]
  },
  {
   "cell_type": "code",
   "execution_count": 157,
   "metadata": {},
   "outputs": [
    {
     "name": "stdout",
     "output_type": "stream",
     "text": [
      "2018-07-15 21:27:53,399 INFO sqlalchemy.engine.base.Engine SELECT CAST('test plain returns' AS VARCHAR(60)) AS anon_1\n",
      "2018-07-15 21:27:53,401 INFO sqlalchemy.engine.base.Engine ()\n",
      "2018-07-15 21:27:53,402 INFO sqlalchemy.engine.base.Engine SELECT CAST('test unicode returns' AS VARCHAR(60)) AS anon_1\n",
      "2018-07-15 21:27:53,404 INFO sqlalchemy.engine.base.Engine ()\n",
      "2018-07-15 21:27:53,406 INFO sqlalchemy.engine.base.Engine PRAGMA table_info(\"artist\")\n",
      "2018-07-15 21:27:53,407 INFO sqlalchemy.engine.base.Engine ()\n",
      "2018-07-15 21:27:53,410 INFO sqlalchemy.engine.base.Engine PRAGMA table_info(\"album\")\n",
      "2018-07-15 21:27:53,412 INFO sqlalchemy.engine.base.Engine ()\n",
      "2018-07-15 21:27:53,413 INFO sqlalchemy.engine.base.Engine PRAGMA table_info(\"genre\")\n",
      "2018-07-15 21:27:53,415 INFO sqlalchemy.engine.base.Engine ()\n",
      "2018-07-15 21:27:53,418 INFO sqlalchemy.engine.base.Engine PRAGMA table_info(\"track\")\n",
      "2018-07-15 21:27:53,419 INFO sqlalchemy.engine.base.Engine ()\n"
     ]
    }
   ],
   "source": [
    "base.metadata.create_all(engine)"
   ]
  },
  {
   "cell_type": "markdown",
   "metadata": {},
   "source": [
    "class를 선언해서 넘겨주면 알아서 테이블을 만든다."
   ]
  },
  {
   "cell_type": "code",
   "execution_count": 158,
   "metadata": {},
   "outputs": [],
   "source": [
    "artist1 = Artist(name='Led Zepplin')\n",
    "artist2 = Artist(name='AC/DC')"
   ]
  },
  {
   "cell_type": "code",
   "execution_count": 159,
   "metadata": {
    "scrolled": true
   },
   "outputs": [
    {
     "data": {
      "text/plain": [
       "<T'artist(name='Led Zepplin')>"
      ]
     },
     "execution_count": 159,
     "metadata": {},
     "output_type": "execute_result"
    }
   ],
   "source": [
    "artist1"
   ]
  },
  {
   "cell_type": "markdown",
   "metadata": {},
   "source": [
    "메모리 공간과 실제 공간이 분리되어 있다 => session을 사용하여 연결해줘야 한다."
   ]
  },
  {
   "cell_type": "code",
   "execution_count": 160,
   "metadata": {},
   "outputs": [],
   "source": [
    "from sqlalchemy.orm import sessionmaker\n",
    "\n",
    "Session = sessionmaker(bind=engine)\n",
    "session = Session()"
   ]
  },
  {
   "cell_type": "markdown",
   "metadata": {},
   "source": [
    "base = core의 metadata, session = core의 conn"
   ]
  },
  {
   "cell_type": "code",
   "execution_count": 161,
   "metadata": {},
   "outputs": [
    {
     "name": "stdout",
     "output_type": "stream",
     "text": [
      "2018-07-15 21:29:34,697 INFO sqlalchemy.engine.base.Engine BEGIN (implicit)\n",
      "2018-07-15 21:29:34,703 INFO sqlalchemy.engine.base.Engine INSERT INTO artist (name) VALUES (?)\n",
      "2018-07-15 21:29:34,704 INFO sqlalchemy.engine.base.Engine ('Led Zepplin',)\n",
      "2018-07-15 21:29:34,708 INFO sqlalchemy.engine.base.Engine INSERT INTO artist (name) VALUES (?)\n",
      "2018-07-15 21:29:34,709 INFO sqlalchemy.engine.base.Engine ('AC/DC',)\n",
      "2018-07-15 21:29:34,711 INFO sqlalchemy.engine.base.Engine COMMIT\n"
     ]
    }
   ],
   "source": [
    "session.add_all([artist1, artist2])\n",
    "session.commit()"
   ]
  },
  {
   "cell_type": "markdown",
   "metadata": {},
   "source": [
    "session을 통해 바인딩된 엔진을 통해 실제 SQL을 실행하여 물리적으로 저장."
   ]
  },
  {
   "cell_type": "code",
   "execution_count": 162,
   "metadata": {},
   "outputs": [
    {
     "data": {
      "text/plain": [
       "IdentitySet([])"
      ]
     },
     "execution_count": 162,
     "metadata": {},
     "output_type": "execute_result"
    }
   ],
   "source": [
    "session.dirty"
   ]
  },
  {
   "cell_type": "code",
   "execution_count": 163,
   "metadata": {},
   "outputs": [],
   "source": [
    "artist2.name = 'xyz'"
   ]
  },
  {
   "cell_type": "code",
   "execution_count": 164,
   "metadata": {
    "scrolled": true
   },
   "outputs": [
    {
     "data": {
      "text/plain": [
       "IdentitySet([<T'artist(name='xyz')>])"
      ]
     },
     "execution_count": 164,
     "metadata": {},
     "output_type": "execute_result"
    }
   ],
   "source": [
    "session.dirty"
   ]
  },
  {
   "cell_type": "markdown",
   "metadata": {},
   "source": [
    "dirty\n",
    "- 메모리 상에 올라온 인스턴스의 값이 바뀌거나 삭제된 것이 있는지 감시.\n",
    "- 바뀐 것이 있으면 commit 해야 함을 알림"
   ]
  },
  {
   "cell_type": "code",
   "execution_count": 165,
   "metadata": {},
   "outputs": [
    {
     "name": "stdout",
     "output_type": "stream",
     "text": [
      "2018-07-15 21:30:11,034 INFO sqlalchemy.engine.base.Engine BEGIN (implicit)\n",
      "2018-07-15 21:30:11,039 INFO sqlalchemy.engine.base.Engine SELECT artist.id AS artist_id \n",
      "FROM artist \n",
      "WHERE artist.id = ?\n",
      "2018-07-15 21:30:11,041 INFO sqlalchemy.engine.base.Engine (14,)\n",
      "2018-07-15 21:30:11,045 INFO sqlalchemy.engine.base.Engine UPDATE artist SET name=? WHERE artist.id = ?\n",
      "2018-07-15 21:30:11,046 INFO sqlalchemy.engine.base.Engine ('xyz', 14)\n",
      "2018-07-15 21:30:11,049 INFO sqlalchemy.engine.base.Engine COMMIT\n"
     ]
    }
   ],
   "source": [
    "session.commit()"
   ]
  },
  {
   "cell_type": "code",
   "execution_count": 166,
   "metadata": {},
   "outputs": [
    {
     "data": {
      "text/plain": [
       "IdentitySet([])"
      ]
     },
     "execution_count": 166,
     "metadata": {},
     "output_type": "execute_result"
    }
   ],
   "source": [
    "session.dirty"
   ]
  },
  {
   "cell_type": "code",
   "execution_count": 167,
   "metadata": {},
   "outputs": [],
   "source": [
    "session.add_all([\n",
    "    Album(title='1', artist_id=1),\n",
    "    Album(title='2', artist_id=2),\n",
    "])"
   ]
  },
  {
   "cell_type": "code",
   "execution_count": 168,
   "metadata": {},
   "outputs": [
    {
     "data": {
      "text/plain": [
       "IdentitySet([])"
      ]
     },
     "execution_count": 168,
     "metadata": {},
     "output_type": "execute_result"
    }
   ],
   "source": [
    "session.dirty"
   ]
  },
  {
   "cell_type": "code",
   "execution_count": 169,
   "metadata": {},
   "outputs": [
    {
     "data": {
      "text/plain": [
       "IdentitySet([<__main__.Album object at 0x105f1df28>, <__main__.Album object at 0x105f3a080>])"
      ]
     },
     "execution_count": 169,
     "metadata": {},
     "output_type": "execute_result"
    }
   ],
   "source": [
    "session.new"
   ]
  },
  {
   "cell_type": "markdown",
   "metadata": {},
   "source": [
    "new\n",
    "- 새로운 내용이 추가되었는지 감시."
   ]
  },
  {
   "cell_type": "code",
   "execution_count": 170,
   "metadata": {
    "scrolled": true
   },
   "outputs": [
    {
     "name": "stdout",
     "output_type": "stream",
     "text": [
      "2018-07-15 21:30:33,406 INFO sqlalchemy.engine.base.Engine BEGIN (implicit)\n",
      "2018-07-15 21:30:33,413 INFO sqlalchemy.engine.base.Engine INSERT INTO album (title, artist_id) VALUES (?, ?)\n",
      "2018-07-15 21:30:33,416 INFO sqlalchemy.engine.base.Engine ('1', 1)\n",
      "2018-07-15 21:30:33,422 INFO sqlalchemy.engine.base.Engine INSERT INTO album (title, artist_id) VALUES (?, ?)\n",
      "2018-07-15 21:30:33,424 INFO sqlalchemy.engine.base.Engine ('2', 2)\n",
      "2018-07-15 21:30:33,426 INFO sqlalchemy.engine.base.Engine COMMIT\n"
     ]
    }
   ],
   "source": [
    "session.commit()"
   ]
  },
  {
   "cell_type": "code",
   "execution_count": 171,
   "metadata": {},
   "outputs": [],
   "source": [
    "session.add_all([\n",
    "    Genre(name='Rock'),\n",
    "    Genre(name='Metal'),\n",
    "])"
   ]
  },
  {
   "cell_type": "code",
   "execution_count": 172,
   "metadata": {},
   "outputs": [
    {
     "data": {
      "text/plain": [
       "IdentitySet([<__main__.Genre object at 0x105f3a6d8>, <__main__.Genre object at 0x105f3a748>])"
      ]
     },
     "execution_count": 172,
     "metadata": {},
     "output_type": "execute_result"
    }
   ],
   "source": [
    "session.new"
   ]
  },
  {
   "cell_type": "code",
   "execution_count": 173,
   "metadata": {},
   "outputs": [
    {
     "name": "stdout",
     "output_type": "stream",
     "text": [
      "2018-07-15 21:30:37,900 INFO sqlalchemy.engine.base.Engine BEGIN (implicit)\n",
      "2018-07-15 21:30:37,903 INFO sqlalchemy.engine.base.Engine INSERT INTO genre (name) VALUES (?)\n",
      "2018-07-15 21:30:37,904 INFO sqlalchemy.engine.base.Engine ('Rock',)\n",
      "2018-07-15 21:30:37,907 INFO sqlalchemy.engine.base.Engine INSERT INTO genre (name) VALUES (?)\n",
      "2018-07-15 21:30:37,909 INFO sqlalchemy.engine.base.Engine ('Metal',)\n",
      "2018-07-15 21:30:37,911 INFO sqlalchemy.engine.base.Engine COMMIT\n"
     ]
    }
   ],
   "source": [
    "session.commit()"
   ]
  },
  {
   "cell_type": "code",
   "execution_count": 174,
   "metadata": {},
   "outputs": [],
   "source": [
    "temp = Track(title='3-1', album_id=3, genre_id=3)"
   ]
  },
  {
   "cell_type": "code",
   "execution_count": 175,
   "metadata": {},
   "outputs": [],
   "source": [
    "session.add_all([temp])"
   ]
  },
  {
   "cell_type": "code",
   "execution_count": 176,
   "metadata": {},
   "outputs": [
    {
     "data": {
      "text/plain": [
       "IdentitySet([<__main__.Track object at 0x105f3a198>])"
      ]
     },
     "execution_count": 176,
     "metadata": {},
     "output_type": "execute_result"
    }
   ],
   "source": [
    "session.new"
   ]
  },
  {
   "cell_type": "code",
   "execution_count": 177,
   "metadata": {
    "scrolled": true
   },
   "outputs": [
    {
     "name": "stdout",
     "output_type": "stream",
     "text": [
      "2018-07-15 21:30:43,939 INFO sqlalchemy.engine.base.Engine BEGIN (implicit)\n",
      "2018-07-15 21:30:43,944 INFO sqlalchemy.engine.base.Engine INSERT INTO track (title, album_id, genre_id) VALUES (?, ?, ?)\n",
      "2018-07-15 21:30:43,946 INFO sqlalchemy.engine.base.Engine ('3-1', 3, 3)\n",
      "2018-07-15 21:30:43,950 INFO sqlalchemy.engine.base.Engine COMMIT\n"
     ]
    }
   ],
   "source": [
    "session.commit()"
   ]
  },
  {
   "cell_type": "markdown",
   "metadata": {},
   "source": [
    "객체형태로 저장하여 내용을 삽입할수도 있다."
   ]
  },
  {
   "cell_type": "code",
   "execution_count": 178,
   "metadata": {
    "scrolled": true
   },
   "outputs": [
    {
     "name": "stdout",
     "output_type": "stream",
     "text": [
      "2018-07-15 21:31:00,182 INFO sqlalchemy.engine.base.Engine BEGIN (implicit)\n",
      "2018-07-15 21:31:00,185 INFO sqlalchemy.engine.base.Engine SELECT artist.id AS artist_id, artist.name AS artist_name \n",
      "FROM artist\n",
      "2018-07-15 21:31:00,187 INFO sqlalchemy.engine.base.Engine ()\n",
      "1 Led Zepplin\n",
      "2 xyz\n",
      "3 Led Zepplin\n",
      "4 xyz\n",
      "5 Led Zepplin\n",
      "6 xyz\n",
      "7 Led Zepplin\n",
      "8 xyz\n",
      "9 Led Zepplin\n",
      "10 xyz\n",
      "11 Led Zepplin\n",
      "12 xyz\n",
      "13 Led Zepplin\n",
      "14 xyz\n"
     ]
    }
   ],
   "source": [
    "for row in session.query(Artist):\n",
    "    print(row.id, row.name)"
   ]
  },
  {
   "cell_type": "markdown",
   "metadata": {},
   "source": [
    "query: Artist 테이블에 저장된 모든 내용 검색(=select 구문)"
   ]
  },
  {
   "cell_type": "code",
   "execution_count": 179,
   "metadata": {},
   "outputs": [
    {
     "name": "stdout",
     "output_type": "stream",
     "text": [
      "2018-07-15 21:31:11,571 INFO sqlalchemy.engine.base.Engine SELECT artist.id AS artist_id, artist.name AS artist_name \n",
      "FROM artist \n",
      "WHERE artist.id = ?\n",
      "2018-07-15 21:31:11,575 INFO sqlalchemy.engine.base.Engine (1,)\n",
      "1 Led Zepplin\n"
     ]
    }
   ],
   "source": [
    "for row in session.query(Artist).filter(Artist.id==1):\n",
    "    print(row.id, row.name)"
   ]
  },
  {
   "cell_type": "markdown",
   "metadata": {},
   "source": [
    "filter: 조건 적용하여 Artist 테이블 검색. argument를 파이썬 문법에 맞게 넣어야 한다.(=where 구문)"
   ]
  },
  {
   "cell_type": "code",
   "execution_count": 181,
   "metadata": {},
   "outputs": [
    {
     "name": "stdout",
     "output_type": "stream",
     "text": [
      "2018-07-15 21:36:31,033 INFO sqlalchemy.engine.base.Engine SELECT artist.id AS artist_id, artist.name AS artist_name \n",
      "FROM artist \n",
      "WHERE artist.name = ?\n",
      "2018-07-15 21:36:31,037 INFO sqlalchemy.engine.base.Engine ('Led Zepplin',)\n",
      "1 Led Zepplin\n",
      "3 Led Zepplin\n",
      "5 Led Zepplin\n",
      "7 Led Zepplin\n",
      "9 Led Zepplin\n",
      "11 Led Zepplin\n",
      "13 Led Zepplin\n"
     ]
    }
   ],
   "source": [
    "for row in session.query(Artist).filter_by(name=\"Led Zepplin\"):\n",
    "    print(row.id, row.name)"
   ]
  },
  {
   "cell_type": "markdown",
   "metadata": {},
   "source": [
    "filter_by: filter와 유사한 기능. argument를 sql 문법에 맞게 넣어야 한다.(=where 구문)"
   ]
  },
  {
   "cell_type": "code",
   "execution_count": 184,
   "metadata": {},
   "outputs": [
    {
     "name": "stdout",
     "output_type": "stream",
     "text": [
      "2018-07-15 21:40:55,107 INFO sqlalchemy.engine.base.Engine SELECT track.title AS track_title, album.title AS album_title, genre.name AS genre_name, artist.name AS artist_name \n",
      "FROM track JOIN album ON album.id = track.album_id JOIN genre ON genre.id = track.genre_id JOIN artist ON artist.id = album.artist_id\n",
      "2018-07-15 21:40:55,109 INFO sqlalchemy.engine.base.Engine ()\n",
      "('3-1', '1', 'Rock', 'Led Zepplin')\n",
      "('3-1', '1', 'Rock', 'Led Zepplin')\n"
     ]
    },
    {
     "data": {
      "text/plain": [
       "[{'Track': '3-1', 'Album': '1', 'Genre': 'Rock', 'Artist': 'Led Zepplin'},\n",
       " {'Track': '3-1', 'Album': '1', 'Genre': 'Rock', 'Artist': 'Led Zepplin'}]"
      ]
     },
     "execution_count": 184,
     "metadata": {},
     "output_type": "execute_result"
    }
   ],
   "source": [
    "result = session.query(Track.title, Album.title, Genre.name, Artist.name).select_from(Track).join(Album).join(Genre).join(Artist).all()\n",
    "\n",
    "for row in result:\n",
    "    print(row)\n",
    "    \n",
    "songList = [dict(Track=row[0], Album=row[1], Genre=row[2], Artist=row[3]) for row in result]\n",
    "\n",
    "songList"
   ]
  },
  {
   "cell_type": "markdown",
   "metadata": {},
   "source": [
    "multiple join을 실행하고 그 결과를 dict를 활용하여 list에 넣었다."
   ]
  },
  {
   "cell_type": "code",
   "execution_count": 185,
   "metadata": {},
   "outputs": [],
   "source": [
    "from sqlalchemy.orm import relationship"
   ]
  },
  {
   "cell_type": "markdown",
   "metadata": {},
   "source": [
    "relationship\n",
    "- 2개의 클래스 간 관계 정의.\n",
    "- 부모 관계나 참조 테이블 관계가 있음.\n",
    "- back_populates: 두 클래스 간 관계에서 화살표가 가는 방향은 문제가 없으나 돌아오는 방향을 모르기때문에 돌아오는 곳이 어디인지 명시해주기 위해 사용한다."
   ]
  },
  {
   "cell_type": "code",
   "execution_count": 186,
   "metadata": {},
   "outputs": [],
   "source": [
    "Base = declarative_base()"
   ]
  },
  {
   "cell_type": "code",
   "execution_count": 187,
   "metadata": {},
   "outputs": [],
   "source": [
    "class Artist(Base):\n",
    "    __tablename__ = \"Artist\"\n",
    "    \n",
    "    id = Column(Integer, primary_key=True)\n",
    "    name = Column(String)\n",
    "    \n",
    "    albumList = relationship(\"Album\", back_populates=\"artist\")"
   ]
  },
  {
   "cell_type": "code",
   "execution_count": 188,
   "metadata": {},
   "outputs": [],
   "source": [
    "class Album(Base):\n",
    "    __tablename__ = \"Album\"\n",
    "    \n",
    "    id = Column(Integer, primary_key=True)\n",
    "    title = Column(String)\n",
    "    artist_id = Column(Integer, ForeignKey(\"Artist.id\"))\n",
    "    \n",
    "    artist = relationship(\"Artist\", back_populates=\"albumList\", uselist=False)\n",
    "    trackList = relationship(\"Track\", back_populates=\"album\")"
   ]
  },
  {
   "cell_type": "code",
   "execution_count": 189,
   "metadata": {},
   "outputs": [],
   "source": [
    "class Genre(Base):\n",
    "    __tablename__ = \"Genre\"\n",
    "    \n",
    "    id = Column(Integer, primary_key=True)\n",
    "    name = Column(String)\n",
    "    \n",
    "    trackList = relationship(\"Track\", back_populates=\"genre\")"
   ]
  },
  {
   "cell_type": "code",
   "execution_count": 190,
   "metadata": {},
   "outputs": [],
   "source": [
    "class Track(Base):\n",
    "    __tablename__ = \"Track\"\n",
    "    \n",
    "    id = Column(Integer, primary_key=True)\n",
    "    title = Column(String)\n",
    "    length = Column(Integer)\n",
    "    rating = Column(Integer)\n",
    "    count = Column(Integer)\n",
    "    album_id = Column(Integer, ForeignKey(\"Album.id\"))\n",
    "    genre_id = Column(Integer, ForeignKey(\"Genre.id\"))\n",
    "    \n",
    "    album = relationship(\"Album\", back_populates=\"trackList\", uselist=False)\n",
    "    genre = relationship(\"Genre\", back_populates=\"trackList\", uselist=False)"
   ]
  },
  {
   "cell_type": "code",
   "execution_count": 203,
   "metadata": {},
   "outputs": [],
   "source": [
    "track1 = Track(id=1, title=\"Black Dog\", rating=5, length=297, count=0)\n",
    "track2 = Track(id=2, title=\"Stairway\", rating=5, length=482, count=0)\n",
    "track3 = Track(id=3, title=\"About to rock\", rating=5, length=313, count=0)\n",
    "track4 = Track(id=4, title=\"Who Made Who\", rating=5, length=297, count=0)\n",
    "\n",
    "track1.album = track2.album = Album(title=\"IV\", id=1)\n",
    "track3.album = track4.album = Album(title=\"Who Made Who\", id=2)\n",
    "\n",
    "track1.genre = track3.genre = Genre(name=\"Rock\", id=1)\n",
    "track2.genre = track4.genre = Genre(name=\"Metal\", id=2)\n",
    "\n",
    "track1.album.artist = track2.album.artist = Artist(name=\"Led Zepplin\", id=1)\n",
    "track3.album.artist = track4.album.artist = Artist(name=\"AC/DC\", id=2)"
   ]
  },
  {
   "cell_type": "code",
   "execution_count": 204,
   "metadata": {},
   "outputs": [
    {
     "name": "stdout",
     "output_type": "stream",
     "text": [
      "Title: Black Dog, Album: IV, Genre: Rock, Artist: Led Zepplin\n",
      "Title: About to rock, Album: Who Made Who, Genre: Rock, Artist: AC/DC\n"
     ]
    }
   ],
   "source": [
    "print(\"Title: %s, Album: %s, Genre: %s, Artist: %s\" % (track1.title, track1.album.title, track1.genre.name, track1.album.artist.name))\n",
    "print(\"Title: %s, Album: %s, Genre: %s, Artist: %s\" % (track3.title, track3.album.title, track3.genre.name, track3.album.artist.name))"
   ]
  },
  {
   "cell_type": "code",
   "execution_count": 205,
   "metadata": {},
   "outputs": [
    {
     "name": "stdout",
     "output_type": "stream",
     "text": [
      "TrackID: 1, AlbumID: 1, GenreID: 1, ArtistID: 1\n",
      "TrackID: 3, AlbumID: 2, GenreID: 1, ArtistID: 2\n"
     ]
    }
   ],
   "source": [
    "print(\"TrackID: %d, AlbumID: %d, GenreID: %d, ArtistID: %d\" % (track1.id, track1.album.id, track1.genre.id, track1.album.artist.id))\n",
    "print(\"TrackID: %d, AlbumID: %d, GenreID: %d, ArtistID: %d\" % (track3.id, track3.album.id, track3.genre.id, track3.album.artist.id))"
   ]
  },
  {
   "cell_type": "code",
   "execution_count": null,
   "metadata": {},
   "outputs": [],
   "source": []
  }
 ],
 "metadata": {
  "kernelspec": {
   "display_name": "Python 3",
   "language": "python",
   "name": "python3"
  },
  "language_info": {
   "codemirror_mode": {
    "name": "ipython",
    "version": 3
   },
   "file_extension": ".py",
   "mimetype": "text/x-python",
   "name": "python",
   "nbconvert_exporter": "python",
   "pygments_lexer": "ipython3",
   "version": "3.6.5"
  }
 },
 "nbformat": 4,
 "nbformat_minor": 2
}
