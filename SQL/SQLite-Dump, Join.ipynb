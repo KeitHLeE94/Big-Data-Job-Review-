{
 "cells": [
  {
   "cell_type": "markdown",
   "metadata": {},
   "source": [
    "# SQLite"
   ]
  },
  {
   "cell_type": "markdown",
   "metadata": {},
   "source": [
    "___"
   ]
  },
  {
   "cell_type": "markdown",
   "metadata": {},
   "source": [
    "## Dump"
   ]
  },
  {
   "cell_type": "code",
   "execution_count": 1,
   "metadata": {},
   "outputs": [],
   "source": [
    "import sqlite3"
   ]
  },
  {
   "cell_type": "code",
   "execution_count": 2,
   "metadata": {},
   "outputs": [],
   "source": [
    "conn = sqlite3.connect('track.db')\n",
    "cur = conn.cursor()"
   ]
  },
  {
   "cell_type": "code",
   "execution_count": 89,
   "metadata": {},
   "outputs": [],
   "source": [
    "cur.executescript(\"\"\"\n",
    "    DROP TABLE Artist;\n",
    "    DROP TABLE Genre;\n",
    "    DROP TABLE Album;\n",
    "    DROP TABLE Track;\n",
    "\n",
    "    CREATE TABLE Artist(\n",
    "        id INTEGER NOT NULL PRIMARY KEY AUTOINCREMENT UNIQUE,\n",
    "        name TEXT\n",
    "    );\n",
    "    \n",
    "    CREATE TABLE Genre(\n",
    "        id INTEGER NOT NULL PRIMARY KEY AUTOINCREMENT UNIQUE,\n",
    "        name TEXT\n",
    "    );\n",
    "    \n",
    "    CREATE TABLE Album(\n",
    "        id INTEGER NOT NULL PRIMARY KEY AUTOINCREMENT UNIQUE,\n",
    "        title TEXT,\n",
    "        artist_id INTEGER\n",
    "    );\n",
    "    \n",
    "    CREATE TABLE Track(\n",
    "        id INTEGER NOT NULL PRIMARY KEY AUTOINCREMENT UNIQUE,\n",
    "        title TEXT,\n",
    "        length INTEGER,\n",
    "        rating INTEGER,\n",
    "        count INTEGER,\n",
    "        album_id INTEGER,\n",
    "        genre_id INTEGER\n",
    "    );\n",
    "\"\"\")\n",
    "\n",
    "cur.execute(\"INSERT into Artist (name) VALUES ('Led Zepplin')\")\n",
    "cur.execute(\"INSERT INTO Artist (name) VALUES ('AC/DC')\")\n",
    "cur.execute(\"INSERT INTO Genre (name) VALUES ('Rock')\")\n",
    "cur.execute(\"INSERT INTO Genre (name) VALUES ('Metal')\")\n",
    "cur.execute(\"INSERT INTO Album (title, artist_id) VALUES ('Who Made Who', 2)\")\n",
    "cur.execute(\"INSERT INTO Album (title, artist_id) VALUES ('IV', 1)\")\n",
    "cur.execute(\"INSERT INTO Track (title, rating, length, count, album_id, genre_id) VALUES ('Black Dog', 5, 297, 0, 2, 1)\")\n",
    "cur.execute(\"INSERT INTO Track (title, rating, length, count, album_id, genre_id) VALUES ('Stairway', 5, 482, 0, 2, 1)\")\n",
    "cur.execute(\"INSERT INTO Track (title, rating, length, count, album_id, genre_id) VALUES ('About to Rock', 5, 313, 0, 1, 2)\")\n",
    "cur.execute(\"INSERT INTO Track (title, rating, length, count, album_id, genre_id) VALUES ('Who Made Who', 5, 207, 0, 1, 2)\")\n",
    "\n",
    "conn.commit()"
   ]
  },
  {
   "cell_type": "code",
   "execution_count": 90,
   "metadata": {},
   "outputs": [
    {
     "name": "stdout",
     "output_type": "stream",
     "text": [
      "('Who Made Who', 'AC/DC')\n",
      "('IV', 'Led Zepplin')\n"
     ]
    }
   ],
   "source": [
    "cur.execute(\"SELECT Album.title, Artist.name from Album JOIN Artist ON Album.artist_id = Artist.id\")\n",
    "for row in cur.fetchall():\n",
    "    print(row)"
   ]
  },
  {
   "cell_type": "code",
   "execution_count": 91,
   "metadata": {},
   "outputs": [
    {
     "name": "stdout",
     "output_type": "stream",
     "text": [
      "(1, 'Led Zepplin', 1, 'Who Made Who', 2)\n",
      "(1, 'Led Zepplin', 2, 'IV', 1)\n",
      "(2, 'AC/DC', 1, 'Who Made Who', 2)\n",
      "(2, 'AC/DC', 2, 'IV', 1)\n"
     ]
    }
   ],
   "source": [
    "cur.execute(\"SELECT * from Artist cross join Album\")\n",
    "for row in cur.fetchall():\n",
    "    print(row)"
   ]
  },
  {
   "cell_type": "code",
   "execution_count": 92,
   "metadata": {},
   "outputs": [
    {
     "name": "stdout",
     "output_type": "stream",
     "text": [
      "(2, 'AC/DC', 1, 'Who Made Who', 2)\n",
      "(1, 'Led Zepplin', 2, 'IV', 1)\n"
     ]
    }
   ],
   "source": [
    "cur.execute(\"SELECT * FROM Artist join Album ON Artist.id = Album.artist_id\")\n",
    "for row in cur.fetchall():\n",
    "    print(row)"
   ]
  },
  {
   "cell_type": "code",
   "execution_count": 93,
   "metadata": {},
   "outputs": [
    {
     "name": "stdout",
     "output_type": "stream",
     "text": [
      "('AC/DC', 'Who Made Who')\n",
      "('Led Zepplin', 'IV')\n"
     ]
    }
   ],
   "source": [
    "cur.execute(\"SELECT Artist.name, Album.title FROM Artist join Album ON Artist.id = Album.artist_id\")\n",
    "for row in cur.fetchall():\n",
    "    print(row)"
   ]
  },
  {
   "cell_type": "code",
   "execution_count": 94,
   "metadata": {},
   "outputs": [
    {
     "name": "stdout",
     "output_type": "stream",
     "text": [
      "(2, 'IV', 1, 1, 'Black Dog', 297, 5, 0, 2, 1)\n",
      "(2, 'IV', 1, 2, 'Stairway', 482, 5, 0, 2, 1)\n",
      "(1, 'Who Made Who', 2, 3, 'About to Rock', 313, 5, 0, 1, 2)\n",
      "(1, 'Who Made Who', 2, 4, 'Who Made Who', 207, 5, 0, 1, 2)\n"
     ]
    }
   ],
   "source": [
    "cur.execute(\"SELECT * from Album JOIN Track ON Album.id = Track.album_id\")\n",
    "for row in cur.fetchall():\n",
    "    print(row)"
   ]
  },
  {
   "cell_type": "code",
   "execution_count": 95,
   "metadata": {},
   "outputs": [
    {
     "name": "stdout",
     "output_type": "stream",
     "text": [
      "('Black Dog', 'IV', 'Rock', 'Led Zepplin')\n",
      "('Stairway', 'IV', 'Rock', 'Led Zepplin')\n",
      "('About to Rock', 'Who Made Who', 'Metal', 'AC/DC')\n",
      "('Who Made Who', 'Who Made Who', 'Metal', 'AC/DC')\n"
     ]
    }
   ],
   "source": [
    "cur.execute(\"SELECT Track.title, Album.title, Genre.name, Artist.name FROM Track JOIN Album JOIN Genre JOIN Artist on Track.album_id = Album.id and Track.genre_id = Genre.id and Album.artist_id = Artist.id\")\n",
    "for row in cur.fetchall():\n",
    "    print(row)"
   ]
  },
  {
   "cell_type": "code",
   "execution_count": 97,
   "metadata": {},
   "outputs": [],
   "source": [
    "con = sqlite3.connect('track.db')\n",
    "with open('dump.sql', 'w') as f:\n",
    "    for line in con.iterdump():\n",
    "        f.write('%s\\n' % line)"
   ]
  },
  {
   "cell_type": "markdown",
   "metadata": {},
   "source": [
    "dump: 백업 기능.\n",
    "\n",
    "dump할 db에 connect한 다음 open의 argument로 백업할 파일명을 넣어준다."
   ]
  },
  {
   "cell_type": "code",
   "execution_count": 98,
   "metadata": {},
   "outputs": [],
   "source": [
    "data = None\n",
    "with open('dump.sql', 'r') as f:\n",
    "    data = f.read()"
   ]
  },
  {
   "cell_type": "code",
   "execution_count": 99,
   "metadata": {},
   "outputs": [
    {
     "data": {
      "text/plain": [
       "<sqlite3.Cursor at 0x10c42fa40>"
      ]
     },
     "execution_count": 99,
     "metadata": {},
     "output_type": "execute_result"
    }
   ],
   "source": [
    "conn = sqlite3.connect(':memory:')\n",
    "cur = conn.cursor()\n",
    "cur.executescript(data)"
   ]
  },
  {
   "cell_type": "markdown",
   "metadata": {},
   "source": [
    "위 명령 실행시 dump로 저장된 sql이 전부 실행된다."
   ]
  },
  {
   "cell_type": "markdown",
   "metadata": {},
   "source": [
    "___"
   ]
  },
  {
   "cell_type": "markdown",
   "metadata": {},
   "source": [
    "## Join"
   ]
  },
  {
   "cell_type": "code",
   "execution_count": 100,
   "metadata": {},
   "outputs": [],
   "source": [
    "conn = sqlite3.connect('track.db')\n",
    "cur = conn.cursor()"
   ]
  },
  {
   "cell_type": "code",
   "execution_count": 101,
   "metadata": {},
   "outputs": [
    {
     "data": {
      "text/plain": [
       "<sqlite3.Cursor at 0x10c42fc00>"
      ]
     },
     "execution_count": 101,
     "metadata": {},
     "output_type": "execute_result"
    }
   ],
   "source": [
    "cur.execute(\"INSERT INTO Track (title) values ('아무거나')\")"
   ]
  },
  {
   "cell_type": "code",
   "execution_count": 102,
   "metadata": {
    "scrolled": true
   },
   "outputs": [
    {
     "data": {
      "text/plain": [
       "[(1, 'Black Dog', 297, 5, 0, 2, 1),\n",
       " (2, 'Stairway', 482, 5, 0, 2, 1),\n",
       " (3, 'About to Rock', 313, 5, 0, 1, 2),\n",
       " (4, 'Who Made Who', 207, 5, 0, 1, 2),\n",
       " (5, '아무거나', None, None, None, None, None)]"
      ]
     },
     "execution_count": 102,
     "metadata": {},
     "output_type": "execute_result"
    }
   ],
   "source": [
    "cur.execute(\"SELECT * FROM Track\")\n",
    "cur.fetchall()"
   ]
  },
  {
   "cell_type": "code",
   "execution_count": 103,
   "metadata": {
    "scrolled": true
   },
   "outputs": [
    {
     "data": {
      "text/plain": [
       "[(1, 'Black Dog', 297, 5, 0, 2, 1, 2, 'IV', 1),\n",
       " (2, 'Stairway', 482, 5, 0, 2, 1, 2, 'IV', 1),\n",
       " (3, 'About to Rock', 313, 5, 0, 1, 2, 1, 'Who Made Who', 2),\n",
       " (4, 'Who Made Who', 207, 5, 0, 1, 2, 1, 'Who Made Who', 2),\n",
       " (5, '아무거나', None, None, None, None, None, None, None, None)]"
      ]
     },
     "execution_count": 103,
     "metadata": {},
     "output_type": "execute_result"
    }
   ],
   "source": [
    "cur.execute(\"SELECT * FROM Track LEFT JOIN Album ON Album.id = Track.album_id\")\n",
    "cur.fetchall()"
   ]
  },
  {
   "cell_type": "code",
   "execution_count": 104,
   "metadata": {},
   "outputs": [
    {
     "ename": "OperationalError",
     "evalue": "RIGHT and FULL OUTER JOINs are not currently supported",
     "output_type": "error",
     "traceback": [
      "\u001b[0;31m---------------------------------------------------------------------------\u001b[0m",
      "\u001b[0;31mOperationalError\u001b[0m                          Traceback (most recent call last)",
      "\u001b[0;32m<ipython-input-104-7c2ad3fc79ec>\u001b[0m in \u001b[0;36m<module>\u001b[0;34m()\u001b[0m\n\u001b[0;32m----> 1\u001b[0;31m \u001b[0mcur\u001b[0m\u001b[0;34m.\u001b[0m\u001b[0mexecute\u001b[0m\u001b[0;34m(\u001b[0m\u001b[0;34m\"SELECT * FROM Track RIGHT JOIN Album ON Album.id = Track.album_id\"\u001b[0m\u001b[0;34m)\u001b[0m\u001b[0;34m\u001b[0m\u001b[0m\n\u001b[0m\u001b[1;32m      2\u001b[0m \u001b[0mcur\u001b[0m\u001b[0;34m.\u001b[0m\u001b[0mfetchall\u001b[0m\u001b[0;34m(\u001b[0m\u001b[0;34m)\u001b[0m\u001b[0;34m\u001b[0m\u001b[0m\n",
      "\u001b[0;31mOperationalError\u001b[0m: RIGHT and FULL OUTER JOINs are not currently supported"
     ]
    }
   ],
   "source": [
    "cur.execute(\"SELECT * FROM Track RIGHT JOIN Album ON Album.id = Track.album_id\")\n",
    "cur.fetchall()"
   ]
  },
  {
   "cell_type": "markdown",
   "metadata": {},
   "source": [
    "SQLite에서 Right join은 지원되지 않음."
   ]
  },
  {
   "cell_type": "code",
   "execution_count": 88,
   "metadata": {
    "scrolled": true
   },
   "outputs": [
    {
     "data": {
      "text/plain": [
       "[(1, 'Who Made Who', 2, 3, 'About to Rock', 313, 5, 0, 1, 2),\n",
       " (1, 'Who Made Who', 2, 4, 'Who Made Who', 207, 5, 0, 1, 2),\n",
       " (2, 'IV', 1, 1, 'Black Dog', 297, 5, 0, 2, 1),\n",
       " (2, 'IV', 1, 2, 'Stairway', 482, 5, 0, 2, 1)]"
      ]
     },
     "execution_count": 88,
     "metadata": {},
     "output_type": "execute_result"
    }
   ],
   "source": [
    "cur.execute(\"SELECT * FROM Album LEFT JOIN Track ON Album.id = Track.album_id\")\n",
    "cur.fetchall()"
   ]
  },
  {
   "cell_type": "markdown",
   "metadata": {},
   "source": [
    "같은 Left join이어도 인자로 들어가는 테이블 이름 순서만 바뀌어도 결과가 다르게 나온다.\n",
    "\n",
    "where, join 차이: where가 편하지만 시간, overhead 문제로 join 권장."
   ]
  }
 ],
 "metadata": {
  "kernelspec": {
   "display_name": "Python 3",
   "language": "python",
   "name": "python3"
  },
  "language_info": {
   "codemirror_mode": {
    "name": "ipython",
    "version": 3
   },
   "file_extension": ".py",
   "mimetype": "text/x-python",
   "name": "python",
   "nbconvert_exporter": "python",
   "pygments_lexer": "ipython3",
   "version": "3.6.5"
  }
 },
 "nbformat": 4,
 "nbformat_minor": 2
}
