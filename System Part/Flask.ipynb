{
 "cells": [
  {
   "cell_type": "markdown",
   "metadata": {},
   "source": [
    "# Flask"
   ]
  },
  {
   "cell_type": "markdown",
   "metadata": {},
   "source": [
    "시스템: 사용자에게 어떤 input을 받아 어떤 output을 줄 것인가.\n",
    "\n",
    "웹 입력 방식\n",
    "1. 주소 - flask 활용\n",
    "2. form"
   ]
  },
  {
   "cell_type": "markdown",
   "metadata": {},
   "source": [
    "___"
   ]
  },
  {
   "cell_type": "markdown",
   "metadata": {},
   "source": [
    "## Template 방식"
   ]
  },
  {
   "cell_type": "markdown",
   "metadata": {},
   "source": [
    "#### 1. Old style\n",
    "- % operator 사용\n",
    "- C에서 사용하던 방식과 유사함.\n",
    "- 특정한 고정된 형태에 %s를 사용하여 대치할 부분을 표시하고 대치할 내용 명시.\n",
    "- template 방식의 기본."
   ]
  },
  {
   "cell_type": "markdown",
   "metadata": {},
   "source": [
    "#### 2. New style\n",
    "- {}.format(name): {}부분을 name으로 대체한다.\n",
    "- 전처리시 유용함.\n",
    "- {숫자}: 실행 순서 의미.\n",
    "    * \"Hello, {1}. You are {0}\".format(age, name) = Hello, name. You are age"
   ]
  },
  {
   "cell_type": "code",
   "execution_count": 1,
   "metadata": {},
   "outputs": [
    {
     "data": {
      "text/plain": [
       "'Hello, Eric. You are 74.'"
      ]
     },
     "execution_count": 1,
     "metadata": {},
     "output_type": "execute_result"
    }
   ],
   "source": [
    "person = {'name': 'Eric', 'age': 74}\n",
    "\"Hello, {name}. You are {age}.\".format(**person)"
   ]
  },
  {
   "cell_type": "markdown",
   "metadata": {},
   "source": [
    "#### 3. Format string"
   ]
  },
  {
   "cell_type": "code",
   "execution_count": 2,
   "metadata": {},
   "outputs": [
    {
     "data": {
      "text/plain": [
       "'I am Supernormal'"
      ]
     },
     "execution_count": 2,
     "metadata": {},
     "output_type": "execute_result"
    }
   ],
   "source": [
    "a = 'Supernormal'\n",
    "\n",
    "f'I am {a}'"
   ]
  },
  {
   "cell_type": "code",
   "execution_count": 3,
   "metadata": {},
   "outputs": [
    {
     "data": {
      "text/plain": [
       "'I am Steel Strong'"
      ]
     },
     "execution_count": 3,
     "metadata": {},
     "output_type": "execute_result"
    }
   ],
   "source": [
    "def b():\n",
    "    return 'Steel Strong'\n",
    "\n",
    "f'I am {b()}'"
   ]
  },
  {
   "cell_type": "markdown",
   "metadata": {},
   "source": [
    "{}에 함수나 변수를 넣으면 그대로 대체한다."
   ]
  },
  {
   "cell_type": "code",
   "execution_count": 4,
   "metadata": {},
   "outputs": [
    {
     "data": {
      "text/plain": [
       "'Five plus ten is 15 and not 30'"
      ]
     },
     "execution_count": 4,
     "metadata": {},
     "output_type": "execute_result"
    }
   ],
   "source": [
    "a = 5\n",
    "b = 10\n",
    "\n",
    "f'Five plus ten is {a+b} and not {2*(a+b)}'"
   ]
  },
  {
   "cell_type": "markdown",
   "metadata": {},
   "source": [
    "수식도 넣을 수 있다."
   ]
  },
  {
   "cell_type": "code",
   "execution_count": 5,
   "metadata": {},
   "outputs": [
    {
     "data": {
      "text/plain": [
       "\"Hello, 이재현! How's it going?\""
      ]
     },
     "execution_count": 5,
     "metadata": {},
     "output_type": "execute_result"
    }
   ],
   "source": [
    "def greet(name, question):\n",
    "    return f\"Hello, {name}! How's it {question}?\"\n",
    "\n",
    "greet('이재현', 'going')"
   ]
  },
  {
   "cell_type": "markdown",
   "metadata": {},
   "source": [
    "- 장점: old style(처리속도 가장 빠름)과 속도차이가 크지 않다, 쉽게 함수를 정의할 수 있다.\n",
    "- 단점: 정보 유출 가능성이 있다(old style도 해당함)"
   ]
  },
  {
   "cell_type": "markdown",
   "metadata": {},
   "source": [
    "#### 4. Template string"
   ]
  },
  {
   "cell_type": "code",
   "execution_count": 6,
   "metadata": {},
   "outputs": [
    {
     "data": {
      "text/plain": [
       "'Hey, 이재현!'"
      ]
     },
     "execution_count": 6,
     "metadata": {},
     "output_type": "execute_result"
    }
   ],
   "source": [
    "name = '이재현'\n",
    "\n",
    "from string import Template\n",
    "t = Template('Hey, $name!')\n",
    "t.substitute(name=name)"
   ]
  },
  {
   "cell_type": "markdown",
   "metadata": {},
   "source": [
    "$name: 나중에 name으로 대체됨을 의미 - 유출 문제 해결."
   ]
  },
  {
   "cell_type": "markdown",
   "metadata": {},
   "source": [
    "#### 5. jinja2\n",
    "- {% ... %}: 문장\n",
    "- {{ ... }}: 표현식\n",
    "- {# ... #}: 주석\n",
    "- #...##: 라인 문장 - 쓰지말것.\n",
    "- {%- ... %} or {% ... -%}: 소스 코드에서 빈줄 제거"
   ]
  },
  {
   "cell_type": "markdown",
   "metadata": {},
   "source": [
    "#### jinja package\n",
    "- 바꿀 것을 표시해두고 나중에 대체.\n",
    "- Template String의 보안적 장점 + html 지원 + 상속 지원\n",
    "- html에 최적화되어있다."
   ]
  },
  {
   "cell_type": "markdown",
   "metadata": {},
   "source": [
    "___"
   ]
  },
  {
   "cell_type": "markdown",
   "metadata": {},
   "source": [
    "## Flask\n",
    "- Flask = framework: 웹서비스에 필요한 라이브러리를 모아놓은 것.\n",
    "- 웹서버를 쉽게 사용할 수 있게 해 준다."
   ]
  },
  {
   "cell_type": "markdown",
   "metadata": {},
   "source": [
    "Request\n",
    "- 누군가 요청하면 요청한 내용을 분석하여 response로 주는 것.\n",
    "- agent 정보를 확인하여 어떤 기기에서 요청을 보냈는지 확인(디바이스 종류에 맞는 response 전송)\n",
    "- 주소 기반 => 의미 있게 주소를 만들 것.\n",
    "\n",
    "Response\n",
    "- 어떤 response를 줄 것인가."
   ]
  },
  {
   "cell_type": "markdown",
   "metadata": {},
   "source": [
    "Server\n",
    "- Server = server + framework\n",
    "- 추가 모듈 없으면(파이썬은 WSGI) 동적인 파일은 서비스할 수 없음.\n",
    "\n",
    "WSGI\n",
    "- Web Server Gateway Interface\n",
    "- framework나 server를 어떤 방식으로 만들었는지와 상관없이 이 명세를 제대로 따르면 쉽게 붙여준다.\n",
    "- 사용자(개발자)에게는 감춘다: 자동으로 동작하기 때문."
   ]
  },
  {
   "cell_type": "markdown",
   "metadata": {},
   "source": [
    "Web Framework\n",
    "- Flask, Django, Node.js등\n",
    "- URL Routing 지원: 주소를 입력받았을 때 어떻게 처리할지 결정.\n",
    "- Templating Engine: jinja2 사용.\n",
    "- DB 연결: ORM 사용 - 파이썬 자체적으로 sql을 다루기 위하여."
   ]
  },
  {
   "cell_type": "markdown",
   "metadata": {},
   "source": [
    "Flask = Micro Framework\n",
    "- Micro의 의미: aims to keep the core simple but extensible.\n",
    "- 모든 패키지와 쉽게 결합 가능.\n",
    "- 반대: Full Stack"
   ]
  },
  {
   "cell_type": "markdown",
   "metadata": {},
   "source": [
    "Full Stack\n",
    "- 모든 기능을 다 집어넣었음을 의미.\n",
    "- Django = Full Stack framework."
   ]
  },
  {
   "cell_type": "markdown",
   "metadata": {},
   "source": [
    "FLASK = nice glue around existing tools: Python, SQL Alchemy, Jinja2, Werkzeug\n",
    "- template engine: jinja2\n",
    "- orm: SQL Alchemy\n",
    "- form: WTForm"
   ]
  },
  {
   "cell_type": "markdown",
   "metadata": {},
   "source": [
    "___"
   ]
  },
  {
   "cell_type": "markdown",
   "metadata": {},
   "source": [
    "템플릿을 클라이언트에 리턴 결과로 전달하기\n",
    "\n",
    "return render_template(\"index.html\", lee=users)\n",
    "\n",
    "=> lee: 클라이언트에 전달할 변수 명."
   ]
  }
 ],
 "metadata": {
  "kernelspec": {
   "display_name": "Python 3",
   "language": "python",
   "name": "python3"
  },
  "language_info": {
   "codemirror_mode": {
    "name": "ipython",
    "version": 3
   },
   "file_extension": ".py",
   "mimetype": "text/x-python",
   "name": "python",
   "nbconvert_exporter": "python",
   "pygments_lexer": "ipython3",
   "version": "3.6.5"
  }
 },
 "nbformat": 4,
 "nbformat_minor": 2
}
