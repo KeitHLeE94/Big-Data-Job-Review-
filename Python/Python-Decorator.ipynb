{
 "cells": [
  {
   "cell_type": "markdown",
   "metadata": {},
   "source": [
    "# Decorator"
   ]
  },
  {
   "cell_type": "markdown",
   "metadata": {},
   "source": [
    "## 파이썬 특징\n",
    "- dynamic language: type, function, class를 동적으로 바꿀 수 있다.\n",
    "- function: first order function - 값처럼 행동할 수 있다.\n",
    "    * runtime중 함수를 만들 수 있음.\n",
    "    * 값이 할 수 있는 모든 것을 함수가 할 수 있다.\n",
    "    * 함수를 변수에 할당할 수 있다.(함수도 객체이기 때문에 가능)"
   ]
  },
  {
   "cell_type": "markdown",
   "metadata": {},
   "source": [
    "___"
   ]
  },
  {
   "cell_type": "markdown",
   "metadata": {},
   "source": [
    "## Function"
   ]
  },
  {
   "cell_type": "code",
   "execution_count": 1,
   "metadata": {},
   "outputs": [
    {
     "name": "stdout",
     "output_type": "stream",
     "text": [
      "Hi I'm a function\n",
      "None\n"
     ]
    }
   ],
   "source": [
    "def hello(x):\n",
    "    print(\"Hi I'm a function\")\n",
    "    \n",
    "firs = hello\n",
    "print(firs(12))"
   ]
  },
  {
   "cell_type": "markdown",
   "metadata": {},
   "source": [
    "함수를 변수에 할당하였다.\n",
    "____\n",
    "결과 = None: hello 함수에 명시된 리턴 값이 없기 때문.(함수가 값처럼 복사되기 때문에 리턴값 없으면 None을 반환한다.)\n",
    "\n",
    "=> 항상 함수에 리턴값을 설정해줄 것."
   ]
  },
  {
   "cell_type": "code",
   "execution_count": 2,
   "metadata": {},
   "outputs": [
    {
     "name": "stdout",
     "output_type": "stream",
     "text": [
      "Hi I'm a print\n"
     ]
    }
   ],
   "source": [
    "Ankit = print\n",
    "Ankit(\"Hi I'm a print\")"
   ]
  },
  {
   "cell_type": "markdown",
   "metadata": {},
   "source": [
    "built-in 함수도 변수에 할당할 수 있으나 하지말것."
   ]
  },
  {
   "cell_type": "code",
   "execution_count": 3,
   "metadata": {},
   "outputs": [
    {
     "name": "stdout",
     "output_type": "stream",
     "text": [
      "Hi I'm a function\n",
      "None\n"
     ]
    }
   ],
   "source": [
    "def hello(x):\n",
    "    print(\"Hi I'm a function\")\n",
    "    \n",
    "firs = hello\n",
    "del hello\n",
    "print(firs(12))"
   ]
  },
  {
   "cell_type": "markdown",
   "metadata": {},
   "source": [
    "변수에 할당한 original 함수를 삭제해도 변수에 할당된 함수는 살아있음."
   ]
  },
  {
   "cell_type": "code",
   "execution_count": 4,
   "metadata": {},
   "outputs": [
    {
     "name": "stdout",
     "output_type": "stream",
     "text": [
      "Hi I'm a function\n"
     ]
    },
    {
     "ename": "TypeError",
     "evalue": "'int' object is not callable",
     "output_type": "error",
     "traceback": [
      "\u001b[0;31m---------------------------------------------------------------------------\u001b[0m",
      "\u001b[0;31mTypeError\u001b[0m                                 Traceback (most recent call last)",
      "\u001b[0;32m<ipython-input-4-4d6c7f779635>\u001b[0m in \u001b[0;36m<module>\u001b[0;34m()\u001b[0m\n\u001b[1;32m      4\u001b[0m \u001b[0;34m\u001b[0m\u001b[0m\n\u001b[1;32m      5\u001b[0m \u001b[0mfirs\u001b[0m \u001b[0;34m=\u001b[0m \u001b[0mhello\u001b[0m\u001b[0;34m(\u001b[0m\u001b[0;36m1\u001b[0m\u001b[0;34m)\u001b[0m\u001b[0;34m\u001b[0m\u001b[0m\n\u001b[0;32m----> 6\u001b[0;31m \u001b[0mprint\u001b[0m\u001b[0;34m(\u001b[0m\u001b[0mfirs\u001b[0m\u001b[0;34m(\u001b[0m\u001b[0;36m12\u001b[0m\u001b[0;34m)\u001b[0m\u001b[0;34m)\u001b[0m\u001b[0;34m\u001b[0m\u001b[0m\n\u001b[0m",
      "\u001b[0;31mTypeError\u001b[0m: 'int' object is not callable"
     ]
    }
   ],
   "source": [
    "def hello(x):\n",
    "    print(\"Hi I'm a function\")\n",
    "    return 1\n",
    "\n",
    "firs = hello(1)\n",
    "print(firs(12))"
   ]
  },
  {
   "cell_type": "code",
   "execution_count": 5,
   "metadata": {},
   "outputs": [
    {
     "data": {
      "text/plain": [
       "False"
      ]
     },
     "execution_count": 5,
     "metadata": {},
     "output_type": "execute_result"
    }
   ],
   "source": [
    "callable(firs)"
   ]
  },
  {
   "cell_type": "code",
   "execution_count": 6,
   "metadata": {},
   "outputs": [
    {
     "data": {
      "text/plain": [
       "int"
      ]
     },
     "execution_count": 6,
     "metadata": {},
     "output_type": "execute_result"
    }
   ],
   "source": [
    "type(firs)"
   ]
  },
  {
   "cell_type": "markdown",
   "metadata": {},
   "source": [
    "firs: hello 함수의 리턴값이 1로 명시되었으므로 int 1이 할당되어 not callable."
   ]
  },
  {
   "cell_type": "code",
   "execution_count": 7,
   "metadata": {},
   "outputs": [
    {
     "name": "stdout",
     "output_type": "stream",
     "text": [
      "Hi I'm a function\n",
      "Hi I'm a function\n",
      "<function hello at 0x1084ad6a8>\n"
     ]
    }
   ],
   "source": [
    "def hello(x):\n",
    "    print(\"Hi I'm a function\")\n",
    "    return hello\n",
    "\n",
    "firs = hello(1)\n",
    "print(firs(12))"
   ]
  },
  {
   "cell_type": "code",
   "execution_count": 8,
   "metadata": {},
   "outputs": [
    {
     "name": "stdout",
     "output_type": "stream",
     "text": [
      "Hi I'm a function\n",
      "Hi I'm a function\n",
      "Hi I'm a function\n",
      "Hi I'm a function\n"
     ]
    },
    {
     "data": {
      "text/plain": [
       "<function __main__.hello(x)>"
      ]
     },
     "execution_count": 8,
     "metadata": {},
     "output_type": "execute_result"
    }
   ],
   "source": [
    "hello(1)(2)(3)(1)"
   ]
  },
  {
   "cell_type": "markdown",
   "metadata": {},
   "source": [
    "hello 함수: 리턴값을 함수 자신으로 설정함 => 인자를 받은 횟수만큼 반복하여 실행됨.\n",
    "\n",
    "출력 = <function __main__.hello(x)>: 리턴값이 함수로 설정되어 있기에 값이 아닌 출력.\n",
    "=> 파이썬은 실행된다고 항상 값이 나오는 것이 아니다."
   ]
  },
  {
   "cell_type": "code",
   "execution_count": 9,
   "metadata": {},
   "outputs": [
    {
     "name": "stdout",
     "output_type": "stream",
     "text": [
      "look\n",
      "hello\n",
      "oh 18\n",
      "0\n",
      "0\n",
      "0\n"
     ]
    }
   ],
   "source": [
    "def bye():\n",
    "    print('look')\n",
    "    return 0\n",
    "\n",
    "def hello():\n",
    "    print('hello')\n",
    "    return 0\n",
    "\n",
    "def byea(r):\n",
    "    print('oh', r)\n",
    "    return 0\n",
    "\n",
    "l = [bye(), hello(), byea(18)]\n",
    "\n",
    "for i in l:\n",
    "    print(i)"
   ]
  },
  {
   "cell_type": "markdown",
   "metadata": {},
   "source": [
    "look 0 hello 0 oh 18 0 순서가 아님\n",
    "1. 리스트에 넣으면서 모든 함수가 호출되어 print문이 실행된다.\n",
    "2. print문 실행이 끝나고 각 함수의 리턴값이 리스트에 저장된다."
   ]
  },
  {
   "cell_type": "markdown",
   "metadata": {},
   "source": [
    "___"
   ]
  },
  {
   "cell_type": "markdown",
   "metadata": {},
   "source": [
    "## Closure\n",
    "- 함수 안에서 함수를 정의할 수 있다.\n",
    "- 동적으로 함수를 만들 수 있어 많이 사용된다.\n",
    "- 인자에 따라 행동이 바뀌는 함수를 정의할 수 있다."
   ]
  },
  {
   "cell_type": "code",
   "execution_count": 12,
   "metadata": {
    "scrolled": true
   },
   "outputs": [
    {
     "name": "stdout",
     "output_type": "stream",
     "text": [
      "<function hello.<locals>.bye at 0x1084ad730>\n",
      "11\n",
      "10\n"
     ]
    }
   ],
   "source": [
    "def hello(x):\n",
    "    x = 11\n",
    "    def bye():\n",
    "        print(x)\n",
    "        return x-1\n",
    "    return bye\n",
    "\n",
    "er = hello(13)\n",
    "print(er)\n",
    "print(er())"
   ]
  },
  {
   "cell_type": "markdown",
   "metadata": {},
   "source": [
    "print(er): bye 함수 자체를 반환."
   ]
  },
  {
   "cell_type": "markdown",
   "metadata": {},
   "source": [
    "print(er()) = bye 함수까지 실행해라.\n",
    "1. hello(13)이 호출되어 x가 11로 바뀐다.\n",
    "2. hello 함수의 리턴인 bye 함수가 실행되어 11이 출력된다. \n",
    "3. bye 함수의 리턴값인 10이 er()의 리턴값이 되어 10이 출력된다."
   ]
  },
  {
   "cell_type": "code",
   "execution_count": 14,
   "metadata": {},
   "outputs": [
    {
     "name": "stdout",
     "output_type": "stream",
     "text": [
      "<function hello.<locals>.by at 0x1084adbf8>\n",
      "ankit\n",
      "ANKIT\n"
     ]
    }
   ],
   "source": [
    "import math\n",
    "\n",
    "def demo_one():\n",
    "    return math.sqrt\n",
    "\n",
    "def hello(x):\n",
    "    def by():\n",
    "        print(x)\n",
    "        return x.upper()\n",
    "    return by\n",
    "\n",
    "print(hello('ankit'))\n",
    "print(hello('ankit')())"
   ]
  },
  {
   "cell_type": "markdown",
   "metadata": {},
   "source": [
    "마찬가지로 hello('ankit')()까지 써줘야 제대로 된 출력이 나온다."
   ]
  },
  {
   "cell_type": "code",
   "execution_count": 15,
   "metadata": {},
   "outputs": [
    {
     "name": "stdout",
     "output_type": "stream",
     "text": [
      "3\n",
      "2\n",
      "6\n"
     ]
    }
   ],
   "source": [
    "def funcwrapper(y):\n",
    "    print(y)\n",
    "    def addone(x):\n",
    "        print(x)\n",
    "        return x+y+1\n",
    "    return addone\n",
    "\n",
    "result = funcwrapper(3)(2)\n",
    "print(result)"
   ]
  },
  {
   "cell_type": "markdown",
   "metadata": {},
   "source": [
    "funcwrapper(3)(2): y=3, x=2로 전달되어 실행됨."
   ]
  },
  {
   "cell_type": "markdown",
   "metadata": {},
   "source": [
    "#### Closure: 인자를 어떻게 주느냐에 따라 함수 실행 결과가 바뀐다."
   ]
  },
  {
   "cell_type": "markdown",
   "metadata": {},
   "source": [
    "___"
   ]
  },
  {
   "cell_type": "markdown",
   "metadata": {},
   "source": [
    "## Decorator"
   ]
  },
  {
   "cell_type": "code",
   "execution_count": 16,
   "metadata": {},
   "outputs": [
    {
     "name": "stdout",
     "output_type": "stream",
     "text": [
      "I am a nested function 12\n",
      "None\n"
     ]
    }
   ],
   "source": [
    "def demo(x):\n",
    "    def ine():\n",
    "        print('I am a nested function', x)\n",
    "    return ine()\n",
    "print(demo(12))"
   ]
  },
  {
   "cell_type": "markdown",
   "metadata": {},
   "source": [
    "return ine가 아닌 return ine()이므로 demo(12)까지만 써줘도 demo, ine 함수가 전부 실행된다."
   ]
  },
  {
   "cell_type": "code",
   "execution_count": 17,
   "metadata": {},
   "outputs": [
    {
     "name": "stdout",
     "output_type": "stream",
     "text": [
      "I am a nested function 12\n",
      "None\n"
     ]
    }
   ],
   "source": [
    "def demo(x):\n",
    "    def ine():\n",
    "        print('I am a nested function', x)\n",
    "    return ine\n",
    "print(demo(12)())"
   ]
  },
  {
   "cell_type": "markdown",
   "metadata": {},
   "source": [
    "return ine이므로 demo(12)()까지 써줘야 demo, ine 함수가 전부 실행된다."
   ]
  },
  {
   "cell_type": "code",
   "execution_count": 18,
   "metadata": {},
   "outputs": [
    {
     "name": "stdout",
     "output_type": "stream",
     "text": [
      "before the decoratr\n",
      "1\n",
      "after the decorat\n",
      "None\n"
     ]
    }
   ],
   "source": [
    "def hello(func):\n",
    "    def bye(x):\n",
    "        print('before the decoratr')\n",
    "        func(x)\n",
    "        print('after the decorat')\n",
    "    return bye\n",
    "\n",
    "def hi(sa):\n",
    "    print(sa)\n",
    "    \n",
    "print(hello(hi)(1))"
   ]
  },
  {
   "cell_type": "markdown",
   "metadata": {},
   "source": [
    "hello 함수의 인자로 hi 함수, bye 함수의 인자로 1이 들어간 실행결과."
   ]
  },
  {
   "cell_type": "code",
   "execution_count": 19,
   "metadata": {},
   "outputs": [
    {
     "name": "stdout",
     "output_type": "stream",
     "text": [
      "before the decoratr\n",
      "1\n",
      "after the decorat\n"
     ]
    }
   ],
   "source": [
    "def hello(func):\n",
    "    def bye(x):\n",
    "        print('before the decoratr')\n",
    "        func(x)\n",
    "        print('after the decorat')\n",
    "    return bye\n",
    "\n",
    "@hello\n",
    "def hi(sa):\n",
    "    print(sa)\n",
    "    \n",
    "hi(1)"
   ]
  },
  {
   "cell_type": "markdown",
   "metadata": {},
   "source": [
    "@hello(decorator) = hello함수의 인자로 hi 함수를 넣겠다."
   ]
  },
  {
   "cell_type": "code",
   "execution_count": 22,
   "metadata": {},
   "outputs": [
    {
     "name": "stdout",
     "output_type": "stream",
     "text": [
      "12\n",
      "before the decoratr\n",
      "this is new function 10\n",
      "after the decorat\n",
      "None\n",
      "12\n",
      "before the decoratr\n",
      "this is new function 10\n",
      "after the decorat\n",
      "<function extrafun.<locals>.decorator.<locals>.wrapper at 0x1084dbae8>\n"
     ]
    }
   ],
   "source": [
    "def extrafun(hi):\n",
    "    print(hi)\n",
    "    def decorator(func):\n",
    "        def wrapper(x):\n",
    "            print('before the decoratr')\n",
    "            func(x)\n",
    "            print('after the decorat')\n",
    "        return wrapper\n",
    "    return decorator\n",
    "\n",
    "@extrafun(12)\n",
    "def newfunc(c):\n",
    "    print('this is new function', c)\n",
    "    return 7\n",
    "\n",
    "print(newfunc(10))\n",
    "print(extrafun(12)(newfunc(10)))"
   ]
  },
  {
   "cell_type": "markdown",
   "metadata": {},
   "source": [
    "최소 3중 함수 구조로 정의하면 decorator에 인자를 넣을 수 있다."
   ]
  }
 ],
 "metadata": {
  "kernelspec": {
   "display_name": "Python 3",
   "language": "python",
   "name": "python3"
  },
  "language_info": {
   "codemirror_mode": {
    "name": "ipython",
    "version": 3
   },
   "file_extension": ".py",
   "mimetype": "text/x-python",
   "name": "python",
   "nbconvert_exporter": "python",
   "pygments_lexer": "ipython3",
   "version": "3.6.5"
  }
 },
 "nbformat": 4,
 "nbformat_minor": 2
}
