{
 "cells": [
  {
   "cell_type": "markdown",
   "metadata": {},
   "source": [
    "# Recommendation"
   ]
  },
  {
   "cell_type": "markdown",
   "metadata": {},
   "source": [
    "## 추천: 과거 데이터를 기반으로."
   ]
  },
  {
   "cell_type": "markdown",
   "metadata": {},
   "source": [
    "추천의 명암\n",
    "- 명: 파레토 법칙: 세상은 20%가 움직인다. => 아마존 추천 기법: 나머지 80%의 판매량을 늘렸다.\n",
    "    * Long Tail 법칙: 20%보다 나머지 80%가 더 중요하다.(대중의 힘)\n",
    "    * 다품종 소량생산: 필터링, 추천에 기반함.\n",
    "\n",
    "- 암: 필터 버블: 필터가 거품처럼 늘어남.\n",
    "    * 가짜 뉴스, 네이버 실검 조작 문제 - 생각 조종자들.\n",
    "    * 좋아하는 정보만 보게 된다: 생각이 편향됨, 정보 왜곡.\n",
    "    * 필터링된 정보는 사람의 감정도 바꿀 수 있다."
   ]
  },
  {
   "cell_type": "markdown",
   "metadata": {},
   "source": [
    "추천 시스템: 사용자가 선호할만한 아이템을 추측함으로써 여러가지 항목 중 사용자에게 적합한 특정 항목을 선택하여 제공하는 시스템.\n",
    "- 협업 필터링\n",
    "    * A가 x, y를 샀고 B도 x, y를 사고 C도 x, y를 샀을 때 A, B, C는 비슷한 성향을 갖는다는 것에 기반. A, C가 z를 샀으면 B에게 z를 추천하는 방식.\n",
    "    * 나와 유사한 사람이 과거에 했던 것을 미래에 할 것이라고 예측하는 것.\n",
    "    * 유사도 측정 중요: 인구 통계 등 활용.\n",
    "- 콘텐츠(내용) 기반 필터링\n",
    "    * 한가지 장르의 음악을 들었을 때 그 특정 장르의 음악을 계속 추천.\n",
    "    * 콘텐츠 자체의 유사도만 가지고 추천.(과거의 내 행동을 기반으로 추천)\n",
    "    * 콘텐츠간 유사도: 지식 기반 등 다양한 방법.\n",
    "    * 유사도 측정에 딥러닝 사용하기도 함.\n",
    "    * 예) 공무원 강의 추천: 합격 후기, 사용자의 인적사항(유사한 상황적 조건)을 기반으로 추천."
   ]
  },
  {
   "cell_type": "markdown",
   "metadata": {},
   "source": [
    "### 협업 필터링\n",
    "- 비슷한 패턴 찾는것이 핵심: 과거의 자료가 중요.\n",
    "- 과거의 자료를 어떻게 활용할것인가.\n",
    "- KNN\n",
    "- 장점\n",
    "    * Serendipity: 신선한 추천 가능(뜻밖의 추천) - 실제 구매로 이어지는 경우가 많다(사람은 비이성적이다)\n",
    "    * 상대적으로 적은 데이터로도 가능함.\n",
    "    * 콘텐츠 기반 필터링과 큰 차이 없음.\n",
    "- 단점\n",
    "    * Cold Start 문제: 과거 데이터가 없어 시작할 수 없는 문제.(신곡: 들어본사람이 없으므로 추천 불가)\n",
    "    * Long Tail 문제: 추천이 오히려 사용자의 기호를 편향시킬 수 있다.\n",
    "    * 계산량이 많으므로 사용자 수가 많으면 효율적 추천 불가능.\n",
    "    * 취향이 특이한 사용자 존재시 문제.\n",
    "- User Based, Item Based, Memory Based(KNN), Model Based(PCA, SVD)"
   ]
  },
  {
   "cell_type": "markdown",
   "metadata": {},
   "source": [
    "### 콘텐츠 기반 필터링\n",
    "- 항목 자체를 분석하여 추천.\n",
    "- 콘텐츠 분석 알고리즘이 핵심.\n",
    "- TF-IDF, Artificial neural network, Clusturing analysis\n",
    "- 장점\n",
    "    * Cold Start 문제가 없다.\n",
    "- 단점\n",
    "    * Serendipity 불가능: 유사한 항목만 추천하므로.\n",
    "    * item profile과 user profile을 어떻게 연관시킬 것인가."
   ]
  },
  {
   "cell_type": "markdown",
   "metadata": {},
   "source": [
    "### Cold Start 문제 해결\n",
    "- item cold start: 협업 필터링에서는 새로운 item에 대한 추천 불가.\n",
    "    * contents 정보 이용\n",
    "    * 추천 안하는 방법도 방법임.\n",
    "- user cold start: 새로운 사용자에 대해서는 추천 불가.\n",
    "    * 데이터가 쌓일때까지 현재 가장 인기있는 품목 추천.\n",
    "    * 인구 통계학적 유사도를 기반으로 추천: 실제 성능은 안좋음.\n",
    "- system cold start: 아무것도 없는 상태에서 추천 불가.\n",
    "    * 차원 축소: 넷플릭스에서 사용한 방법.\n",
    "    * feature based: feature와 item을 미리 매칭시켜놓고 사용자를 매칭시키는 방법.(잘 쓰는건 아님)"
   ]
  },
  {
   "cell_type": "markdown",
   "metadata": {},
   "source": [
    "### 사람의 기호가 너무 자주 바뀌는 문제 해결\n",
    "- 어떻게 알아차리나: 보통 사람들이 안보는 항목을 보는 경우, 특정 주기에서 갑자기 다른 카테고리로 넘어가는 경우\n",
    "- 모델 기반 협력 필터링: 기존 항목간 유사성을 단순하게 비교하는 것을 벗어나 자료에 내재된 패턴을 이용하는 기법.\n",
    "    * 숨은 내용을 어떻게 찾는지가 핵심."
   ]
  },
  {
   "cell_type": "markdown",
   "metadata": {},
   "source": [
    "처음에는 콘텐츠 기반, 나중에 협업 필터링 쓰는 방법(hybrid) - 현실적으로 어렵다.\n",
    "___\n",
    "### 문제가 없는 solution은 없다."
   ]
  },
  {
   "cell_type": "markdown",
   "metadata": {},
   "source": [
    "협업 필터링 추천 과정 - User based\n",
    "1. 가져온 데이터를 pandas로 변형\n",
    "2. 샀거나 안샀거나 등 표시\n",
    "3. 표시된 데이터를 normalize: 사면 1, 안사면 0 등의 방법.\n",
    "4. Vector & Dimension: \n",
    "    - Vector = row or tuple(user), Dimension = column(item)\n",
    "    - Matrix 형태로 만든다.\n",
    "5. 유사도 측정: User Similarity Matrix.\n",
    "    - 계산 방법\n",
    "        * cosine similarity(벡터 내적 활용) - 값이 클수록 유사하다. \n",
    "        * pearson 상관계수\n",
    "    - 어떤 유사도를 쓰는지도 중요한 문제다.\n",
    "6. KNN 사용: 유사도가 큰 순서대로 정렬하여 K개 만큼만 남겨 활용.\n",
    "    - 유사도가 높은 사람들이 산 품목 목록 확인.\n",
    "    - 내가 샀으면 목록에서 삭제."
   ]
  },
  {
   "cell_type": "markdown",
   "metadata": {},
   "source": [
    "협업 필터링 추천 과정 - Item based\n",
    "- User based에서 vector 행, 열만 바꿔주면 됨.\n",
    "- User based보다 성능 좋음 - 주로 사용함.\n",
    "- 콘텐츠를 사용한 사람의 기록으로 유사도를 측정한다."
   ]
  },
  {
   "cell_type": "markdown",
   "metadata": {},
   "source": [
    "콘텐츠 기반 필터링 추천 과정\n",
    "- 사람이 했던 경험 요소가 없다.\n",
    "- 콘텐츠 내용 자체로 유사도를 측정한다.\n",
    "\n",
    "\n",
    "1. feature들을 만든다 - feature가 많을수록 성능 향상.\n",
    "2. feature들을 숫자로 표시한다\n",
    "3. item들에 대해 feature별 유사도 측정\n",
    "4. KNN 사용"
   ]
  }
 ],
 "metadata": {
  "kernelspec": {
   "display_name": "Python 3",
   "language": "python",
   "name": "python3"
  },
  "language_info": {
   "codemirror_mode": {
    "name": "ipython",
    "version": 3
   },
   "file_extension": ".py",
   "mimetype": "text/x-python",
   "name": "python",
   "nbconvert_exporter": "python",
   "pygments_lexer": "ipython3",
   "version": "3.6.5"
  }
 },
 "nbformat": 4,
 "nbformat_minor": 2
}
